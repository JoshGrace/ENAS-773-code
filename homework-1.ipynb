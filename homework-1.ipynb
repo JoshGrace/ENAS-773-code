{
 "cells": [
  {
   "cell_type": "code",
   "execution_count": 2,
   "metadata": {},
   "outputs": [],
   "source": [
    "import numpy as np"
   ]
  },
  {
   "cell_type": "code",
   "execution_count": 12,
   "metadata": {},
   "outputs": [
    {
     "name": "stdout",
     "output_type": "stream",
     "text": [
      "[[ 1 -2]\n",
      " [-3  6]]\n",
      "[[31]\n",
      " [ 6]]\n",
      "0.0\n"
     ]
    }
   ],
   "source": [
    "A = np.array([[1, -2], [-3, 6]])\n",
    "b = np.array([[31, 6]]).T\n",
    "print(A)\n",
    "print(b)\n",
    "print(np.linalg.det(A))\n",
    "# print(np.linalg.inv(A) @ b)"
   ]
  }
 ],
 "metadata": {
  "kernelspec": {
   "display_name": "Python 3",
   "language": "python",
   "name": "python3"
  },
  "language_info": {
   "codemirror_mode": {
    "name": "ipython",
    "version": 3
   },
   "file_extension": ".py",
   "mimetype": "text/x-python",
   "name": "python",
   "nbconvert_exporter": "python",
   "pygments_lexer": "ipython3",
   "version": "3.7.0"
  },
  "orig_nbformat": 4
 },
 "nbformat": 4,
 "nbformat_minor": 2
}
