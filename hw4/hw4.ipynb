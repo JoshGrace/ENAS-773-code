{
 "cells": [
  {
   "cell_type": "markdown",
   "metadata": {},
   "source": [
    "# Homework 4: Euler-Lagrange Equations (Creating your own physics sim)\n",
    "\n",
    "In this homework assignment, you will work on examples that give you the basics of how to create your own simulator to model most robotic systems using the Euler-Lagrange equations.\n",
    "\n",
    "Below you are given the dynamics of a double pendulum (or a 2R robot arm) as shown in the figure below.  \n",
    "<img src=\"./double_pend.png\" width=\"420\">\n",
    "\n",
    "You will solve for the dynamics of the double pendulum system in three ways. \n",
    "\n",
    "1. Hand-written through the Euler-Lagrange equation\n",
    "2. Numerically using geometry \n",
    "3. Numerically using Lie Groups \n",
    "\n",
    "Below are the constants for the double pendulum and helper functions for integration. Read them closely. \n",
    "\n",
    "Use $q=[\\theta_1, \\theta_2]^\\top$ as your double pendulum configuration."
   ]
  },
  {
   "cell_type": "code",
   "execution_count": 1,
   "metadata": {
    "pycharm": {
     "is_executing": true
    }
   },
   "outputs": [
    {
     "name": "stdout",
     "output_type": "stream",
     "text": [
      "Import packages works! Great work following directions :D !\n"
     ]
    }
   ],
   "source": [
    "# Import packages \n",
    "try: \n",
    "    from jax import config\n",
    "    config.update(\"jax_enable_x64\", True)\n",
    "    import meshcat\n",
    "    import meshcat.geometry as geom\n",
    "    import meshcat.transformations as tfm\n",
    "    import numpy as onp\n",
    "    import time\n",
    "    import jax.numpy as np\n",
    "    import jax\n",
    "    from jax import jacfwd, hessian\n",
    "    from jaxlie import SE2, SE3\n",
    "    import matplotlib.pyplot as plt\n",
    "    \n",
    "    print('Import packages works! Great work following directions :D !')\n",
    "except Exception as e:\n",
    "    print('Something went wrong. The following error tells you what happened. Go through README.md again and see what went wrong')\n",
    "    print(e)\n",
    "\n",
    "\n",
    "# Constants\n",
    "_l1 = 1.0\n",
    "_l2 = 1.0 \n",
    "_m1 = 1.0 \n",
    "_m2 = 1.0\n",
    "_g = 9.81\n",
    "\n",
    "# Helper functions for integration \n",
    "def euler_step(f, x, dt):\n",
    "    \"\"\"\n",
    "        Input:\n",
    "            xdot = f(x) - function to be integrated, passed as f\n",
    "            x - initial condition to the function \n",
    "            dt - time step \n",
    "        Output: \n",
    "            x[t+dt] \n",
    "    \"\"\"\n",
    "    xdot = x + dt * f(x)\n",
    "    return xdot\n",
    "\n",
    "def rk4_step(f, x, dt):\n",
    "    \"\"\"\n",
    "        Input:\n",
    "            xdot = f(x) - function to be integrated, passed as f\n",
    "            x - initial condition to the function \n",
    "            dt - time step \n",
    "        Output: \n",
    "            x[t+dt] \n",
    "    \"\"\"\n",
    "    # one step of runge-kutta integration\n",
    "    k1 = f(x)\n",
    "    k2 = f(x + dt*k1/2)\n",
    "    k3 = f(x + dt*k2/2)\n",
    "    k4 = f(x + dt*k3)\n",
    "    xdot = x + 1/6*(k1+2*k2+2*k3+k4)*dt\n",
    "    return xdot "
   ]
  },
  {
   "cell_type": "markdown",
   "metadata": {},
   "source": [
    "## Q.1 Hand-written Equations of motion for the double pendulum\n",
    "\n",
    "In this question, you will be tasked to write down the equations of motion for the double pendulum by hand. "
   ]
  },
  {
   "cell_type": "markdown",
   "metadata": {},
   "source": [
    "### Q1.a Analytically Derived E-L Equations of Motion\n",
    "\n",
    "Write the analytical solution to the Euler-Lagrange equation using LaTex expression below or through hand-written upload. "
   ]
  },
  {
   "cell_type": "markdown",
   "metadata": {},
   "source": [
    "$$KE = \\frac{1}{2}m_1(\\dot{x}^2_1 + \\dot{y}^2_1) + \\frac{1}{2}m_2(\\dot{x}^2_2 + \\dot{y}^2_2)$$\n",
    "\n",
    "The first part of this equation, $KE_1 = \\frac{1}{2}m_1(\\dot{x}^2_1 + \\dot{y}^2_1)$ simplifies to the single pendulum equation $KE_1 = \\frac{1}{2} \\cdot m_1 \\cdot l_1^2 \\cdot \\dot{\\theta}_1^2$\n",
    "\n",
    "The second part of the equation determines $KE_2$. This is unfortunately more complicated, so we'll need to start with $\\frac{1}{2}m_2(\\dot{x}^2_2 + \\dot{y}^2_2)$. Focusing on the velocity portion of the equation $\\dot{x}^2_2 + \\dot{y}^2_2$, for a double pendulumn, this is\n",
    "$$(l_1 \\dot{\\theta}_1 cos(\\theta_1) + l_2  (\\dot{\\theta}_1 + \\dot{\\theta}_2) cos(\\theta_1 + \\theta_2))^2 + (l_1 \\dot{\\theta}_1 sin(\\theta_1) + l_2  (\\dot{\\theta}_1 + \\dot{\\theta}_2) sin(\\theta_1 + \\theta_2))^2$$\n",
    "\n",
    "$$ = l_1^2 \\dot{\\theta}_1^2 cos(\\theta_1)^2 + l_2^2 (\\dot{\\theta}_1 + \\dot{\\theta}_2)^2 cos(\\theta_1 + \\theta_2)^2 + 2 l_1 \\dot{\\theta}_1 cos(\\theta_1) l_2  (\\dot{\\theta}_1 + \\dot{\\theta}_1^2) cos(\\theta_1 + \\theta_2) + l_1^2 \\dot{\\theta}_1^2 sin(\\theta_1)^2 + l_2^2 (\\dot{\\theta}_1 + \\dot{\\theta}_2)^2 sin(\\theta_1 + \\theta_2)^2 + 2 l_1 \\dot{\\theta}_1 sin(\\theta_1) l_2  (\\dot{\\theta}_1 + \\dot{\\theta}_1^2) sin(\\theta_1 + \\theta_2)$$\n",
    "\n",
    "$$ = l_1^2 \\dot{\\theta}_1^2 cos(\\theta_1)^2 + l_1^2 \\dot{\\theta}_1^2 sin(\\theta_1)^2 + l_2^2 (\\dot{\\theta}_1 + \\dot{\\theta}_2)^2 cos(\\theta_1 + \\theta_2)^2 + l_2^2 (\\dot{\\theta}_1 + \\dot{\\theta}_2)^2 sin(\\theta_1 + \\theta_2)^2 +  2 l_1 \\dot{\\theta}_1 cos(\\theta_1) l_2  (\\dot{\\theta}_1 + \\dot{\\theta}_1^2) cos(\\theta_1 + \\theta_2) + 2 l_1 \\dot{\\theta}_1 sin(\\theta_1) l_2  (\\dot{\\theta}_1 + \\dot{\\theta}_1^2) sin(\\theta_1 + \\theta_2)$$\n",
    "\n",
    "$$ = l_1^2 \\dot{\\theta}_1^2(cos(\\theta_1)^2 + sin(\\theta_1)^2) + l_2^2 (\\dot{\\theta}_1 + \\dot{\\theta}_2)^2 (cos(\\theta_1 + \\theta_2)^2 + sin(\\theta_1 + \\theta_2)^2) + 2 l_1 \\dot{\\theta}_1 cos(\\theta_1) l_2  (\\dot{\\theta}_1 + \\dot{\\theta}_2)^2 cos(\\theta_1 + \\theta_2) + 2 l_1 \\dot{\\theta}_1 sin(\\theta_1) l_2  (\\dot{\\theta}_1 + \\dot{\\theta}_2)^2 sin(\\theta_1 + \\theta_2)$$\n",
    "\n",
    "$$ = l_1^2 \\dot{\\theta}_1^2 + l_2^2 (\\dot{\\theta}_1 + \\dot{\\theta}_2)^2 + 2 l_1 \\dot{\\theta}_1 cos(\\theta_1) l_2  (\\dot{\\theta}_1 + \\dot{\\theta}_2)^2 cos(\\theta_1 + \\theta_2) + 2 l_1 \\dot{\\theta}_1 sin(\\theta_1) l_2  (\\dot{\\theta}_1 + \\dot{\\theta}_2)^2 sin(\\theta_1 + \\theta_2)$$\n",
    "\n",
    "$$ = l_1^2 \\dot{\\theta}_1^2 + l_2^2 (\\dot{\\theta}_1 + \\dot{\\theta}_2)^2 + 2 l_1 \\dot{\\theta}_1 l_2 (\\dot{\\theta}_1 + \\dot{\\theta}_2)^2 cos(\\theta_1) cos(\\theta_1 + \\theta_2) + 2 l_1 \\dot{\\theta}_1 l_2 (\\dot{\\theta}_1 + \\dot{\\theta}_2)^2 sin(\\theta_1) sin(\\theta_1 + \\theta_2)$$\n",
    "\n",
    "$$ = l_1^2 \\dot{\\theta}_1^2 + l_2^2 (\\dot{\\theta}_1 + \\dot{\\theta}_2)^2 + 2 l_1 \\dot{\\theta}_1 l_2 (\\dot{\\theta}_1 + \\dot{\\theta}_2)^2(cos(\\theta_1) cos(\\theta_1 + \\theta_2) + sin(\\theta_1) sin(\\theta_1 + \\theta_2))$$\n",
    "\n",
    "$$ = l_1^2 \\dot{\\theta}_1^2 + l_2^2 (\\dot{\\theta}_1 + \\dot{\\theta}_2)^2 + 2 l_1 \\dot{\\theta}_1 l_2 (\\dot{\\theta}_1 + \\dot{\\theta}_2)^2cos(\\theta_2)$$\n",
    "\n",
    "Accordingly, $KE_2 = \\frac{1}{2} m_2(l_1^2 \\dot{\\theta}_1^2 + l_2^2 (\\dot{\\theta}_1 + \\dot{\\theta}_2)^2 + 2 l_1 \\dot{\\theta}_1 l_2 (\\dot{\\theta}_1 + \\dot{\\theta}_2)^2cos(\\theta_2))$\n",
    "\n",
    "$$KE = \\frac{1}{2} \\cdot m_1 \\cdot l_1^2 \\cdot \\dot{\\theta}_1^2 + \\frac{1}{2} m_2(l_1^2 \\dot{\\theta}_1^2 + l_2^2 (\\dot{\\theta}_1 + \\dot{\\theta}_2)^2 + 2 l_1 \\dot{\\theta}_1 l_2 (\\dot{\\theta}_1 + \\dot{\\theta}_2)^2 cos(\\theta_2))$$\n",
    "\n",
    "---\n",
    "\n",
    "$$PE = m_1 \\cdot g \\cdot y_1 + m_2 \\cdot g \\cdot y_2$$\n",
    "\n",
    "Given the above image, $y_1$ can be computed based on trig, using $\\text{cos}(\\theta_1) = \\frac{y_1}{-l_1}$, $y_1 = -l_1 \\cdot \\text{cos}(\\theta_1)$.\n",
    "\n",
    "To find $y_2$, we first need to find $y_2$ relative to $m_1$. The angle in this frame is $\\theta_1 + \\theta_2$ as the angles add together. This can be computed based on trig, using $\\text{cos}(\\theta_1 + \\theta_2) = \\frac{y_2}{-l_2}$, $y_2 = -l_2 \\cdot \\text{cos}(\\theta_1 + \\theta_2)$. We can get the global y position by adding $y_1$ to this. So, the full equation for $y_2$ is $y_2 = -l_2 \\cdot \\text{cos}(\\theta_1 + \\theta_2) + -l_1 \\cdot \\text{cos}(\\theta_1)$. So\n",
    "$$PE = m_1 \\cdot g \\cdot (-l_1 \\cdot \\text{cos}(\\theta_1)) + m_2 \\cdot g \\cdot (-l_2 \\cdot \\text{cos}(\\theta_1 + \\theta_2) + l_1 \\cdot \\text{cos}(\\theta_1))$$\n",
    "\n",
    "---\n",
    "\n",
    "$$L = KE - V$$\n",
    "\n",
    "$$L = \\frac{1}{2} \\cdot m_1 \\cdot l_1^2 \\cdot \\dot{\\theta}_1^2 + \\frac{1}{2} m_2(l_1^2 \\dot{\\theta}_1^2 + l_2^2 (\\dot{\\theta}_1 + \\dot{\\theta}_2)^2 + 2 l_1 \\dot{\\theta}_1 l_2 (\\dot{\\theta}_1 + \\dot{\\theta}_2)^2 cos(\\theta_2)) - (m_1 \\cdot g \\cdot (-l_1 \\cdot \\text{cos}(\\theta_1)) + m_2 \\cdot g \\cdot (-l_2 \\cdot \\text{cos}(\\theta_1 + \\theta_2) + l_1 \\cdot \\text{cos}(\\theta_1)))$$\n",
    "\n",
    "$$L = \\frac{1}{2} \\cdot m_1 \\cdot l_1^2 \\cdot \\dot{\\theta}_1^2 + \\frac{1}{2} m_2(l_1^2 \\dot{\\theta}_1^2 + l_2^2 (\\dot{\\theta}_1 + \\dot{\\theta}_2)^2 + 2 l_1 \\dot{\\theta}_1 l_2 (\\dot{\\theta}_1 + \\dot{\\theta}_2)^2 cos(\\theta_2)) - m_1 \\cdot g \\cdot (-l_1 \\cdot \\text{cos}(\\theta_1)) - (m_2 \\cdot g \\cdot (-l_2 \\cdot \\text{cos}(\\theta_1 + \\theta_2) + l_1 \\cdot \\text{cos}(\\theta_1)))$$\n",
    "\n",
    "\n",
    "$$\\frac{d}{dt} \\frac{\\partial L}{\\partial \\dot{q}} - \\frac{\\partial L}{\\partial q} = 0$$\n",
    "\n",
    "\n",
    "$$\\frac{\\partial KE}{\\partial \\theta_1} = 0$$\n",
    "\n",
    "$$\\frac{\\partial PE}{\\partial \\theta_1} = m_1 \\cdot g \\cdot (-l_1 \\cdot -\\text{sin}(\\theta_1)) + m_2 \\cdot g \\cdot (-l_2 \\cdot -\\text{sin}(\\theta_1 + \\theta_2) - l_1 \\cdot -\\text{sin}(\\theta_1))$$\n",
    "\n",
    "$$\\frac{\\partial PE}{\\partial \\theta_1} = m_1 \\cdot g \\cdot l_1 \\cdot \\text{sin}(\\theta_1) + m_2 \\cdot g \\cdot (l_2 \\cdot \\text{sin}(\\theta_1 + \\theta_2) - l_1 \\cdot \\text{sin}(\\theta_1))$$\n",
    "\n",
    "$$\\frac{\\partial PE}{\\partial \\theta_1} = m_1 \\cdot g \\cdot l_1 \\cdot \\text{sin}(\\theta_1) + m_2 \\cdot g \\cdot l_2 \\cdot \\text{sin}(\\theta_1 + \\theta_2) + m_2 \\cdot g \\cdot l_1 \\cdot \\text{sin}(\\theta_1)$$\n",
    "\n",
    "$$\\frac{\\partial PE}{\\partial \\theta_1} = m_1 \\cdot g \\cdot l_1 \\cdot \\text{sin}(\\theta_1) + m_2 \\cdot g \\cdot l_1 \\cdot \\text{sin}(\\theta_1) + m_2 \\cdot g \\cdot l_2 \\cdot \\text{sin}(\\theta_1 + \\theta_2)$$\n",
    "\n",
    "$$\\frac{\\partial PE}{\\partial \\theta_1} = (m_1 + m_2) \\cdot g \\cdot l_1 \\cdot \\text{sin}(\\theta_1) + m_2 \\cdot g \\cdot l_2 \\cdot \\text{sin}(\\theta_1 + \\theta_2)$$\n",
    "\n",
    "\n",
    "$$\\frac{\\partial PE}{\\partial \\theta_2} = m_2 \\cdot g \\cdot l_2 \\cdot \\text{sin}(\\theta_1 + \\theta_2)$$\n",
    "\n",
    "$$\\frac{\\partial KE}{\\partial \\theta_2} = -m_2 l_1 \\dot{\\theta}_1 l_2 (\\dot{\\theta}_1 + \\dot{\\theta}_2) sin(\\theta_2)$$\n",
    "\n",
    "\n",
    "$$\\frac{\\partial KE}{\\partial \\dot{\\theta_1}} = m_1 \\cdot l_1^2 \\cdot \\dot{\\theta}_1 + \\frac{1}{2} m_2(2 l_1^2 \\dot{\\theta}_1 + 2 l_2^2 (\\dot{\\theta}_1 + \\dot{\\theta}_2) +  l_1 l_2 (2 \\dot{\\theta}_1 + \\dot{\\theta}_2) cos(\\theta_2))$$\n",
    "\n",
    "$$\\frac{\\partial KE}{\\partial \\dot{\\theta_1}} = m_1 \\cdot l_1^2 \\cdot \\dot{\\theta}_1 + m_2(l_1^2 \\dot{\\theta}_1 + l_2^2 (\\dot{\\theta}_1 + \\dot{\\theta}_2) + l_1 l_2 (2 \\dot{\\theta}_1 + \\dot{\\theta}_2) cos(\\theta_2))$$\n",
    "\n",
    "$$\\frac{\\partial KE}{\\partial \\dot{\\theta_1}} = m_1 \\cdot l_1^2 \\cdot \\dot{\\theta}_1 + m_2 l_1^2 \\dot{\\theta}_1 + m_2 l_2^2 (\\dot{\\theta}_1 + \\dot{\\theta}_2) + l_1 l_2 m_2 (2 \\dot{\\theta}_1 + \\dot{\\theta}_2) cos(\\theta_2)$$\n",
    "\n",
    "$$\\frac{\\partial KE}{\\partial \\dot{\\theta_1}} = (m_1 + m_2) l_1^2 \\dot{\\theta}_1 + m_2 l_2^2 (\\dot{\\theta}_1 + \\dot{\\theta}_2) + l_1 l_2 m_2 (2 \\dot{\\theta}_1 + \\dot{\\theta}_2) cos(\\theta_2)$$\n",
    "\n",
    "\n",
    "$$\\frac{\\partial KE}{\\partial \\dot{\\theta_2}} = \\frac{1}{2} m_2(2 l_2^2 (\\dot{\\theta}_1 + \\dot{\\theta}_2) + 2 l_1 \\dot{\\theta}_1 l_2 cos(\\theta_2))$$\n",
    "\n",
    "$$\\frac{\\partial KE}{\\partial \\dot{\\theta_2}} = m_2 (l_2^2 (\\dot{\\theta}_1 + \\dot{\\theta}_2) + l_1 \\dot{\\theta}_1 l_2 cos(\\theta_2))$$\n",
    "\n",
    "\n",
    "$$\\frac{d}{dt}\\frac{\\partial KE}{\\partial \\dot{\\theta_1}} = (m_1 + m_2) l_1^2 \\ddot{\\theta}_1 + m_2 l_2^2 (\\ddot{\\theta}_1 + \\ddot{\\theta}_2) + l_1 l_2 m_2 (2 \\ddot{\\theta}_1 + \\ddot{\\theta}_2) cos(\\theta_2) - l_1 l_2 m_2 (2 \\dot{\\theta}_1 + \\dot{\\theta}_2) sin(\\theta_2)$$\n",
    "\n",
    "$$\\frac{d}{dt}\\frac{\\partial KE}{\\partial \\dot{\\theta_2}} = m_2 (l_2^2 (\\ddot{\\theta}_1 + \\ddot{\\theta}_2) + l_1 \\ddot{\\theta}_1 l_2 cos(\\theta_2) - l_1 \\dot{\\theta}_1 l_2 sin(\\theta_2))$$\n",
    "\n",
    "$$M(q) = \\begin{bmatrix}\n",
    "\\frac{\\partial KE}{\\partial \\dot{\\theta_1}} & \\frac{\\partial KE}{\\partial \\dot{\\theta_2}} \\\\\n",
    "\\frac{\\partial KE}{\\partial \\dot{\\theta_1}} & \\frac{\\partial PE}{\\partial \\theta_2}\n",
    "\\end{bmatrix}$$\n",
    "\n",
    "$$M(q) = \\begin{bmatrix}\n",
    "(m_1 + m_2) l_1^2 + m_2 l_2^2 + 2 l_1 l_2 m_2 cos(\\theta_2)    &    m_2 l_2^2 + l_1 l_2 m_2 cos(\\theta_2) \\\\\n",
    "m_2 l_2^2 + l_1 l_2 m_2 cos(\\theta_2)    &     m_2 l^2_2\n",
    "\\end{bmatrix}$$\n",
    "\n",
    "$$C(q, \\dot{q}) = \\begin{bmatrix}\n",
    "\\frac{\\partial KE}{\\partial \\theta_1} & \\frac{\\partial KE}{\\partial \\dot{\\theta_1}} \\\\\n",
    "\\frac{\\partial KE}{\\partial \\dot{\\theta_1}} & \\frac{\\partial KE}{\\partial \\theta_2}\n",
    "\\end{bmatrix}$$\n",
    "\n",
    "$$C(q, \\dot{q}) = \\begin{bmatrix}\n",
    "0 & -m_2 l_1 l_2 (2 \\dot{\\theta}_1 + \\dot{\\theta}_2) sin(\\theta_2) \\\\\n",
    "0 & -m_2 l_1 l_2 \\dot{\\theta}_1 sin(\\theta_2)\n",
    "\\end{bmatrix}$$\n",
    "\n",
    "$$V(q) = \\begin{bmatrix}\n",
    "-(\\frac{\\partial PE}{\\partial \\theta_1} + \\frac{\\partial KE}{\\partial \\theta_1}) \\\\\n",
    "-(\\frac{\\partial PE}{\\partial \\theta_2} + \\frac{\\partial KE}{\\partial \\theta_2} )\n",
    "\\end{bmatrix}$$\n",
    "\n",
    "$$V(q) = \\begin{bmatrix}\n",
    "-((m_1 + m_2) \\cdot g \\cdot l_1 \\cdot \\text{sin}(\\theta_1) + m_2 \\cdot g \\cdot l_2 \\cdot \\text{sin}(\\theta_1 + \\theta_2) + 0) \\\\\n",
    "-(m_2 \\cdot g \\cdot l_2 \\cdot \\text{sin}(\\theta_1 + \\theta_2) + m_2 l_1 \\dot{\\theta}_1 l_2 (\\dot{\\theta}_1 + \\dot{\\theta}_2) sin(\\theta_2))\n",
    "\\end{bmatrix}$$\n",
    "\n",
    "$$V(q) = -\\frac{\\partial L}{\\partial q}$$\n",
    "\n",
    "\n",
    "$$\\ddot{q} = M(q)^{-1}(- C(q, \\dot{q}) \\dot{q} - V(q))$$"
   ]
  },
  {
   "cell_type": "markdown",
   "metadata": {},
   "source": [
    "### Q1.b code in $\\dot{x} = f(x)$ for the hand-written equations. Also code in the kinetic and potential energy, and the Lagrangian.\n",
    "\n",
    "Make sure you use the constants defined above. "
   ]
  },
  {
   "cell_type": "code",
   "execution_count": 2,
   "metadata": {},
   "outputs": [],
   "source": [
    "def KE_handwritten(q,qdot):\n",
    "    \"\"\"\n",
    "        Input: q, qdot, which are jax np.arrays\n",
    "        Output: scalar kinetic energy\n",
    "    \"\"\"\n",
    "\n",
    "    KE_1 = (0.5 * _m1 * (_l1 ** 2) * (qdot[0] ** 2))\n",
    "    KE_2 = 0.5 * _m2 * ((_l1 ** 2) * (qdot[0] ** 2) + (_l2 ** 2) * ((qdot[0] + qdot[1]) ** 2) + 2 * _l1 * _l2 * qdot[0] * (qdot[0] + qdot[1]) * np.cos(q[1]))\n",
    "    return KE_1 + KE_2\n",
    "\n",
    "def PE_handwritten(q):\n",
    "    \"\"\"\n",
    "        Input: q, which are jax np.arrays\n",
    "        Output: scalar potential energy\n",
    "    \"\"\"\n",
    "    y1 = _l1 * np.cos(q[0])\n",
    "    y2 =  y1 + _l2 * np.cos(q[0] + q[1])\n",
    "    return _m1 * _g * -y1 + _m2 * _g * -y2\n",
    "\n",
    "def L_handwritten(q, qdot):\n",
    "    \"\"\"\n",
    "        Input: q, qdot, which are jax np.arrays\n",
    "        Output: scalar lagrangian energy\n",
    "        Hint: use the prevously written equations to write down the Lagrangian\n",
    "    \"\"\"\n",
    "    return KE_handwritten(q, qdot) - PE_handwritten(q)\n",
    "\n",
    "def f_handwritten(x):\n",
    "    \"\"\"\n",
    "        Input: \n",
    "            state = x = [q, qdot] -- the state of the system q, qdot stacked as an np.array\n",
    "        Output: \n",
    "            xdot = [qdot, qddot] stacked as an np.array\n",
    "    \"\"\"\n",
    "    q,qdot = np.split(x, 2)\n",
    "    # ADD EQUIATIONS HERE\n",
    "    # right\n",
    "    \n",
    "    Mq = np.array([\n",
    "        [(_m1 + _m2) * _l1 ** 2 + _m2 * _l2 ** 2 + 2 * _l1 * _l2 * _m2 * np.cos(q[1]),  _m2 * _l2 ** 2 + _l1 * _l2 * _m2 * np.cos(q[1])],\n",
    "        [_m2 * _l2 ** 2 + _l1 * _l2 * _m2 * np.cos(q[1]), _m2 * _l2 ** 2]\n",
    "        ])\n",
    "\n",
    "    Cq = np.array([\n",
    "        [0,  -_m2 * _l1 * _l2 * (2 * qdot[0] + qdot[1]) * np.sin(q[1])],\n",
    "        [0, -_m2 * _l1 * _l2 * qdot[0] * np.sin(q[1])]\n",
    "        ])\n",
    "\n",
    "    Vq = np.array([\n",
    "        -((_m1 + _m2) * _g * _l1 * np.sin(q[0]) + _m2 * _g * _l2 * np.sin(q[0] + q[1])),\n",
    "        -(_m2 * _g * _l2 * np.sin(q[0] + q[1]) + _m2 * _l1 * qdot[0] * _l2 * (qdot[0] + qdot[1]) * np.sin(q[1]))\n",
    "    ])\n",
    "    qddot = np.linalg.inv(Mq) @ (-Cq @ qdot + Vq)\n",
    "    xdot = np.array([qdot,qddot]).reshape((4,))\n",
    "    return xdot "
   ]
  },
  {
   "cell_type": "markdown",
   "metadata": {},
   "source": [
    "### Evaluate your expression below\n",
    "\n",
    "Kinetic Energy:  0.2630066577841242 \n",
    " Potential Energy:  -28.89383268107706 \n",
    " Lagrangian:  29.156839338861186 \n",
    " f(x) :  [-0.2        -0.3         0.90429708 -4.69756843]\n"
   ]
  },
  {
   "cell_type": "code",
   "execution_count": 3,
   "metadata": {},
   "outputs": [
    {
     "name": "stderr",
     "output_type": "stream",
     "text": [
      "No GPU/TPU found, falling back to CPU. (Set TF_CPP_MIN_LOG_LEVEL=0 and rerun for more info.)\n"
     ]
    },
    {
     "name": "stdout",
     "output_type": "stream",
     "text": [
      "Kinetic Energy:  0.2630066577841242 \n",
      " Potential Energy:  -28.893832681077065 \n",
      " Lagrangian:  29.15683933886119 \n",
      " f(x) :  [-0.2        -0.3         0.90429708 -4.69756843]\n"
     ]
    }
   ],
   "source": [
    "q_test = np.array([0.1,0.2])\n",
    "qdot_test = np.array([-0.2, -0.3])\n",
    "x_test = np.array([0.1,0.2, -0.2, -0.3])\n",
    "\n",
    "print(\n",
    "    'Kinetic Energy: ',KE_handwritten(q_test, qdot_test), '\\n',\n",
    "    'Potential Energy: ',PE_handwritten(q_test), '\\n',\n",
    "    'Lagrangian: ',L_handwritten(q_test, qdot_test), '\\n',\n",
    "    'f(x) : ', f_handwritten(x_test)\n",
    ")\n"
   ]
  },
  {
   "cell_type": "markdown",
   "metadata": {},
   "source": [
    "## Q2. Geometrically constructed E-L Equation\n",
    "\n",
    "Using the forward kinematics functions $p_k = f_k(q), v_k = J_k(q)\\dot{q}$, where $J_k(q) = \\frac{\\partial f_k}{\\partial q}$ is the Jacobian of each mass location, derive the Euler-Lagrange equations for the double pendulum."
   ]
  },
  {
   "cell_type": "markdown",
   "metadata": {},
   "source": [
    "### Q2.a Code up the forward kinematics and Jacobian from geometry for each center of mass.\n",
    " \n",
    "Recall the Jacobian is given by the derivative of the forward kinematics with respect to the configuration. Use the `jacfwd` function to return the derivative of the forward kinematics. Hint: read the jax documentation for `jacfwd`, its input takes in a **function** and returns the derivative of the function with respect to the argument number, that is, `dfdx = jacfwd(f,argnums=1)` for `f(v,x)` and `x` is the argument at slot 1 (where v is at slot 0)."
   ]
  },
  {
   "cell_type": "code",
   "execution_count": 4,
   "metadata": {},
   "outputs": [],
   "source": [
    "def p1(q):\n",
    "    \"\"\"\n",
    "        Position of the first mass\n",
    "        Input: \n",
    "            q - joints \n",
    "        Output: \n",
    "            x_1 - position of mass 1 \n",
    "    \"\"\"\n",
    "\n",
    "    x1 = _l1 * np.sin(q[0])\n",
    "    y1 = -_l1 * np.cos(q[0])\n",
    "    return np.asarray([x1, y1])\n",
    "\n",
    "def p2(q):\n",
    "    \"\"\"\n",
    "        Position of the second mass\n",
    "        Input: \n",
    "            q - joints \n",
    "        Output: \n",
    "            x_2 - position of mass 2\n",
    "    \"\"\"\n",
    "\n",
    "    x1 = _l1 * np.sin(q[0])\n",
    "    y1 = -_l1 * np.cos(q[0])\n",
    "\n",
    "    x2 =  x1 + _l2 * np.sin(q[0] + q[1])\n",
    "    y2 =  y1 + -_l2 * np.cos(q[0] + q[1])\n",
    "    return np.asarray([x2,y2])\n",
    "\n",
    "\"\"\"\n",
    "    The function jacfwd is a wrapper around a function f and creates \n",
    "    a new function that outputs the derivative dfdx, with x as input.\n",
    "    These functions compute the derivative of the mass location \n",
    "    with respect to the robot joint inputs q. Note this is \n",
    "    the jacobian J(q) = dfdq where v = J(q)qdot is velocity at the reference frame.  \n",
    "\"\"\"\n",
    "jac_p1 = jacfwd(p1)\n",
    "jac_p2 = jacfwd(p2)"
   ]
  },
  {
   "cell_type": "markdown",
   "metadata": {},
   "source": [
    "#### Evaluate your answer\n",
    "\n",
    "FK Mass 1 : [ 0.09983342 -0.99500417] \n",
    " FK Mass 2 : [ 0.39535362 -1.95034065] \n",
    " Vel Mass 1 : [-0.19900083 -0.01996668] \n",
    " Vel Mass 2 : [-0.67666908 -0.16772679]"
   ]
  },
  {
   "cell_type": "code",
   "execution_count": 5,
   "metadata": {},
   "outputs": [
    {
     "name": "stdout",
     "output_type": "stream",
     "text": [
      "FK Mass 1 : [ 0.09983342 -0.99500417] \n",
      " FK Mass 2 : [ 0.39535362 -1.95034065] \n",
      " Vel Mass 1 : [-0.19900083 -0.01996668] \n",
      " Vel Mass 2 : [-0.67666908 -0.16772679]\n"
     ]
    }
   ],
   "source": [
    "q_test = np.array([0.1,0.2])\n",
    "qdot_test = np.array([-0.2, -0.3])\n",
    "print(\n",
    "    'FK Mass 1 :', p1(q_test), '\\n',\n",
    "    'FK Mass 2 :', p2(q_test), '\\n',\n",
    "    'Vel Mass 1 :',jac_p1(q_test)@qdot_test, '\\n',\n",
    "    'Vel Mass 2 :',jac_p2(q_test)@qdot_test\n",
    ")"
   ]
  },
  {
   "cell_type": "markdown",
   "metadata": {},
   "source": [
    "### Q2.b Code up the kinetic and potential energies, Lagrangian, and the components of the manipulator equation using geometrically derived forward kinematics and Jacobians for each mass.\n",
    "\n",
    "For the mass , coriolis, and gravity terms, you will need to use `hessian` and `jacfwd` functions consecutively with the `argnums` option to isolate the specific argument to take derivative w.r.t. \n",
    "\n",
    "Note: `hessian(f) = jacfwd(jacfwd(f))`"
   ]
  },
  {
   "cell_type": "code",
   "execution_count": 6,
   "metadata": {},
   "outputs": [],
   "source": [
    "def KE_derived(q, qdot):\n",
    "    v1 = jac_p1(q)@qdot\n",
    "    v2 = jac_p2(q)@qdot\n",
    "    m1 = np.array([[_m1, 0], [0, _m1]])\n",
    "    m2 = np.array([[_m2, 0], [0, _m2]])\n",
    "\n",
    "    return 1/2 * v1.T @ m1 @ v1 + 1/2 * v2.T @ m1 @ v2\n",
    "\n",
    "def PE_derived(q):\n",
    "    _, y1 = p1(q)\n",
    "    _, y2 = p2(q)\n",
    "    return _m1 * _g * y1 + _m2 * _g * y2\n",
    "\n",
    "def L_derived(q, qdot):\n",
    "    return KE_derived(q, qdot) - PE_derived(q)\n",
    "\n",
    "M_derived = jacfwd(jacfwd(L_derived, argnums=1), argnums=1)\n",
    "C_derived = jacfwd(jacfwd(L_derived, argnums=1), argnums=0)\n",
    "G_derived = jacfwd(L_derived)"
   ]
  },
  {
   "cell_type": "markdown",
   "metadata": {},
   "source": [
    "#### Evaluate your answer \n",
    "Kinetic Energy:  0.26300665778412413 \n",
    " Potential Energy:  -28.893832681077065 \n",
    " Lagrangian:  29.15683933886119 \n",
    " Mass Matrix:  [[4.96013316 1.98006658]\n",
    " [1.98006658 1.        ]] \n",
    " Coriolis:  [-0.04172056 -0.01192016] \n",
    " Gravity:  [-4.85778486 -2.91892016]"
   ]
  },
  {
   "cell_type": "code",
   "execution_count": 7,
   "metadata": {},
   "outputs": [
    {
     "name": "stdout",
     "output_type": "stream",
     "text": [
      "Kinetic Energy:  0.26300665778412424 \n",
      " Potential Energy:  -28.893832681077065 \n",
      " Lagrangian:  29.15683933886119 \n",
      " Mass Matrix:  [[4.96013316 1.98006658]\n",
      " [1.98006658 1.        ]] \n",
      " Coriolis:  [-0.04172056 -0.01192016] \n",
      " Gravity:  [-4.85778486 -2.91892016]\n"
     ]
    }
   ],
   "source": [
    "q_test = np.array([0.1,0.2])\n",
    "qdot_test = np.array([-0.2, -0.3])\n",
    "print(\n",
    "    'Kinetic Energy: ',KE_derived(q_test, qdot_test), '\\n',\n",
    "    'Potential Energy: ',PE_derived(q_test), '\\n',\n",
    "    'Lagrangian: ',L_derived(q_test, qdot_test), '\\n',\n",
    "    'Mass Matrix: ',M_derived(q_test, qdot_test), '\\n',\n",
    "    'Coriolis: ',C_derived(q_test, qdot_test)@qdot_test, '\\n',\n",
    "    'Gravity: ',G_derived(q_test, qdot_test)\n",
    ")"
   ]
  },
  {
   "cell_type": "markdown",
   "metadata": {},
   "source": [
    "### Q2.d Code up the first-order dynamics modem $\\dot{x} = f(x)$."
   ]
  },
  {
   "cell_type": "code",
   "execution_count": 8,
   "metadata": {},
   "outputs": [],
   "source": [
    "def f_derived(x):\n",
    "    \"\"\"\n",
    "        Input: \n",
    "            state = x = [q, qdot] -- the state of the system \n",
    "        Output: \n",
    "            xdot = [qdot, qddot]\n",
    "    \"\"\"\n",
    "    q,qdot = np.split(x, 2)\n",
    "    # ADD CODE HERE\n",
    "    qddot = -np.linalg.inv(M_derived(q, qdot)) @ (C_derived(q, qdot)@ qdot - G_derived(q, qdot))\n",
    "    xdot = np.array([qdot,qddot]).reshape((4,))\n",
    "    return xdot "
   ]
  },
  {
   "cell_type": "markdown",
   "metadata": {},
   "source": [
    "#### Evalaute your answer\n",
    "\n",
    "Kinetic Energy:  0.2630066577841242 \n",
    " Potential Energy:  -28.89383268107706 \n",
    " Lagrangian:  29.156839338861186 \n",
    " f(x) :  [-0.2        -0.3         0.90429708 -4.69756843]\n"
   ]
  },
  {
   "cell_type": "code",
   "execution_count": 9,
   "metadata": {},
   "outputs": [
    {
     "name": "stdout",
     "output_type": "stream",
     "text": [
      "Kinetic Energy:  0.26300665778412424 \n",
      " Potential Energy:  -28.893832681077065 \n",
      " Lagrangian:  29.15683933886119 \n",
      " f(x) :  [-0.2        -0.3         0.90429708 -4.69756843]\n"
     ]
    }
   ],
   "source": [
    "q_test = np.array([0.1,0.2])\n",
    "qdot_test = np.array([-0.2, -0.3])\n",
    "x_test = np.array([0.1,0.2, -0.2, -0.3])\n",
    "\n",
    "print(\n",
    "    'Kinetic Energy: ',KE_derived(q_test, qdot_test), '\\n',\n",
    "    'Potential Energy: ',PE_derived(q_test), '\\n',\n",
    "    'Lagrangian: ',L_derived(q_test, qdot_test), '\\n',\n",
    "    'f(x) : ', f_derived(x_test)\n",
    ")"
   ]
  },
  {
   "cell_type": "markdown",
   "metadata": {},
   "source": [
    "## Q3 Euler-Lagrange Equations of Motion using Motion Group SE(2)\n",
    "\n",
    "In this part of the homework you will recreate the equations of motion using Lie groups! "
   ]
  },
  {
   "cell_type": "markdown",
   "metadata": {},
   "source": [
    "### Q3.a Code up forward kinematics using SE(2) transforms\n",
    "Use the jaxlie `SE2.from_xy_theta` function to create SE(2) transforms"
   ]
  },
  {
   "cell_type": "code",
   "execution_count": 10,
   "metadata": {},
   "outputs": [],
   "source": [
    "def p1_lie(q):\n",
    "    \"\"\"\n",
    "        Input: q, jax np.array\n",
    "        Output: jaxlie SE2 transform\n",
    "    \"\"\"\n",
    "    return SE2.from_xy_theta(0, 0, q[0]) @ SE2.from_xy_theta(0, -_l1, 0)\n",
    "\n",
    "def p2_lie(q):\n",
    "    \"\"\"\n",
    "        Input: q, jax np.array\n",
    "        Output: jaxlie SE2 transform\n",
    "    \"\"\"\n",
    "    return p1_lie(q) @ SE2.from_xy_theta(0, 0, q[1]) @ SE2.from_xy_theta(0, -_l2, 0)\n"
   ]
  },
  {
   "cell_type": "markdown",
   "metadata": {},
   "source": [
    "#### Evaluate your answer\n",
    "\n",
    "FK Mass 1 : [ 0.09983342 -0.99500417] 0.09999999999999999 \n",
    " FK Mass 2 : [ 0.39535362 -1.95034065] 0.3 "
   ]
  },
  {
   "cell_type": "code",
   "execution_count": 11,
   "metadata": {},
   "outputs": [
    {
     "name": "stdout",
     "output_type": "stream",
     "text": [
      "FK Mass 1 : [ 0.09983342 -0.99500417] 0.09999999999999999 \n",
      " FK Mass 2 : [ 0.39535362 -1.95034065] 0.3 \n",
      "\n"
     ]
    }
   ],
   "source": [
    "q_test = np.array([0.1,0.2])\n",
    "qdot_test = np.array([-0.2, -0.3])\n",
    "print(\n",
    "    'FK Mass 1 :', p1_lie(q_test).translation(), p1_lie(q_test).rotation().as_radians(), '\\n',\n",
    "    'FK Mass 2 :', p2_lie(q_test).translation(), p2_lie(q_test).rotation().as_radians(), '\\n',\n",
    ")"
   ]
  },
  {
   "cell_type": "markdown",
   "metadata": {},
   "source": [
    "### Q3.b Code up the body velocities for each mass using the Adjoint map\n",
    "Recall that you would need to compute the body velocity $\\xi_i(q, \\dot{q})$ for all $i$ bodies. As a hint, start with writing down the time-derivative of the transform from world frame to the mass location as a function of joint configuration $q$. "
   ]
  },
  {
   "cell_type": "code",
   "execution_count": 12,
   "metadata": {},
   "outputs": [],
   "source": [
    "def vel_p1_lie(q, qdot):\n",
    "    \"\"\"\n",
    "        Input: q , qdot, jax np.array\n",
    "        Output: xi - body velocity at mass 1 location, jax np.array\n",
    "    \"\"\"\n",
    "    return p1_lie(q).inverse().adjoint() @ np.array([0, 0, 1]) * qdot[0]\n",
    "\n",
    "def vel_p2_lie(q, qdot):\n",
    "    \"\"\"\n",
    "        Input: q , qdot, jax np.array\n",
    "        Output: xi - body velocity at mass 2 location, jax np.array\n",
    "    \"\"\"\n",
    "    return (SE2.from_xy_theta(0, -_l1, 0) @ SE2.from_xy_theta(0, 0, q[1]) @ SE2.from_xy_theta(0, -_l2, 0)).inverse().adjoint() @ np.array([0, 0, 1]) * qdot[0] + SE2.from_xy_theta(0, -_l2, 0).inverse().adjoint() @ np.array([0, 0, 1]) * qdot[1]\n",
    "    "
   ]
  },
  {
   "cell_type": "markdown",
   "metadata": {},
   "source": [
    "### Evaluate your answer\n",
    "FK Mass 1 : [ 0.09983342 -0.99500417] 0.09999999999999999 \n",
    " FK Mass 2 : [ 0.39535362 -1.95034065] 0.3 \n",
    " xi 1 : [-0.2 -0.  -0.2] \n",
    " xi_2 : [-0.69601332  0.03973387 -0.5       ]\n"
   ]
  },
  {
   "cell_type": "code",
   "execution_count": 13,
   "metadata": {},
   "outputs": [
    {
     "name": "stdout",
     "output_type": "stream",
     "text": [
      "FK Mass 1 : [ 0.09983342 -0.99500417] 0.09999999999999999 \n",
      " FK Mass 2 : [ 0.39535362 -1.95034065] 0.3 \n",
      " xi 1 : [-0.2 -0.  -0.2] \n",
      " xi_2 : [-0.69601332  0.03973387 -0.5       ]\n"
     ]
    }
   ],
   "source": [
    "q_test = np.array([0.1,0.2])\n",
    "qdot_test = np.array([-0.2, -0.3])\n",
    "print(\n",
    "    'FK Mass 1 :', p1_lie(q_test).translation(), p1_lie(q_test).rotation().as_radians(), '\\n',\n",
    "    'FK Mass 2 :', p2_lie(q_test).translation(), p2_lie(q_test).rotation().as_radians(), '\\n',\n",
    "    'xi 1 :', vel_p1_lie(q_test, qdot_test),'\\n',\n",
    "    'xi_2 :', vel_p2_lie(q_test, qdot_test)\n",
    ")"
   ]
  },
  {
   "cell_type": "markdown",
   "metadata": {},
   "source": [
    "### Q3.c Code up the Kinetic Energy, Potential energy, Lagrangian, and derive the components of the manipulator equation and dynamics $\\dot{x} = f(x)$.\n",
    "Use the forward kinematics and body velocity functions previously to construct the functions below."
   ]
  },
  {
   "cell_type": "code",
   "execution_count": 14,
   "metadata": {},
   "outputs": [],
   "source": [
    "def KE_lie(q, qdot):\n",
    "    M1 = onp.diag([_m1,_m1,0.])\n",
    "    M2 = onp.diag([_m2,_m2,0.])\n",
    "    return 1/2 * vel_p1_lie(q, qdot).T @ M1 @ vel_p1_lie(q, qdot) + 1/2 * vel_p2_lie(q, qdot).T @ M2 @ vel_p2_lie(q, qdot)\n",
    "\n",
    "def PE_lie(q):\n",
    "    return _m1 * _g * (p1_lie(q).adjoint() @ np.array([0, 0, 1]))[0] + _m2 * _g * (p2_lie(q).adjoint() @ np.array([0, 0, 1]))[0]\n",
    "\n",
    "def L_lie(q, qdot):\n",
    "    return KE_lie(q, qdot) - PE_lie(q)\n",
    "\n",
    "M_lie = jacfwd(jacfwd(L_lie, argnums=1), argnums=1)\n",
    "C_lie = jacfwd(jacfwd(L_lie, argnums=1), argnums=0)\n",
    "G_lie = jacfwd(L_lie)\n",
    "\n",
    "def f_lie(x):\n",
    "    \"\"\"\n",
    "        Input: \n",
    "            state = x = [q, qdot] -- the state of the system \n",
    "        Output: \n",
    "            xdot = [qdot, qddot]\n",
    "    \"\"\"\n",
    "    q,qdot = np.split(x, 2)\n",
    "    qddot = -np.linalg.inv(M_lie(q, qdot)) @ (C_lie(q, qdot)@ qdot - G_lie(q, qdot))\n",
    "    xdot = np.array([qdot,qddot]).reshape((4,))\n",
    "    return xdot "
   ]
  },
  {
   "cell_type": "markdown",
   "metadata": {},
   "source": [
    "### Evaluate your answer\n",
    "Kinetic Energy:  0.26300665778412424 \n",
    " Potential Energy:  -28.893832681077065 \n",
    " Lagrangian:  29.15683933886119 \n",
    " Mass Matrix:  [[4.96013316 1.98006658]\n",
    " [1.98006658 1.        ]] \n",
    " Coriolis:  [-0.04172056 -0.01192016] \n",
    " Gravity:  [-4.85778486 -2.91892016] \n",
    " f(x):  [-0.2        -0.3         0.90429708 -4.69756843]\n"
   ]
  },
  {
   "cell_type": "code",
   "execution_count": 15,
   "metadata": {},
   "outputs": [
    {
     "name": "stdout",
     "output_type": "stream",
     "text": [
      "Kinetic Energy:  0.26300665778412424 \n",
      " Potential Energy:  -28.893832681077065 \n",
      " Lagrangian:  29.15683933886119 \n",
      " Mass Matrix:  [[4.96013316 1.98006658]\n",
      " [1.98006658 1.        ]] \n",
      " Coriolis:  [-0.04172056 -0.01192016] \n",
      " Gravity:  [-4.85778486 -2.91892016] \n",
      " f(x):  [-0.2        -0.3         0.90429708 -4.69756843]\n"
     ]
    }
   ],
   "source": [
    "q_test = np.array([0.1,0.2])\n",
    "qdot_test = np.array([-0.2, -0.3])\n",
    "x_test = np.hstack([q_test, qdot_test])\n",
    "print(\n",
    "    'Kinetic Energy: ',KE_lie(q_test, qdot_test), '\\n',\n",
    "    'Potential Energy: ',PE_lie(q_test), '\\n',\n",
    "    'Lagrangian: ',L_lie(q_test, qdot_test),'\\n',\n",
    "    'Mass Matrix: ',M_lie(q_test, qdot_test), '\\n',\n",
    "    'Coriolis: ',C_lie(q_test, qdot_test)@qdot_test, '\\n',\n",
    "    'Gravity: ',G_lie(q_test, qdot_test), '\\n',\n",
    "    'f(x): ', f_lie(x_test)\n",
    ")"
   ]
  },
  {
   "cell_type": "markdown",
   "metadata": {},
   "source": [
    "## Q4 Simulate the derived equations of motion of the pendulum\n",
    "\n",
    "\n",
    "### Q4.a Create a function that takes in an initial condition $x_0$, integration time $t_f$, step-size $\\Delta t$, dynamics function $f$, and integration method e.g., RK4 and returns a trajectory $x(t)$ for $t \\in [0,t_f]$\n",
    "\n",
    "Recall that the Euler and RK4 function only returns the subsequent step $t+\\Delta t$ so you will need a for-loop. Store the recursive state values in a python list using the list member function `.append()`. Use the numpy function `stack` to create a matrix that stores the integrated trajectory $x(t)$ as a matrix array of size $N \\times n$ where $N = \\text{int}(\\frac{t_f}{\\Delta t})$ and $n = 2 n_q$, where $q, \\dot{q} \\in \\mathbb{R}^{n_q}$."
   ]
  },
  {
   "cell_type": "code",
   "execution_count": 16,
   "metadata": {},
   "outputs": [],
   "source": [
    "def simulate(x0,tf,dt, f, integrator):\n",
    "    # create the python list as\n",
    "    trajectory = []\n",
    "    # use the append member function to add the initial condition\n",
    "    # the .copy prevents python from keeping around pointer references to the initial condition\n",
    "    trajectory.append(x0.copy())\n",
    "    ## ADD CODE HERE \n",
    "    for x in range(int(tf//dt)):\n",
    "        trajectory.append(integrator(f, trajectory[-1], dt))\n",
    "\n",
    "    return np.array(trajectory)"
   ]
  },
  {
   "cell_type": "markdown",
   "metadata": {},
   "source": [
    "#### Evaluate the code\n",
    "Make sure that your code runs appropriately without error. Output should be of right dimensions."
   ]
  },
  {
   "cell_type": "code",
   "execution_count": 17,
   "metadata": {},
   "outputs": [
    {
     "name": "stdout",
     "output_type": "stream",
     "text": [
      "(800, 4)\n"
     ]
    }
   ],
   "source": [
    "## initial conditions \n",
    "q0      = [0.6, 1.2]\n",
    "qdot0   = [-1.6, 0.]\n",
    "x0 = np.array(q0+qdot0)\n",
    "tf = 4\n",
    "dt = 0.005\n",
    "\n",
    "print(\n",
    "    simulate(x0.copy(), tf, dt, f_handwritten, euler_step).shape\n",
    ")"
   ]
  },
  {
   "cell_type": "markdown",
   "metadata": {},
   "source": [
    "### Q4.b Plot the results below. \n",
    "\n",
    "All curves should be exactly the same using all calculated $f$ and integration method. To speed up our derived dynamics model we will be using the `jit` function that created compiled code. \n",
    "```\n",
    "# this speeds up any derived functions using jax by compiling the function using jit\n",
    "f_derived_jit = jax.jit(f_derived)\n",
    "f_lie_jit     = jax.jit(f_lie)\n",
    "```\n",
    "The new functions `f_derived_jit` and `f_lie_jit` are then the compiled versions of the original functions you created which run much faster. Only use `jit` **after** you have confirmed your code works as intended with no bugs.  \n",
    "\n",
    "Answer the following question. \n",
    "Why are the curves below different for the integration method? What is the trade-off for using one versus another? Type your answer below."
   ]
  },
  {
   "cell_type": "markdown",
   "metadata": {},
   "source": [
    "Euler integration and Runge-Kutta intergration use totally different methods to perform the integral. So, it's somewhat expected that for a complex integral like this, that they'd produce different answers. Euler Integration is simple to use an implement but is less likely to produce an accurate estimate as it approximated the integral using simple rectangles. Runge-Kutta Integration works well for ODEs and is more accurate than using Euler integration. Runge-Kutta uses 4 keypoints which can better approximate the intregral. So, as each method uses a different approach to approximate the intregral, it's expected that they give different results. Runge-Kutta is likely the more accurate estimate."
   ]
  },
  {
   "cell_type": "code",
   "execution_count": 18,
   "metadata": {},
   "outputs": [
    {
     "data": {
      "image/png": "[encoded data removed]",
      "text/plain": [
       "<Figure size 640x480 with 1 Axes>"
      ]
     },
     "metadata": {},
     "output_type": "display_data"
    },
    {
     "data": {
      "image/png": "[encoded data removed]",
      "text/plain": [
       "<Figure size 640x480 with 1 Axes>"
      ]
     },
     "metadata": {},
     "output_type": "display_data"
    }
   ],
   "source": [
    "## initial conditions \n",
    "q0      = [0.6, 1.2]\n",
    "qdot0   = [-1.6, 0.]\n",
    "x0 = np.array(q0+qdot0)\n",
    "tf = 4\n",
    "dt = 0.005\n",
    "\n",
    "# this speeds up any derived functions using jax by compiling the function using jit\n",
    "f_derived_jit = jax.jit(f_derived)\n",
    "f_lie_jit     = jax.jit(f_lie)\n",
    "\n",
    "plt.figure(1)\n",
    "plt.plot(simulate(x0.copy(), tf, dt, f_handwritten, euler_step)[::10,:2], 'r', label='hand-written')\n",
    "plt.plot(simulate(x0.copy(), tf, dt, f_derived_jit, euler_step)[::10,:2], 'k^', alpha=0.5, label='derived')\n",
    "plt.plot(simulate(x0.copy(), tf, dt, f_lie_jit, euler_step)[::10,:2], 'b>',alpha=0.5, label='lie')\n",
    "plt.ylabel('q')\n",
    "plt.xlabel('N/10')\n",
    "plt.legend()\n",
    "plt.title('Euler-Integration')\n",
    "\n",
    "plt.figure(2)\n",
    "plt.plot(simulate(x0.copy(), tf, dt, f_handwritten, rk4_step)[::10,:2], 'r', label='hand-written')\n",
    "plt.plot(simulate(x0.copy(), tf, dt, f_derived_jit, rk4_step)[::10,:2], 'k^', alpha=0.5, label='derived')\n",
    "plt.plot(simulate(x0.copy(), tf, dt, f_lie_jit, rk4_step)[::10,:2], 'b>',alpha=0.5, label='lie')\n",
    "plt.ylabel('q')\n",
    "plt.xlabel('N/10')\n",
    "plt.legend()\n",
    "plt.title('Rk4-Integration')\n",
    "\n",
    "plt.show()"
   ]
  },
  {
   "cell_type": "markdown",
   "metadata": {},
   "source": [
    "## Extra Credit: Animate the double-pendulum using meshcat"
   ]
  },
  {
   "cell_type": "markdown",
   "metadata": {},
   "source": []
  },
  {
   "cell_type": "code",
   "execution_count": 19,
   "metadata": {},
   "outputs": [
    {
     "name": "stdout",
     "output_type": "stream",
     "text": [
      "You can open the visualizer by visiting the following URL:\n",
      "http://127.0.0.1:7008/static/\n"
     ]
    }
   ],
   "source": [
    "\n",
    "# Create a new visualizer\n",
    "vis = meshcat.Visualizer()"
   ]
  },
  {
   "cell_type": "code",
   "execution_count": 20,
   "metadata": {},
   "outputs": [],
   "source": [
    "vis.delete()\n",
    "vis.jupyter_cell()\n",
    "\n",
    "def build_leg(origin, parent_frame, num=0):\n",
    "    joint_1 = parent_frame[f\"joint_{num}_1\"]\n",
    "    joint_1[\"axis\"].set_object(geom.triad())\n",
    "    joint_1.set_transform(origin @ tfm.rotation_matrix(3 * np.pi/2 + .8, [1, 0, 0]))\n",
    "    \n",
    "    leg_1 = joint_1[f\"leg_{num}_1\"]\n",
    "    leg_1[\"geom\"].set_object(\n",
    "        geom.Cylinder(1,0.05)\n",
    "    )\n",
    "    leg_1.set_transform(tfm.rotation_matrix(3 * np.pi/2, [1, 0, 0]) @ tfm.translation_matrix(np.array([0.,0.5,0.])))\n",
    "\n",
    "    joint_2 = leg_1[f\"joint_{num}_2\"]\n",
    "    joint_2[\"axis\"].set_object(geom.triad())\n",
    "    joint_2.set_transform(tfm.translation_matrix(np.array([0.,0.5,0])) @ tfm.rotation_matrix(np.pi/2 + 1.2, [1, 0, 0]))\n",
    "\n",
    "    leg_2 = joint_2[f\"leg_{num}_2\"]\n",
    "    leg_2[\"geom\"].set_object(\n",
    "        geom.Cylinder(1,0.05)\n",
    "    )\n",
    "    leg_2.set_transform(tfm.rotation_matrix(-np.pi/2, [1, 0, 0]) @ tfm.translation_matrix(np.array([0.,0.5,0])))\n",
    "    return joint_1, joint_2\n",
    "\n",
    "joint_1, joint_2 = build_leg(tfm.translation_matrix(np.array([0,0,0])), vis)"
   ]
  },
  {
   "cell_type": "code",
   "execution_count": 22,
   "metadata": {},
   "outputs": [],
   "source": [
    "def set_leg_position(curr_joint_1, curr_joint_2, leg_1_offset, origin, leg_2_offset):\n",
    "    curr_joint_1.set_transform(origin @ tfm.rotation_matrix(leg_1_offset, [1, 0, 0]))\n",
    "    curr_joint_2.set_transform(tfm.translation_matrix(np.array([0.,0.5,0])) @ tfm.rotation_matrix(leg_2_offset, [1, 0, 0]))\n",
    "\n",
    "DT = 0.001\n",
    "TIME_LENGTH = 10\n",
    "q0      = [0.6, 1.2]\n",
    "qdot0   = [-1.6, 0.]\n",
    "x0 = np.array(q0+qdot0)\n",
    "set_leg_position(joint_1, joint_2, x0[0], tfm.translation_matrix(np.array([0,0,0])), x0[1])\n",
    "steps = simulate(x0.copy(), TIME_LENGTH, DT, f_lie_jit, rk4_step)\n",
    "for step in steps:\n",
    "    set_leg_position(joint_1, joint_2, step[0], tfm.translation_matrix(np.array([0,0,0])), step[1])\n",
    "    time.sleep(DT)"
   ]
  }
 ],
 "metadata": {
  "kernelspec": {
   "display_name": "Python 3 (ipykernel)",
   "language": "python",
   "name": "python3"
  },
  "language_info": {
   "codemirror_mode": {
    "name": "ipython",
    "version": 3
   },
   "file_extension": ".py",
   "mimetype": "text/x-python",
   "name": "python",
   "nbconvert_exporter": "python",
   "pygments_lexer": "ipython3",
   "version": "3.11.4"
  },
  "vscode": {
   "interpreter": {
    "hash": "7e1205e302398dd02bd48c71bb7eceb4729eb3a245520ba0a632d0a1f7a8e35a"
   }
  }
 },
 "nbformat": 4,
 "nbformat_minor": 4
}
