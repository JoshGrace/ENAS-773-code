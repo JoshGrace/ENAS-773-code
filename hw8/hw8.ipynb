{
 "cells": [
  {
   "cell_type": "code",
   "execution_count": 1,
   "metadata": {},
   "outputs": [],
   "source": [
    "from jax import config\n",
    "config.update(\"jax_enable_x64\", True)\n",
    "\n",
    "import jax.numpy as np\n",
    "import numpy as onp\n",
    "from jax import jacfwd, grad, jit, vmap, hessian\n",
    "from jaxlie import SE2, SO2, manifold\n",
    "import meshcat\n",
    "from meshcat import transformations as tfm\n",
    "from meshcat import geometry as geom\n",
    "import time\n",
    "import matplotlib.pyplot as plt\n",
    "from IPython.display import clear_output\n",
    "\n",
    "def euler_step(x, f, dt, *args):\n",
    "    return x + f(x, *args) * dt\n",
    "\n",
    "def rk4_step(x, f, dt, *args):\n",
    "    # one step of runge-kutta integration\n",
    "    k1 = dt * f(x, *args)\n",
    "    k2 = dt * f(x + k1/2, *args)\n",
    "    k3 = dt * f(x + k2/2, *args)\n",
    "    k4 = dt * f(x + k3, *args)\n",
    "    return x + 1/6 * (k1 + 2 * k2 + 2 * k3 + k4)"
   ]
  },
  {
   "cell_type": "markdown",
   "metadata": {},
   "source": [
    "# 2D Planar Drone Backflip using Direct methods and Direct Shooting MPC\n",
    "\n",
    "In this homework, we will be controlling a 2D drone to perform a backflip maneuver using direct optimal control in the style of MPC!\n"
   ]
  },
  {
   "cell_type": "markdown",
   "metadata": {},
   "source": [
    "## Dynamics Model \n",
    "We will be using a 2D (planar) drone system with two force inputs at each robot (see below).\n",
    "\n",
    "![drone](quadrotor2d.png)\n",
    "\n",
    "\n",
    "The manipulator equation of the drone are given as \n",
    "\\begin{align*}\n",
    "    m \\ddot{p_x} &= - (u_1 + u_2) \\sin(\\theta) \\\\ \n",
    "    m \\ddot{p_y} &= (u_1 + u_2) \\cos(\\theta) - m g \\\\ \n",
    "    I \\ddot{\\theta} &= r (u_1 - u_2)\n",
    "\\end{align*}\n",
    "where $m$ is the mass, $I$ is the inertia, $g$ is gravity, $r$ is the distance from the center to the base of the propeller, and the state is given as $x=[p_x, p_y, \\theta, \\dot{p_x}, \\dot{p_y}, \\dot{\\theta}]$.\n",
    "The degrees of freedom at the $x,y$ position, drone rotation relative to the world $\\theta$, and there are two force inputs $u_1, u_2$ for each rotor. \n",
    "\n",
    "As we are using a direct transcription approach, we need to write the dynamics as a discrete-time system, i.e., $x[k+1] = x[k] + dt * f(x[k], u[k])$"
   ]
  },
  {
   "cell_type": "code",
   "execution_count": 2,
   "metadata": {},
   "outputs": [],
   "source": [
    "_dt = 0.1\n",
    "_g  = 9.81\n",
    "_c1 = 0.02\n",
    "_c2 = 0.02\n",
    "_r = 0.1\n",
    "_I = 0.1\n",
    "_m = 0.1\n",
    "\n",
    "def f(x, u):\n",
    "    \"\"\"\n",
    "        Input: state x=[px,py, theta, pxdt, pydt, thetadt], control u = [u1, u2]\n",
    "        output: \\dot{x}\n",
    "    \"\"\"\n",
    "    px, py, th, pxt, pyt, tht = x\n",
    "    u1, u2 = u\n",
    "    F = u1+u2\n",
    "    T = u1-u2\n",
    "    xtt = - F * np.sin(th) / _m\n",
    "    ytt = F * np.cos(th) / _m - _g\n",
    "    thtt =  _r * T/_I\n",
    "    return np.array([pxt, pyt, tht, xtt, ytt, thtt])\n",
    "\n",
    "@jit\n",
    "def F(x, u):\n",
    "    \"\"\"\n",
    "        solves x[t+dt] = x[t] + dt * f(x[t], u[t])\n",
    "    \"\"\"\n",
    "    return euler_step(x, f, _dt, u)"
   ]
  },
  {
   "cell_type": "markdown",
   "metadata": {},
   "source": [
    "# Traj-Opt with Direct Transcription and Constraints"
   ]
  },
  {
   "cell_type": "markdown",
   "metadata": {},
   "source": [
    "## Q1 10 pts: Discrete-Time Backflip Objective \n",
    "\n",
    "Now we need to write down the objective function in discrete time. \n",
    "Direct methods require that we compute the whole objective function is discrete time and be able to take derivatives. Let's write the objective function that takes in discrete trajectories for state and control $X = [x_0, x_1, \\ldots x_N], U=[u_0, u_1, \\ldots, u_{N-1}]$.\n",
    "\n",
    "For this running cost, we will only focus on penalizing control\n",
    "$$\n",
    "    \\ell(x, u) = \\Vert u \\Vert_R^2\n",
    "$$\n",
    "and define the backflip using terminal cost of \n",
    "$$\n",
    "    m(x) = \\frac{1}{2} (x-x_d)^\\top Q_f (x-x_d)\n",
    "$$\n",
    "where $x_f = [0,0,2 \\pi,0,0,0]$\n",
    "$$\n",
    "\\begin{equation}\n",
    "\\mathcal{J}(x, u) = \\sum_{k=0}^{k=N-1} \\ell(x_k,u_k) dt + m(x_N).\n",
    "\\end{equation}\n",
    "$$\n",
    "and $Q_f, R$ are weights that penalize certain terms more than others. \n",
    "We will use $Q_f=\\text{diag}([4,4,1,0.1,0.1,0.1])$, $R=0.01$ and an integration step of $\\Delta t = 0.1$. \n"
   ]
  },
  {
   "cell_type": "code",
   "execution_count": 21,
   "metadata": {},
   "outputs": [],
   "source": [
    "_xd = np.array([0., 0., 2*np.pi, 0., 0.0, 0.])\n",
    "_Qf = np.diag(np.array([4., 4., 1., .01, .01, .01]))\n",
    "\n",
    "def cost(x, u):\n",
    "    return _r*np.sum(u**2)\n",
    "def terminal_cost(x):\n",
    "    return 1/2 * ((x - _xd).transpose() @ _Qf @ (x - _xd))\n",
    "\n",
    "def objective_fun(X, U):\n",
    "    J = 0.0\n",
    "    for x,u in zip(X[:-1], U):\n",
    "        J += cost(x, u)\n",
    "    print(J)\n",
    "    return  terminal_cost(X[-1])"
   ]
  },
  {
   "cell_type": "markdown",
   "metadata": {},
   "source": [
    "check you answer below\n",
    "\n",
    "Objective func J(X, U): 19.757208802178717"
   ]
  },
  {
   "cell_type": "code",
   "execution_count": 22,
   "metadata": {},
   "outputs": [
    {
     "name": "stdout",
     "output_type": "stream",
     "text": [
      "1.7999999999999998\n",
      "Objective func J(X, U): 19.739208802178716\n"
     ]
    }
   ],
   "source": [
    "N_test = 10\n",
    "x0_test = np.array([0.1,0.3,0.4,0.2,0.4,0.5])\n",
    "xf_test = np.zeros(6)\n",
    "# the index order is N x n\n",
    "X_test = np.linspace(x0_test,xf_test,num=N_test)\n",
    "U_test = np.ones((N_test-1, 2))\n",
    "\n",
    "print(\n",
    "    'Objective func J(X, U):', objective_fun(X_test, U_test)\n",
    ")"
   ]
  },
  {
   "cell_type": "markdown",
   "metadata": {},
   "source": [
    "## Q2 20 pts: Constraints\n",
    "\n",
    "Here we will build up the equality and inequality constraints. \n",
    "Recall that for the equality constraints we want the dynamics and initial condition to hold, that is \n",
    "$$\n",
    "    \\begin{align}\n",
    "    x_0 - \\bar{x}_0 = 0 \\\\\n",
    "    x_{k+1} - F(x_k, u_k) = 0\n",
    "    \\end{align}\n",
    "$$\n",
    "and we also want the control to be bounded \n",
    "$$\n",
    "    \\begin{align}\n",
    "    u_t \\ge 0 \\\\ \n",
    "    u_t \\le 2\n",
    "    \\end{align}\n",
    "$$\n",
    "as the drone can only generate upward thrust.\n",
    "To speed up the code use the jax `vmap` function to vectorize your dynamics over each state-control index value."
   ]
  },
  {
   "cell_type": "code",
   "execution_count": null,
   "metadata": {},
   "outputs": [],
   "source": [
    "def eq_constr(X, U, args):\n",
    "    \"\"\"\n",
    "        h(x) = 0\n",
    "            Inputs: X, U as nd_arrays of size N x n and N-1 x m\n",
    "                    args as a dictionary containing a term key x0 for the init cond\n",
    "            Outputs: N x n state constraint evaluated at X, U\n",
    "                x[0] - x0,\n",
    "                x[k+1] - F(x[k], u[k]) forall k in [0,N-1]\n",
    "    \"\"\"\n",
    "    x0 = args['x0']\n",
    "    return np.vstack([\n",
    "        # ADD CODE HERE\n",
    "    ])\n",
    "\n",
    "def ineq_constr(X, U, args=None):\n",
    "    \"\"\"\n",
    "        Convention is g(x) <= 0\n",
    "            Inputs: X, U trajectory\n",
    "    \"\"\"\n",
    "    ctrl_ineq_contr = [\n",
    "        # ADD CODE HERE\n",
    "    ]\n",
    "    return np.concatenate(ctrl_ineq_contr)"
   ]
  },
  {
   "cell_type": "markdown",
   "metadata": {},
   "source": [
    "check your answer below\n",
    "\n",
    "[[ 0.          0.          0.          0.          0.          0.        ]\n",
    " [-0.35       -0.35       -0.35        1.43294197 -0.34960461 -0.25      ]\n",
    " [-0.325      -0.325      -0.325       1.11327752 -0.73237774 -0.25      ]\n",
    " [-0.3        -0.3        -0.3         0.70885108 -1.02416512 -0.25      ]\n",
    " [-0.275      -0.275      -0.275       0.24480792 -1.20682484 -0.25      ]] \n",
    " [-1. -1. -1. -1. -1. -1. -1. -1. -1. -1. -1. -1. -1. -1. -1. -1.]\n"
   ]
  },
  {
   "cell_type": "code",
   "execution_count": null,
   "metadata": {},
   "outputs": [
    {
     "name": "stdout",
     "output_type": "stream",
     "text": [
      "[[ 0.          0.          0.          0.          0.          0.        ]\n",
      " [-0.35       -0.35       -0.35        1.43294197 -0.34960461 -0.25      ]\n",
      " [-0.325      -0.325      -0.325       1.11327752 -0.73237774 -0.25      ]\n",
      " [-0.3        -0.3        -0.3         0.70885108 -1.02416512 -0.25      ]\n",
      " [-0.275      -0.275      -0.275       0.24480792 -1.20682484 -0.25      ]] \n",
      " [-1. -1. -1. -1. -1. -1. -1. -1. -1. -1. -1. -1. -1. -1. -1. -1.]\n"
     ]
    }
   ],
   "source": [
    "N_test = 5\n",
    "x0_test = np.ones(6)\n",
    "xf_test = np.zeros(6)\n",
    "# the index order is N x n\n",
    "X_test = np.linspace(x0_test,xf_test,num=N_test)\n",
    "U_test = np.ones((N_test-1, 2))\n",
    "test_args = {\n",
    "    'x0' : x0_test,\n",
    "}\n",
    "print(\n",
    "    eq_constr(X_test, U_test, test_args), '\\n',\n",
    "    ineq_constr(X_test, U_test, test_args)\n",
    ")"
   ]
  },
  {
   "cell_type": "markdown",
   "metadata": {},
   "source": [
    "## Q3 20 pts: Augmented Lagrangian \n",
    "\n",
    "Here we will formulate the augmented Lagrangian for the direct transcription problem. We will use a specific form of the augmented Lagrangian (different from what we saw in class) that has more stable behavior when solving. The augmented Lagrangian you will code up is of the form \n",
    "$$\n",
    "\\begin{align}\n",
    "    \\mathcal{L}(X, U, \\Lambda, \\Gamma) &= \\mathcal{J}(X, U) \\\\ \n",
    "    &+ \\sum_i \\Lambda_i h_i(X, U) + \\frac{c}{2} h_i(X, U)^2 \\\\ \n",
    "    &+ \\frac{1}{2 c} \\sum_j \\max(0, \\Gamma_j + c g_j(X, U) )^2 - \\Gamma_j^2\n",
    "\\end{align}\n",
    "$$\n",
    "We can use element-wise math with the `*` operator with python numpy/jax to batch calculate each constraint value and any square terms. Thus, we can code up the augmented Lagrangian as \n",
    "$$\n",
    "\\begin{align}\n",
    "    \\mathcal{L}(X, U, \\Lambda, \\Gamma) &= \\mathcal{J}(X, U) \\\\ \n",
    "    &+ \\sum \\left( \\Lambda * h(X, U) + \\frac{c}{2} h(X, U)^2 \\right) \\\\ \n",
    "    &+ \\frac{1}{2 c} \\sum \\left( \\max(0, \\Gamma + c g(X, U) )^2 - \\Gamma^2\\right)\n",
    "\\end{align}\n",
    "$$"
   ]
  },
  {
   "cell_type": "code",
   "execution_count": null,
   "metadata": {},
   "outputs": [],
   "source": [
    "def AugmentedLagrangian(params, args=None):\n",
    "    \"\"\"\n",
    "        Input: params, a dictionary containing X, U, Lam, Gamma\n",
    "                    with keys of the same variable name\n",
    "               arms, a dictionary of constant arguments that may be useful in other\n",
    "                functions\n",
    "        Output: scalar augmented Lagrangian evaluations\n",
    "    \"\"\"\n",
    "    X       = params['X']\n",
    "    U       = params['U']\n",
    "    Lam     = params['Lam']\n",
    "    Gamma   = params['Gamma']\n",
    "    c       = args['c']\n",
    "    _eq_eval    = eq_constr(X, U, args)\n",
    "    _ineq_eval  = ineq_constr(X, U, args)\n",
    "\n",
    "    return # ADD CODE HERE"
   ]
  },
  {
   "cell_type": "markdown",
   "metadata": {},
   "source": [
    "check your answer below\n",
    "\n",
    "23.972359417336303 \n",
    " {'Gamma': Array([0., 0., 0., 0., 0., 0., 0., 0., 0., 0., 0., 0., 0., 0., 0., 0.],      dtype=float64), 'Lam': Array([[ 0.        ,  0.        ,  0.        ,  0.        ,  0.        ,\n",
    "         0.        ],\n",
    "       [-0.35      , -0.35      , -0.35      ,  1.43294197, -0.34960461,\n",
    "        -0.25      ],\n",
    "       [-0.325     , -0.325     , -0.325     ,  1.11327752, -0.73237774,\n",
    "        -0.25      ],\n",
    "       [-0.3       , -0.3       , -0.3       ,  0.70885108, -1.02416512,\n",
    "        -0.25      ],\n",
    "       [-0.275     , -0.275     , -0.275     ,  0.24480792, -1.20682484,\n",
    "        -0.25      ]], dtype=float64), 'U': Array([[1.42167127, 1.37167127],\n",
    "       [1.32172575, 1.27172575],\n",
    "       [1.26563076, 1.21563076],\n",
    "       [1.25687403, 1.20687403]], dtype=float64), 'X': Array([[ 0.35      ,  0.35      ,  1.31007943, -1.39794197,  0.38460461,\n",
    "         0.285     ],\n",
    "       [-0.025     , -0.025     ,  0.60571143,  0.35216445,  0.41527313,\n",
    "         0.0325    ],\n",
    "       [-0.025     , -0.025     ,  0.23712886,  0.43442644,  0.32178739,\n",
    "         0.03      ],\n",
    "       [-0.025     , -0.025     , -0.14775162,  0.49154316,  0.21015972,\n",
    "         0.0275    ],\n",
    "       [-0.275     , -0.275     , -6.55818531,  0.24480792, -1.20682484,\n",
    "        -0.25      ]], dtype=float64)}\n"
   ]
  },
  {
   "cell_type": "code",
   "execution_count": null,
   "metadata": {},
   "outputs": [
    {
     "name": "stdout",
     "output_type": "stream",
     "text": [
      "23.972359417336303 \n",
      " {'Gamma': Array([0., 0., 0., 0., 0., 0., 0., 0., 0., 0., 0., 0., 0., 0., 0., 0.],      dtype=float64), 'Lam': Array([[ 0.        ,  0.        ,  0.        ,  0.        ,  0.        ,\n",
      "         0.        ],\n",
      "       [-0.35      , -0.35      , -0.35      ,  1.43294197, -0.34960461,\n",
      "        -0.25      ],\n",
      "       [-0.325     , -0.325     , -0.325     ,  1.11327752, -0.73237774,\n",
      "        -0.25      ],\n",
      "       [-0.3       , -0.3       , -0.3       ,  0.70885108, -1.02416512,\n",
      "        -0.25      ],\n",
      "       [-0.275     , -0.275     , -0.275     ,  0.24480792, -1.20682484,\n",
      "        -0.25      ]], dtype=float64), 'U': Array([[1.42167127, 1.37167127],\n",
      "       [1.32172575, 1.27172575],\n",
      "       [1.26563076, 1.21563076],\n",
      "       [1.25687403, 1.20687403]], dtype=float64), 'X': Array([[ 0.35      ,  0.35      ,  1.31007943, -1.39794197,  0.38460461,\n",
      "         0.285     ],\n",
      "       [-0.025     , -0.025     ,  0.60571143,  0.35216445,  0.41527313,\n",
      "         0.0325    ],\n",
      "       [-0.025     , -0.025     ,  0.23712886,  0.43442644,  0.32178739,\n",
      "         0.03      ],\n",
      "       [-0.025     , -0.025     , -0.14775162,  0.49154316,  0.21015972,\n",
      "         0.0275    ],\n",
      "       [-0.275     , -0.275     , -6.55818531,  0.24480792, -1.20682484,\n",
      "        -0.25      ]], dtype=float64)}\n"
     ]
    }
   ],
   "source": [
    "N_test = 5\n",
    "x0_test = np.ones(6)\n",
    "xf_test = np.zeros(6)\n",
    "\n",
    "# the index order is N x n\n",
    "X_test = np.linspace(x0_test,xf_test,num=N_test)\n",
    "U_test = np.ones((N_test-1, 2))\n",
    "test_params = {\n",
    "    'X' : X_test,\n",
    "    'U' : U_test\n",
    "}\n",
    "test_args = {\n",
    "    'x0' : x0_test,\n",
    "    'c' : 1.0\n",
    "}\n",
    "test_params.update(\n",
    "    {\n",
    "        'Lam' : np.zeros_like(eq_constr(X_test, U_test, test_args)),\n",
    "        'Gamma' : np.zeros_like(ineq_constr(X_test, U_test, test_args))\n",
    "     }\n",
    ")\n",
    "print(\n",
    "    AugmentedLagrangian(test_params, test_args), '\\n',\n",
    "    grad(AugmentedLagrangian)(test_params, test_args)\n",
    ")"
   ]
  },
  {
   "cell_type": "markdown",
   "metadata": {},
   "source": [
    "## Q4 10 pts: A First-Order minimax solver \n",
    "\n",
    "Here, we will put together all the missing pieces to create our first solver. Given the augmented Lagrangian above, we want to solve the following problem \n",
    "$$\n",
    "\\begin{equation}\n",
    "    \\max_{\\Lambda, \\Gamma} \\min_{X, U} \\mathcal{L}(X, U, \\Lambda, \\Gamma)\n",
    "\\end{equation}\n",
    "$$\n",
    "which can be solved with a first-order gradient method where we iterate on the following \n",
    "$$\n",
    "\\begin{align}\n",
    "X \\gets X - \\alpha \\nabla_x \\mathcal{L} \\\\ \n",
    "U \\gets U - \\alpha \\nabla_u \\mathcal{L} \\\\ \n",
    "\\Lambda \\gets  \\Lambda + \\alpha \\nabla_\\lambda \\mathcal{L} \\\\ \n",
    "\\Gamma \\gets \\Gamma + \\alpha \\nabla_\\gamma \\mathcal{L} \\\\ \n",
    "\\end{align}\n",
    "$$\n",
    "and $\\alpha$ is a positive step-size.\n",
    "\n",
    "Fill in the code below using the provided jitted and gradient functions. Note that `jitted_dLdp` returns a dictionary of derivative values with the same keys used in `params` for which you can access. "
   ]
  },
  {
   "cell_type": "code",
   "execution_count": null,
   "metadata": {},
   "outputs": [],
   "source": [
    "jitted_Lagrangian   = jit(AugmentedLagrangian)\n",
    "jitted_dLdp         = jit(grad(AugmentedLagrangian))\n",
    "jitted_obj_fun      = jit(objective_fun)\n",
    "jitted_Lagrangian(test_params, test_args)\n",
    "jitted_dLdp(test_params, test_args)\n",
    "\n",
    "def first_order_minimax(params, args, step_size=1e-1, tol=1e-3, max_iter=10_000):\n",
    "    for _ in range(max_iter):\n",
    "        # calculate the derivatives using jitted_dLdp\n",
    "        # ADD CODE HERE\n",
    "        # perform updates on each parameter (reuse the params dictionary)\n",
    "        # ADD CODE HERE\n",
    "        # check to see if tolerance is satisfied\n",
    "        # ADD CODE HERE\n",
    "        if ....\n",
    "            print('Early tol condition met!')\n",
    "            break\n",
    "    # when finished, spit out the loss\n",
    "    print('loss', jitted_obj_fun(params['X'], params['U']))\n",
    "    return params"
   ]
  },
  {
   "cell_type": "markdown",
   "metadata": {},
   "source": [
    "## Q5 10 pts Bring it all together\n",
    "\n",
    "Solve your first drone back-flip! Setup the initial conditions of the problem below and solve + plot your solution, making sure constraints are satisfied. Contraint multipliers should be the same shape and dimension of the constraint output and be initializes as zeros (use the `np.zeros_like` function). The initial trajectory guess for X should be an interpolating solution from x0 to xf (hint use `np.linspace` with the num argument as N). Controls should be initialized with ones of size N-1 x m where m=2. "
   ]
  },
  {
   "cell_type": "code",
   "execution_count": null,
   "metadata": {},
   "outputs": [],
   "source": [
    "t0 = 0\n",
    "tf = 6\n",
    "N = int(tf/_dt)\n",
    "x0 = np.zeros(6)\n",
    "xf = _xd.copy()\n",
    "\n",
    "# the index order is N x n use np array\n",
    "X = # ADD CODE HERE\n",
    "U = # ADD CODE HERE\n",
    "params = {\n",
    "    'X' : X,\n",
    "    'U' : U\n",
    "}\n",
    "args = { # x0 should be the initial condition, leave c alone as that is used for the constraints\n",
    "    'x0' : ,# ADD CODE HERE\n",
    "    'c' : 1.0\n",
    "}\n",
    "\n",
    "# Hint: use the constraints themselves to spit out an array for which you will initialize as zeros\n",
    "params.update(\n",
    "    {\n",
    "        'Lam' : # ADD CODE HERE,\n",
    "        'Gamma' : # ADD CODE HERE,\n",
    "     }\n",
    ")"
   ]
  },
  {
   "cell_type": "markdown",
   "metadata": {},
   "source": [
    "Solve and Plot your solution. Please label the axis and plot the first three values of the state and all the controls (see example below). \n",
    "\n",
    "![image.png](plot_ex.png)\n",
    "loss should be \n",
    "loss 0.15348441979967503"
   ]
  },
  {
   "cell_type": "code",
   "execution_count": null,
   "metadata": {},
   "outputs": [
    {
     "name": "stdout",
     "output_type": "stream",
     "text": [
      "loss 0.15348441979967503\n"
     ]
    },
    {
     "data": {
      "text/plain": [
       "Text(0, 0.5, 'state and control')"
      ]
     },
     "execution_count": 40,
     "metadata": {},
     "output_type": "execute_result"
    },
    {
     "data": {
      "image/png": "[encoded data removed]",
      "text/plain": [
       "<Figure size 640x480 with 1 Axes>"
      ]
     },
     "metadata": {},
     "output_type": "display_data"
    }
   ],
   "source": [
    "# ADD CODE HERE"
   ]
  },
  {
   "cell_type": "markdown",
   "metadata": {},
   "source": [
    "## Visualize the solution "
   ]
  },
  {
   "cell_type": "code",
   "execution_count": null,
   "metadata": {},
   "outputs": [
    {
     "name": "stdout",
     "output_type": "stream",
     "text": [
      "You can open the visualizer by visiting the following URL:\n",
      "http://127.0.0.1:7004/static/\n"
     ]
    },
    {
     "data": {
      "text/html": [
       "\n",
       "            <div style=\"height: 400px; width: 100%; overflow-x: auto; overflow-y: hidden; resize: both\">\n",
       "            <iframe src=\"http://127.0.0.1:7004/static/\" style=\"width: 100%; height: 100%; border: none\"></iframe>\n",
       "            </div>\n",
       "            "
      ],
      "text/plain": [
       "<IPython.core.display.HTML object>"
      ]
     },
     "execution_count": 41,
     "metadata": {},
     "output_type": "execute_result"
    }
   ],
   "source": [
    "viz = meshcat.Visualizer()\n",
    "\n",
    "drone  = viz[\"drone\"]\n",
    "drone_body = drone[\"body\"]\n",
    "drone_body.set_object(\n",
    "    geom.Box([0.1,0.5,0.02])\n",
    ")\n",
    "drone_propFL = drone[\"propFL\"]\n",
    "drone_propFL.set_transform(tfm.translation_matrix([0.,-0.25,0.05])@tfm.rotation_matrix(np.pi/2,[1,0,0]))\n",
    "drone_propFL.set_object(\n",
    "    geom.Cylinder(height=0.01, radius=0.2)\n",
    ")\n",
    "\n",
    "drone_propFR = drone[\"propFR\"]\n",
    "drone_propFR.set_transform(tfm.translation_matrix([0.,0.25,0.05])@tfm.rotation_matrix(np.pi/2,[1,0,0]))\n",
    "drone_propFR.set_object(\n",
    "    geom.Cylinder(height=0.01, radius=0.2)\n",
    ")\n",
    "viz.jupyter_cell()"
   ]
  },
  {
   "cell_type": "markdown",
   "metadata": {},
   "source": [
    "Animate"
   ]
  },
  {
   "cell_type": "code",
   "execution_count": null,
   "metadata": {},
   "outputs": [],
   "source": [
    "X = params['X']\n",
    "for t in range(N):\n",
    "    _x = X[t]\n",
    "    q, qdot = np.split(_x, 2)\n",
    "    drone.set_transform(\n",
    "        tfm.translation_matrix([0,q[0],q[1]]) @ tfm.rotation_matrix(q[2],[1,0,0])\n",
    "    )\n",
    "    time.sleep(_dt)"
   ]
  },
  {
   "cell_type": "markdown",
   "metadata": {},
   "source": [
    "# MPC-based solution of drone backflip\n",
    "\n",
    "Here, we will solve the same problem but instead running an MPC controller instead of trajectory optimization. We will make several reductions to the problem above to make the MPC run faster. "
   ]
  },
  {
   "cell_type": "markdown",
   "metadata": {},
   "source": [
    "## Q6 10pts: Soft control constraints\n",
    "\n",
    "First we will reduce the problem to a shooting based objective with soft constraints. Let's construct a function that, given an initial state condition and a control sequence returns a state and control trajectory. We will also incorporate a soft control constraint using a differentiable saturation function `umax*(tanh(x)/2 +0.5)` into the forward shooting which returns a smooth approximation of a function clip between 0 and umax=2. We will use this saturated value in the objective function to compute the cost of control."
   ]
  },
  {
   "cell_type": "code",
   "execution_count": null,
   "metadata": {},
   "outputs": [],
   "source": [
    "def u_sat(u):\n",
    "    return # ADD CODE HERE\n",
    "\n",
    "def shoot_F(x0, U):\n",
    "    x = x0.copy()\n",
    "    X = [x.copy()]\n",
    "    U_sat = []\n",
    "    for u in U:\n",
    "        # ADD CODE HERE\n",
    "        # USE THE .append function for the lists X, U_sat to append new state and saturated control\n",
    "    return np.array(X), np.array(U_sat)"
   ]
  },
  {
   "cell_type": "markdown",
   "metadata": {},
   "source": [
    "test your code\n",
    "\n",
    "(10, 6) (9, 2) (Array([[ 0.        ,  0.        ,  0.        ,  0.        ,  0.        ,\n",
    "         0.        ],\n",
    "       [ 0.        ,  0.        ,  0.        ,  0.        ,  2.54218831,\n",
    "         0.        ],\n",
    "       [ 0.        ,  0.25421883,  0.        ,  0.        ,  5.08437662,\n",
    "         0.        ],\n",
    "       [ 0.        ,  0.76265649,  0.        ,  0.        ,  7.62656494,\n",
    "         0.        ],\n",
    "       [ 0.        ,  1.52531299,  0.        ,  0.        , 10.16875325,\n",
    "         0.        ],\n",
    "       [ 0.        ,  2.54218831,  0.        ,  0.        , 12.71094156,\n",
    "         0.        ],\n",
    "       [ 0.        ,  3.81328247,  0.        ,  0.        , 15.25312987,\n",
    "         0.        ],\n",
    "       [ 0.        ,  5.33859546,  0.        ,  0.        , 17.79531818,\n",
    "         0.        ],\n",
    "       [ 0.        ,  7.11812727,  0.        ,  0.        , 20.3375065 ,\n",
    "         0.        ],\n",
    "       [ 0.        ,  9.15187792,  0.        ,  0.        , 22.87969481,\n",
    "         0.        ]], dtype=float64), Array([[1.76159416, 1.76159416],\n",
    "       [1.76159416, 1.76159416],\n",
    "       [1.76159416, 1.76159416],\n",
    "       [1.76159416, 1.76159416],\n",
    "       [1.76159416, 1.76159416],\n",
    "       [1.76159416, 1.76159416],\n",
    "       [1.76159416, 1.76159416],\n",
    "       [1.76159416, 1.76159416],\n",
    "       [1.76159416, 1.76159416]], dtype=float64))\n"
   ]
  },
  {
   "cell_type": "code",
   "execution_count": null,
   "metadata": {},
   "outputs": [
    {
     "name": "stdout",
     "output_type": "stream",
     "text": [
      "(10, 6) (9, 2) (Array([[ 0.        ,  0.        ,  0.        ,  0.        ,  0.        ,\n",
      "         0.        ],\n",
      "       [ 0.        ,  0.        ,  0.        ,  0.        ,  2.54218831,\n",
      "         0.        ],\n",
      "       [ 0.        ,  0.25421883,  0.        ,  0.        ,  5.08437662,\n",
      "         0.        ],\n",
      "       [ 0.        ,  0.76265649,  0.        ,  0.        ,  7.62656494,\n",
      "         0.        ],\n",
      "       [ 0.        ,  1.52531299,  0.        ,  0.        , 10.16875325,\n",
      "         0.        ],\n",
      "       [ 0.        ,  2.54218831,  0.        ,  0.        , 12.71094156,\n",
      "         0.        ],\n",
      "       [ 0.        ,  3.81328247,  0.        ,  0.        , 15.25312987,\n",
      "         0.        ],\n",
      "       [ 0.        ,  5.33859546,  0.        ,  0.        , 17.79531818,\n",
      "         0.        ],\n",
      "       [ 0.        ,  7.11812727,  0.        ,  0.        , 20.3375065 ,\n",
      "         0.        ],\n",
      "       [ 0.        ,  9.15187792,  0.        ,  0.        , 22.87969481,\n",
      "         0.        ]], dtype=float64), Array([[1.76159416, 1.76159416],\n",
      "       [1.76159416, 1.76159416],\n",
      "       [1.76159416, 1.76159416],\n",
      "       [1.76159416, 1.76159416],\n",
      "       [1.76159416, 1.76159416],\n",
      "       [1.76159416, 1.76159416],\n",
      "       [1.76159416, 1.76159416],\n",
      "       [1.76159416, 1.76159416],\n",
      "       [1.76159416, 1.76159416]], dtype=float64))\n"
     ]
    }
   ],
   "source": [
    "x0 = np.zeros(6)\n",
    "U = np.ones((9,2))\n",
    "print(\n",
    "    shoot_F(x0,U)[0].shape, shoot_F(x0,U)[1].shape,\n",
    "    shoot_F(x0,U)\n",
    ")"
   ]
  },
  {
   "cell_type": "markdown",
   "metadata": {},
   "source": [
    "## Q7 20 pts: Shooting-Based Objective Function\n",
    "\n",
    "Here, we will need to redefine the cost function and terminal cost defined previously as MPC plans on smaller time-scales with a receding horizon (terminal time is then always moving away from the controller). As a result, we need to inform the controller on what the task is throughout planning (especially since MPC methods are simpler and need a lot more help to inform of solutions). We will define a quadratic cost with a terminal condition \n",
    "$$\n",
    "    J = \\frac{1}{N} \\sum (x_k - x_d)^\\top Q (x_k - x_d) + u_k^\\top R u_k + (x_N - x_d)^\\top Q_f (x_N - x_d)\n",
    "$$\n",
    "where $Q, Q_f, R$ are define below, and $N$ is the discrete time horizon (used to normalize the objective value).\n",
    "\n",
    "In addition, this function will take in a control sequence an initial state and implicitly simulate the state trajectory using the shooting function and return a scalar loss value for the state/control trajectories."
   ]
  },
  {
   "cell_type": "code",
   "execution_count": null,
   "metadata": {},
   "outputs": [],
   "source": [
    "_Q = np.diag(np.array([2., 2., 80., .01, .01, .001]))\n",
    "_Qf = np.diag(np.array([4., 4., 80., .01, .01, .01]))\n",
    "_R = np.diag(np.array([0.0001, 0.0001]))\n",
    "def soft_objective(x0, U):\n",
    "    X, U_sat = shoot_F(x0, U)\n",
    "    J = 0.0\n",
    "    for x,u in zip(X[:-1], U_sat):\n",
    "        # ADD CODE HERE\n",
    "    return"
   ]
  },
  {
   "cell_type": "markdown",
   "metadata": {},
   "source": [
    "check your solution\n",
    "\n",
    "3214.2475970870037 \n",
    " [[-1.06703508e+01  1.97283558e+01]\n",
    " [-7.96106806e+00  1.56823704e+01]\n",
    " [-5.67185427e+00  1.20607246e+01]\n",
    " [-3.79416819e+00  8.87195955e+00]\n",
    " [-2.31519799e+00  6.12888718e+00]\n",
    " [-1.21786119e+00  3.84858990e+00]\n",
    " [-4.80804735e-01  2.05242081e+00]\n",
    " [-7.84049178e-02  7.66003598e-01]\n",
    " [ 1.92325660e-02  1.92325660e-02]]\n"
   ]
  },
  {
   "cell_type": "code",
   "execution_count": null,
   "metadata": {},
   "outputs": [
    {
     "name": "stdout",
     "output_type": "stream",
     "text": [
      "3214.2475970870037 \n",
      " [[-1.06703508e+01  1.97283558e+01]\n",
      " [-7.96106806e+00  1.56823704e+01]\n",
      " [-5.67185427e+00  1.20607246e+01]\n",
      " [-3.79416819e+00  8.87195955e+00]\n",
      " [-2.31519799e+00  6.12888718e+00]\n",
      " [-1.21786119e+00  3.84858990e+00]\n",
      " [-4.80804735e-01  2.05242081e+00]\n",
      " [-7.84049178e-02  7.66003598e-01]\n",
      " [ 1.92325660e-02  1.92325660e-02]]\n"
     ]
    }
   ],
   "source": [
    "x0 = np.zeros(6)\n",
    "U = np.ones((9,2))\n",
    "print(\n",
    "    soft_objective(x0, U), '\\n',\n",
    "    grad(soft_objective, argnums=1)(x0,U)\n",
    ")"
   ]
  },
  {
   "cell_type": "markdown",
   "metadata": {},
   "source": [
    "## Q8 20 pts: MPC formulation \n",
    "\n",
    "Here, we will form the MPC controller. Recall that the control input needs to be time shifted. This will be done using an inplace assignment based on the jax syntax `U = U.at[:-1].set(U[1:])`, fill in the algorithm to update the control using the step_size variable as a first-order method as done above. "
   ]
  },
  {
   "cell_type": "code",
   "execution_count": null,
   "metadata": {},
   "outputs": [],
   "source": [
    "jitted_grad_soft_obj = jit(grad(soft_objective, argnums=1))\n",
    "# evaluate this one to compile\n",
    "jitted_grad_soft_obj(x0,U)\n",
    "\n",
    "def mpc(x0, U, step_size=1e-3):\n",
    "    # shift the controls\n",
    "    # ADD CODE HERE\n",
    "    for i in range(4_000):\n",
    "        # ADD CODE HERE\n",
    "\n",
    "        # check if |dU| is small\n",
    "        if np.linalg.norm(dU) < 1e-3:\n",
    "            break\n",
    "    return U"
   ]
  },
  {
   "cell_type": "markdown",
   "metadata": {},
   "source": [
    "check your solution\n",
    "[[ 3.42343083 -3.5459795 ]\n",
    " [ 3.28741085 -3.42092557]\n",
    " [ 3.13115721 -3.27728003]\n",
    " [ 2.94804728 -3.10820828]\n",
    " [ 2.7276021  -2.90206923]\n",
    " [ 2.45177566 -2.63638718]\n",
    " [ 2.08636243 -2.25699453]\n",
    " [ 1.56687352 -1.5455861 ]\n",
    " [ 0.96022509  0.96125492]]\n"
   ]
  },
  {
   "cell_type": "code",
   "execution_count": null,
   "metadata": {},
   "outputs": [
    {
     "name": "stdout",
     "output_type": "stream",
     "text": [
      "[[ 3.42343083 -3.5459795 ]\n",
      " [ 3.28741085 -3.42092557]\n",
      " [ 3.13115721 -3.27728003]\n",
      " [ 2.94804728 -3.10820828]\n",
      " [ 2.7276021  -2.90206923]\n",
      " [ 2.45177566 -2.63638718]\n",
      " [ 2.08636243 -2.25699453]\n",
      " [ 1.56687352 -1.5455861 ]\n",
      " [ 0.96022509  0.96125492]]\n"
     ]
    }
   ],
   "source": [
    "x0 = np.zeros(6)\n",
    "U = np.ones((9,2))\n",
    "print(\n",
    "    mpc(x0, U)\n",
    ")"
   ]
  },
  {
   "cell_type": "markdown",
   "metadata": {},
   "source": [
    "## Q9 10 pts: Animate and run the algorithm in real-time. \n",
    "\n",
    "Run the MPC in the loop using the dynamics F(x, u) as a stepping function with MPC generating controls. Recall that you only apply the first control U[0] to the dynamics. Render what the drone is doing as you step forward the sim. "
   ]
  },
  {
   "cell_type": "code",
   "execution_count": null,
   "metadata": {},
   "outputs": [
    {
     "name": "stdout",
     "output_type": "stream",
     "text": [
      "You can open the visualizer by visiting the following URL:\n",
      "http://127.0.0.1:7005/static/\n"
     ]
    },
    {
     "data": {
      "text/html": [
       "\n",
       "            <div style=\"height: 400px; width: 100%; overflow-x: auto; overflow-y: hidden; resize: both\">\n",
       "            <iframe src=\"http://127.0.0.1:7005/static/\" style=\"width: 100%; height: 100%; border: none\"></iframe>\n",
       "            </div>\n",
       "            "
      ],
      "text/plain": [
       "<IPython.core.display.HTML object>"
      ]
     },
     "execution_count": 49,
     "metadata": {},
     "output_type": "execute_result"
    }
   ],
   "source": [
    "viz = meshcat.Visualizer()\n",
    "\n",
    "drone  = viz[\"drone\"]\n",
    "drone_body = drone[\"body\"]\n",
    "drone_body.set_object(\n",
    "    geom.Box([0.1,0.5,0.02])\n",
    ")\n",
    "drone_propFL = drone[\"propFL\"]\n",
    "drone_propFL.set_transform(tfm.translation_matrix([0.,-0.25,0.05])@tfm.rotation_matrix(np.pi/2,[1,0,0]))\n",
    "drone_propFL.set_object(\n",
    "    geom.Cylinder(height=0.01, radius=0.2)\n",
    ")\n",
    "\n",
    "drone_propFR = drone[\"propFR\"]\n",
    "drone_propFR.set_transform(tfm.translation_matrix([0.,0.25,0.05])@tfm.rotation_matrix(np.pi/2,[1,0,0]))\n",
    "drone_propFR.set_object(\n",
    "    geom.Cylinder(height=0.01, radius=0.2)\n",
    ")\n",
    "viz.jupyter_cell()"
   ]
  },
  {
   "cell_type": "markdown",
   "metadata": {},
   "source": [
    "Write Code Here"
   ]
  },
  {
   "cell_type": "code",
   "execution_count": null,
   "metadata": {},
   "outputs": [],
   "source": [
    "tH = 2\n",
    "N = int(tH/_dt)\n",
    "x0 = np.zeros(6)\n",
    "U = np.zeros((N-1, 2))\n",
    "\n",
    "for t in range(100):\n",
    "    # ADD CODE HERE\n",
    "    q, qdot = np.split(x0, 2)\n",
    "    drone.set_transform(\n",
    "        tfm.translation_matrix([0,q[0],q[1]]) @ tfm.rotation_matrix(q[2],[1,0,0])\n",
    "    )\n",
    "    time.sleep(_dt)\n"
   ]
  },
  {
   "cell_type": "markdown",
   "metadata": {},
   "source": [
    "## Extra Credit on any assignment: MPC for Cartpole swingup + balance\n",
    "write an mpc stabilizing controller for the cart pendulum pendulum is in the upright position following the open-loop control `U[t]`. Visualize the results below."
   ]
  },
  {
   "cell_type": "code",
   "execution_count": null,
   "metadata": {},
   "outputs": [],
   "source": []
  }
 ],
 "metadata": {
  "kernelspec": {
   "display_name": "base",
   "language": "python",
   "name": "python3"
  },
  "language_info": {
   "codemirror_mode": {
    "name": "ipython",
    "version": 3
   },
   "file_extension": ".py",
   "mimetype": "text/x-python",
   "name": "python",
   "nbconvert_exporter": "python",
   "pygments_lexer": "ipython3",
   "version": "3.11.4"
  },
  "orig_nbformat": 4,
  "vscode": {
   "interpreter": {
    "hash": "798b538306534186ead633776371254f522515bdb811fa2fd0b251c0d7733175"
   }
  }
 },
 "nbformat": 4,
 "nbformat_minor": 2
}
