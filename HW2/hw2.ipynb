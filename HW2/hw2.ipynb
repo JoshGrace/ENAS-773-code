{
 "cells": [
  {
   "cell_type": "markdown",
   "metadata": {},
   "source": [
    "## Testing installed packages via Conda \n",
    "\n",
    "We will first ensure that the installed packages are working properly. You should be able to run the following cells. Once everything passes, continue onto the geometry assignment. "
   ]
  },
  {
   "cell_type": "code",
   "execution_count": 227,
   "metadata": {},
   "outputs": [
    {
     "name": "stdout",
     "output_type": "stream",
     "text": [
      "Import packages works! Great work following directions :D !\n"
     ]
    }
   ],
   "source": [
    "try: \n",
    "    import meshcat\n",
    "    import meshcat.geometry as geom\n",
    "    import meshcat.transformations as tf\n",
    "    import numpy as np\n",
    "    import time\n",
    "    import numpy as np\n",
    "    import jax.numpy as jnp\n",
    "    import jax\n",
    "    from jaxlie import SE2, SE3\n",
    "    import matplotlib.pyplot as plt\n",
    "    \n",
    "    print('Import packages works! Great work following directions :D !')\n",
    "except Exception as e:\n",
    "    print('Something went wrong. The following error tells you what happened. Go through README.md again and see what went wrong')\n",
    "    print(e)"
   ]
  },
  {
   "cell_type": "markdown",
   "metadata": {},
   "source": [
    "## Meshcat Visualization Tool\n",
    "Meshcat is a WebGL based 3D renderer that works on your web browser and is based in javascript. We will be using this visualization tool to plot reference frames, perform transforms, and build robot visualizations. Run the code below to familiarize yourself with `meshcat-python` which is a wrapper around meshcat in python. You can check out more examples at the [github page](https://github.com/meshcat-dev/meshcat-python/tree/master/examples) . \n"
   ]
  },
  {
   "cell_type": "code",
   "execution_count": 228,
   "metadata": {},
   "outputs": [
    {
     "name": "stdout",
     "output_type": "stream",
     "text": [
      "You can open the visualizer by visiting the following URL:\n",
      "http://127.0.0.1:7003/static/\n"
     ]
    },
    {
     "data": {
      "text/html": [
       "\n",
       "            <div style=\"height: 400px; width: 100%; overflow-x: auto; overflow-y: hidden; resize: both\">\n",
       "            <iframe src=\"http://127.0.0.1:7003/static/\" style=\"width: 100%; height: 100%; border: none\"></iframe>\n",
       "            </div>\n",
       "            "
      ],
      "text/plain": [
       "<IPython.core.display.HTML object>"
      ]
     },
     "execution_count": 228,
     "metadata": {},
     "output_type": "execute_result"
    }
   ],
   "source": [
    "# Create a new visualizer\n",
    "vis = meshcat.Visualizer()\n",
    "\n",
    "# Create a jupyter cell that renders the visalizer by calling the function below\n",
    "vis.jupyter_cell()"
   ]
  },
  {
   "cell_type": "markdown",
   "metadata": {},
   "source": [
    "### Reference frame warmup\n",
    "Here we will create rotation matrices and transform them according to SE(3) transforms that we will generate. You can use the `meshcat.transformations` package to create transforms or `jaxlie.SE3` to create transformation matrices. "
   ]
  },
  {
   "cell_type": "markdown",
   "metadata": {},
   "source": [
    "#### With meshcat"
   ]
  },
  {
   "cell_type": "code",
   "execution_count": 229,
   "metadata": {},
   "outputs": [
    {
     "name": "stdout",
     "output_type": "stream",
     "text": [
      "pure translation \n",
      " [[1. 0. 0. 0.]\n",
      " [0. 1. 0. 0.]\n",
      " [0. 0. 1. 1.]\n",
      " [0. 0. 0. 1.]]\n",
      "pure rotation \n",
      " [[-0.81505087 -0.42403684  0.39482254  0.        ]\n",
      " [-0.14709634  0.81056149  0.56687983  0.        ]\n",
      " [-0.56040588  0.40395895 -0.72302311  0.        ]\n",
      " [ 0.          0.          0.          1.        ]]\n"
     ]
    }
   ],
   "source": [
    "# the brackets creates an instance of an object and starts the creation of a tree structure \n",
    "frame = vis['free frame']\n",
    "# you can set object properties like geometry, color, text, etc, using the meshcat.geometry package (aliased as geom)\n",
    "frame.set_object(geom.triad())\n",
    "# you can also transforms the created object relative to its orgin frame using the meshcat.transformations package (aliased as tf)\n",
    "# first let's translate vertically by 1 (meshcat generates transforms through numpy)\n",
    "T_WA = tf.translation_matrix(np.array([0., 0., 1.0])) \n",
    "print('pure translation \\n',T_WA)\n",
    "# then perform a random rotation relative to A\n",
    "T_AB = tf.random_rotation_matrix()\n",
    "print('pure rotation \\n', T_AB)\n",
    "# the operation to set the transform on the frame we created is below using the python matrix @ operator\n",
    "frame.set_transform(T_WA@T_AB)"
   ]
  },
  {
   "cell_type": "code",
   "execution_count": 230,
   "metadata": {},
   "outputs": [],
   "source": [
    "# order matters for elements of SE(3), try flipping the order and see what happens\n",
    "# let's create a new frame to see this in action!\n",
    "frame2 = vis['free frame2']\n",
    "# you can set object properties like geometry, color, text, etc, using the meshcat.geometry package (aliased as geom)\n",
    "frame2.set_object(geom.triad(scale=0.5))\n",
    "frame2.set_transform(T_AB@T_WA)\n",
    "# notice above that a new coordinate system is created in a random location (since we rotate first, then translate)"
   ]
  },
  {
   "cell_type": "markdown",
   "metadata": {},
   "source": [
    "#### With jaxlie"
   ]
  },
  {
   "cell_type": "code",
   "execution_count": 231,
   "metadata": {},
   "outputs": [
    {
     "name": "stdout",
     "output_type": "stream",
     "text": [
      "pure translation \n",
      " [[1. 0. 0. 0.]\n",
      " [0. 1. 0. 0.]\n",
      " [0. 0. 1. 1.]\n",
      " [0. 0. 0. 1.]]\n",
      "pure rotation \n",
      " [[-0.44009984 -0.19439209  0.8766552   0.        ]\n",
      " [ 0.6505558  -0.74196494  0.16206746  0.        ]\n",
      " [ 0.6189425   0.6416388   0.45300102  0.        ]\n",
      " [ 0.          0.          0.          1.        ]]\n"
     ]
    }
   ],
   "source": [
    "vis.delete()\n",
    "# the brackets creates an instance of an object and starts the creation of a tree structure \n",
    "frame = vis['free frame']\n",
    "# you can set object properties like geometry, color, text, etc, using the meshcat.geometry package (aliased as geom)\n",
    "frame.set_object(geom.triad())\n",
    "# you can also transforms the created object relative to its orgin frame using the meshcat.transformations package (aliased as tf)\n",
    "# first let's translate vertically by 1 (meshcat generates transforms through numpy)\n",
    "T_WA = SE3.exp(np.array([0., 0., 1.0, 0., 0., 0.])).as_matrix()\n",
    "print('pure translation \\n',T_WA)\n",
    "# then perform a random rotation relative to A\n",
    "T_AB = SE3.exp(\n",
    "    np.concatenate([np.zeros(3), np.random.normal(size=(3,)),])\n",
    ").as_matrix()\n",
    "print('pure rotation \\n', T_AB)\n",
    "# the operation to set the transform on the frame we created is below using the python matrix @ operator\n",
    "# you will need to transform the matrix to a float64 instead of a 32 bit number using jax\n",
    "frame.set_transform(np.array(T_WA@T_AB, dtype=np.float64))"
   ]
  },
  {
   "cell_type": "markdown",
   "metadata": {},
   "source": [
    "### Basic Geometry\n",
    "You can also add multiple geometry elements to objects including frames. Below are a few basic operations you may find useful."
   ]
  },
  {
   "cell_type": "code",
   "execution_count": 232,
   "metadata": {},
   "outputs": [],
   "source": [
    "# let us first delete the objects in the visualization. note that this object deletes all elements that are created from the original vis object.\n",
    "vis.delete()\n",
    "\n",
    "# we will create two bodies and attach an axis and a geometry element\n",
    "body1 = vis[\"body1\"]\n",
    "body1[\"geom\"].set_object(\n",
    "    geom.Box([0.5, 0.3, 0.2])\n",
    ")\n",
    "body1[\"axis\"].set_object(geom.triad())\n",
    "body1.set_transform(tf.translation_matrix(np.array([0.,0.,1.0])))\n",
    "\n",
    "body2 = vis[\"body2\"]\n",
    "body2[\"geom\"].set_object(\n",
    "    geom.Cylinder(0.5,0.1)\n",
    ")\n",
    "body2[\"axis\"].set_object(geom.triad())\n",
    "body2.set_transform(tf.random_rotation_matrix())\n",
    "\n",
    "# note it is possible to also translate the elements attached to the body object\n",
    "body2[\"axis\"].set_transform(tf.translation_matrix(np.array([0.,0.25,.0])))\n",
    "# the operation above sets the axis label on the end of the cylinder"
   ]
  },
  {
   "cell_type": "markdown",
   "metadata": {},
   "source": [
    "### A Cart-Pole Robot Example\n",
    "<img src=\"cart_pend.png\" alt=\"image\" width=\"15%\" height=\"auto\">\n",
    "\n",
    "The cart pole has two degrees of freedom -- $y, \\theta$ which define the cart left/right movement and the pole rotation about the cart."
   ]
  },
  {
   "cell_type": "code",
   "execution_count": 233,
   "metadata": {},
   "outputs": [],
   "source": [
    "vis.delete()\n",
    "cart_pole = vis[\"cart_pole\"]\n",
    "# delete just in case there are anything extra that carries over\n",
    "cart_pole.delete()\n",
    "cart = cart_pole[\"cart\"]\n",
    "pivot = cart[\"pivot\"]\n",
    "pole = pivot[\"pole\"]\n",
    "cart.set_object(geom.Box([0.3, 0.5, 0.2]))\n",
    "pole.set_object(geom.Box([0.05, 0.05, 1.0]))\n",
    "pole.set_transform(tf.translation_matrix([0, 0, 0.5]))"
   ]
  },
  {
   "cell_type": "markdown",
   "metadata": {},
   "source": [
    "Cell below renders the visualization closer"
   ]
  },
  {
   "cell_type": "code",
   "execution_count": 234,
   "metadata": {},
   "outputs": [
    {
     "data": {
      "text/html": [
       "\n",
       "            <div style=\"height: 400px; width: 100%; overflow-x: auto; overflow-y: hidden; resize: both\">\n",
       "            <iframe src=\"http://127.0.0.1:7003/static/\" style=\"width: 100%; height: 100%; border: none\"></iframe>\n",
       "            </div>\n",
       "            "
      ],
      "text/plain": [
       "<IPython.core.display.HTML object>"
      ]
     },
     "execution_count": 234,
     "metadata": {},
     "output_type": "execute_result"
    }
   ],
   "source": [
    "vis.jupyter_cell()"
   ]
  },
  {
   "cell_type": "markdown",
   "metadata": {},
   "source": [
    "### Animate the Cart-Pole\n",
    "Here, we animate the cart y position with $y(t) = \\sin(t)$ and pole is rotated $\\theta(t) = t/4$ for $t=[0,4]$ with $dt = 0.1$. Note that the movements are prescribed and purely kinematic and DO NOT abide by any laws of physics."
   ]
  },
  {
   "cell_type": "code",
   "execution_count": 235,
   "metadata": {},
   "outputs": [],
   "source": [
    "# create a for-loop through time\n",
    "for t in np.arange(0, 4, step=0.1):\n",
    "    # set the y-pos transform through the tf/jaxlie module on the cart coordinate system\n",
    "    cart.set_transform(tf.translation_matrix([0,np.sin(t), 0]))\n",
    "    # set the theta-angle transform through the tf/jaxlie module on the pole pivit coordinate system\n",
    "    pivot.set_transform(tf.rotation_matrix(t / 4, [1, 0, 0]))\n",
    "    # the time module creates a real-time effect for visualization \n",
    "    time.sleep(0.1)"
   ]
  },
  {
   "cell_type": "markdown",
   "metadata": {},
   "source": [
    "## Assignment: Visualize and render the following robots\n",
    "Visualizer the following 2D robot using SE(3) transforms and animate the joints accordingly. "
   ]
  },
  {
   "cell_type": "markdown",
   "metadata": {},
   "source": [
    "### Q 1: Double Pendulum\n",
    "<img src=\"double_pendulum.png\" alt=\"image\" width=\"15%\" height=\"auto\">\n",
    "\n",
    "The double pendulum consists of two degrees of freedom $\\theta_1, \\theta_2$ which are the pole rotation points at the base and at the second link measured **relative** to the parent frame. \n",
    "Rotate the base joint from $\\theta_1(t) = 2 \\sin(t)$ and the second joint $\\theta_2(t) = -\\sin(t)$ for $t\\in[0,10s]$ in increments of $dt = 0.1$"
   ]
  },
  {
   "cell_type": "code",
   "execution_count": null,
   "metadata": {},
   "outputs": [
    {
     "data": {
      "text/html": [
       "\n",
       "            <div style=\"height: 400px; width: 100%; overflow-x: auto; overflow-y: hidden; resize: both\">\n",
       "            <iframe src=\"http://127.0.0.1:7003/static/\" style=\"width: 100%; height: 100%; border: none\"></iframe>\n",
       "            </div>\n",
       "            "
      ],
      "text/plain": [
       "<IPython.core.display.HTML object>"
      ]
     },
     "execution_count": 236,
     "metadata": {},
     "output_type": "execute_result"
    }
   ],
   "source": [
    "## RUN ME SO THAT YOU CLEAR THE PREVIOUS EXAMPLES AND CREATE A WINDOW CLOSER TO YOUR CODE\n",
    "vis.delete()\n",
    "vis.jupyter_cell()"
   ]
  },
  {
   "cell_type": "markdown",
   "metadata": {},
   "source": [
    "### ADD CODE BELOW"
   ]
  },
  {
   "cell_type": "code",
   "execution_count": 278,
   "metadata": {},
   "outputs": [],
   "source": [
    "## ADD CODE HERE THAT CONSTRUCTS THE DOUBLE PENDULUM\n",
    "def build_leg(origin, parent_frame, num=0):\n",
    "    leg_1 = parent_frame[f\"leg_{num}_1\"]\n",
    "    leg_1[\"geom\"].set_object(\n",
    "        geom.Cylinder(0.3,0.03)\n",
    "    )\n",
    "    leg_1[\"axis\"].set_object(geom.triad())\n",
    "    leg_1[\"axis\"].set_transform(tf.translation_matrix(np.array([0.,-0.15,0])) @ tf.rotation_matrix(np.pi/2, [1, 0, 0]))\n",
    "    leg_1.set_transform(origin @ tf.rotation_matrix(np.pi + .8, [1, 0, 0]) @ tf.translation_matrix(np.array([0.,0.15,0.])))\n",
    "\n",
    "    leg_2 = leg_1[\"leg_2\"]\n",
    "    leg_2[\"geom\"].set_object(\n",
    "        geom.Cylinder(0.2,0.01)\n",
    "    )\n",
    "    leg_2[\"axis\"].set_object(geom.triad())\n",
    "    leg_2[\"axis\"].set_transform(tf.translation_matrix(np.array([0.,-0.1,0])) @ tf.rotation_matrix(np.pi/2, [1, 0, 0]))\n",
    "    leg_2.set_transform(tf.translation_matrix(np.array([0.,0.15,0])) @ tf.rotation_matrix(1.2, [1, 0, 0]) @ tf.translation_matrix(np.array([0.,0.1,0])))\n",
    "    return leg_1, leg_2\n",
    "\n",
    "leg_1, leg_2 = build_leg(tf.translation_matrix(np.array([0,0,0])), vis)"
   ]
  },
  {
   "cell_type": "code",
   "execution_count": 315,
   "metadata": {},
   "outputs": [],
   "source": [
    "def set_leg_position(curr_leg_1, curr_leg_2, leg_1_offset, origin, leg_2_offset):\n",
    "    curr_leg_1.set_transform(origin @ tf.rotation_matrix(np.pi + .8 + leg_1_offset, [1, 0, 0]) @ tf.translation_matrix(np.array([0.,0.15,0.])))\n",
    "    curr_leg_2.set_transform(tf.translation_matrix(np.array([0.,0.15,0])) @ tf.rotation_matrix(1.2 + leg_2_offset, [1, 0, 0]) @ tf.translation_matrix(np.array([0.,0.1,0])))\n",
    "    "
   ]
  },
  {
   "cell_type": "markdown",
   "metadata": {},
   "source": [
    "### ANIMATE CODE BELOW"
   ]
  },
  {
   "cell_type": "code",
   "execution_count": 269,
   "metadata": {},
   "outputs": [],
   "source": [
    "## ADD CODE HERE THAT ANIMATES THE JOINTS OF THE DOUBLE PENDULUM, USE THE CART PENDULUM EXAMPLE AS REFERENCE\n",
    "DT = 0.1\n",
    "TIME_LENGTH = 10\n",
    "for delta in range(int(TIME_LENGTH / DT)):\n",
    "    curr_time = delta*DT\n",
    "    set_leg_position(leg_1, leg_2, 2 * np.sin(curr_time), -np.sin(curr_time))\n",
    "    time.sleep(DT)"
   ]
  },
  {
   "cell_type": "markdown",
   "metadata": {},
   "source": [
    "### A 2D Robot Dog\n",
    "<img src=\"2d_dog.png\" alt=\"image\" width=\"20%\" height=\"auto\">\n",
    "\n",
    "The robot dog has 5 degrees of freedom (can have more if you want, but for this assignment only 5 are considered). The 5 degrees of freedom consist of $y, \\theta_{FH}, \\theta_{FC}, \\theta_{BH}, \\theta_{BC}$ which are the $y$ base torso position relative to the world, the front hip and calf joints relative to the torso and parent frame, and the back hip and calf joints relative to the torso and parent frame."
   ]
  },
  {
   "cell_type": "markdown",
   "metadata": {},
   "source": [
    "Use cell below to create a jupyter cell to visualize your robot construction"
   ]
  },
  {
   "cell_type": "code",
   "execution_count": 305,
   "metadata": {},
   "outputs": [
    {
     "data": {
      "text/html": [
       "\n",
       "            <div style=\"height: 400px; width: 100%; overflow-x: auto; overflow-y: hidden; resize: both\">\n",
       "            <iframe src=\"http://127.0.0.1:7003/static/\" style=\"width: 100%; height: 100%; border: none\"></iframe>\n",
       "            </div>\n",
       "            "
      ],
      "text/plain": [
       "<IPython.core.display.HTML object>"
      ]
     },
     "execution_count": 305,
     "metadata": {},
     "output_type": "execute_result"
    }
   ],
   "source": [
    "## RUN ME SO THAT YOU CLEAR THE PREVIOUS EXAMPLES AND CREATE A WINDOW CLOSER TO YOUR CODE\n",
    "vis.delete()\n",
    "vis.jupyter_cell()"
   ]
  },
  {
   "cell_type": "markdown",
   "metadata": {},
   "source": [
    "### ADD CODE BELOW"
   ]
  },
  {
   "cell_type": "code",
   "execution_count": 320,
   "metadata": {},
   "outputs": [],
   "source": [
    "## ADD CODE HERE THAT CONSTRUCTS THE 2D ROBOT DOG\n",
    "\n",
    "\n",
    "body = vis[\"body\"]\n",
    "body[\"geom\"].set_object(\n",
    "    geom.Box([0.1, 0.5, 0.2])\n",
    ")\n",
    "body.set_transform(tf.translation_matrix(np.array([0, 0, 0])))\n",
    "body[\"axis\"].set_object(geom.triad())\n",
    "BACK_LEG_ORIGIN = tf.translation_matrix(np.array([0,-.25,0]))\n",
    "FRONT_LEG_ORIGIN = tf.translation_matrix(np.array([0,.25,0]))\n",
    "leg_1_1, leg_1_2 = build_leg(BACK_LEG_ORIGIN, body, num=1)\n",
    "leg_2_1, leg_2_2 = build_leg(FRONT_LEG_ORIGIN, body, num=2)"
   ]
  },
  {
   "cell_type": "markdown",
   "metadata": {},
   "source": [
    "## Animate the robot dog\n",
    "Move the torso from $y(t) = 0.1 t$ in increments of $dt = 0.1$, rotate each joint $i$ by $\\theta_i(t) = \\sin(t)$ along the joint x-axis"
   ]
  },
  {
   "cell_type": "markdown",
   "metadata": {},
   "source": [
    "### ANIMATE CODE BELOW"
   ]
  },
  {
   "cell_type": "code",
   "execution_count": 321,
   "metadata": {},
   "outputs": [
    {
     "data": {
      "text/html": [
       "\n",
       "            <div style=\"height: 400px; width: 100%; overflow-x: auto; overflow-y: hidden; resize: both\">\n",
       "            <iframe src=\"http://127.0.0.1:7003/static/\" style=\"width: 100%; height: 100%; border: none\"></iframe>\n",
       "            </div>\n",
       "            "
      ],
      "text/plain": [
       "<IPython.core.display.HTML object>"
      ]
     },
     "execution_count": 321,
     "metadata": {},
     "output_type": "execute_result"
    }
   ],
   "source": [
    "## RUN ME to CREATE A WINDOW CLOSER TO YOUR CODE\n",
    "vis.jupyter_cell()"
   ]
  },
  {
   "cell_type": "code",
   "execution_count": 323,
   "metadata": {},
   "outputs": [],
   "source": [
    "## ADD CODE HERE THAT ANIMATES THE JOINTS OF THE ROBOT DOG, USE THE CART PENDULUM EXAMPLE AS REFERENCE\n",
    "DT = 0.1\n",
    "TIME_LENGTH = 10\n",
    "\n",
    "for delta in range(int(TIME_LENGTH / DT)):\n",
    "    curr_time = delta*DT\n",
    "    body.set_transform(tf.translation_matrix(np.array([0.,0.1 * curr_time,0.])))\n",
    "    set_leg_position(leg_1_1, leg_1_2, np.sin(curr_time), BACK_LEG_ORIGIN, np.sin(curr_time))\n",
    "    set_leg_position(leg_2_1, leg_2_2, np.sin(curr_time), FRONT_LEG_ORIGIN, np.sin(curr_time))\n",
    "    time.sleep(DT)"
   ]
  }
 ],
 "metadata": {
  "kernelspec": {
   "display_name": "Python 3 (ipykernel)",
   "language": "python",
   "name": "python3"
  },
  "language_info": {
   "codemirror_mode": {
    "name": "ipython",
    "version": 3
   },
   "file_extension": ".py",
   "mimetype": "text/x-python",
   "name": "python",
   "nbconvert_exporter": "python",
   "pygments_lexer": "ipython3",
   "version": "3.11.4"
  }
 },
 "nbformat": 4,
 "nbformat_minor": 4
}
