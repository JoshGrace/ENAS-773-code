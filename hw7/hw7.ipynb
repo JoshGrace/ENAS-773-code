{
 "cells": [
  {
   "cell_type": "code",
   "execution_count": 12,
   "metadata": {},
   "outputs": [],
   "source": [
    "from jax import config\n",
    "config.update(\"jax_enable_x64\", True)\n",
    "\n",
    "import jax.numpy as np\n",
    "import numpy as onp\n",
    "from jax import jacfwd, grad, jit\n",
    "from jaxlie import SE2, SO2, manifold\n",
    "import meshcat\n",
    "from meshcat import transformations as tfm\n",
    "from meshcat import geometry as geom\n",
    "import time\n",
    "import matplotlib.pyplot as plt\n",
    "from IPython.display import clear_output\n",
    "\n",
    "def euler_step(x, f, dt, *args):\n",
    "    return x + f(x, *args) * dt\n",
    "\n",
    "def rk4_step(x, f, dt, *args):\n",
    "    # one step of runge-kutta integration\n",
    "    k1 = dt * f(x, *args)\n",
    "    k2 = dt * f(x + k1/2, *args)\n",
    "    k3 = dt * f(x + k2/2, *args)\n",
    "    k4 = dt * f(x + k3, *args)\n",
    "    return x + 1/6 * (k1 + 2 * k2 + 2 * k3 + k4)"
   ]
  },
  {
   "cell_type": "markdown",
   "metadata": {},
   "source": [
    "# Cart Pendulum Swingup\n",
    "\n",
    "In this homework, we will be controlling a cart pendulum to perform a swingup using iLQR.\n"
   ]
  },
  {
   "cell_type": "markdown",
   "metadata": {},
   "source": [
    "## Dynamics Model \n",
    "To start, first we want to establish the dynamics of the cart pendulum. You can use the E-L equations, but for this example, I will assume I already have this: \n",
    "$$\n",
    "\\begin{equation}\n",
    "    \\dot{x} = \\frac{d}{dt} \\begin{bmatrix} \\theta \\\\ p \\\\ \\dot{\\theta} \\\\ \\dot{p} \\end{bmatrix} = \n",
    "    \\begin{bmatrix}\n",
    "        \\dot{\\theta} \\\\ \n",
    "        \\dot{p} \\\\ \n",
    "        \\frac{g}{l} \\cdot \\sin(\\theta) + \\frac{u}{l} \\cos(\\theta) - c_1 \\dot{\\theta} \\\\ \n",
    "        u - c_2 \\dot{p}\n",
    "    \\end{bmatrix}\n",
    "\\end{equation}\n",
    "$$\n",
    "where the state $x = [\\theta, p, \\dot{\\theta}, \\dot{p}]^\\top$ is the pole angle on the cart body, the cart position, and the angular and linear velocities respectively, $u\\in\\mathbb{R}^1$ is the cart acceleration, and $g, l, c_1, c_2$ are gravity, pole length, and damping constants respectively. "
   ]
  },
  {
   "cell_type": "code",
   "execution_count": 13,
   "metadata": {},
   "outputs": [],
   "source": [
    "_g = 9.81\n",
    "_c1 = 0.02\n",
    "_c2 = 0.02\n",
    "_l = 1.0\n",
    "def f(x, u):\n",
    "    \"\"\"\n",
    "        Cart-Pole Dynamics\n",
    "        input: x \\in R^4, u \\in R^1\n",
    "        output: \\dot{x} \\in R^4\n",
    "    \"\"\"\n",
    "    th, p, thdot, pdot = x\n",
    "    return np.array([\n",
    "                thdot, pdot,\n",
    "                _g*np.sin(th)/_l+u[0]*np.cos(th)/_l-_c1*thdot,\n",
    "                u[0]-_c2*pdot])"
   ]
  },
  {
   "cell_type": "markdown",
   "metadata": {},
   "source": [
    "## Q1 10 pts: Swingup Objective Function \n",
    "Now we need to write down the objective function. Assuming that we do not need any state or control constraints (we will discuss how to include these later), we want an objective function where the running cost $\\ell(x, u)$ has a minimum at the vertical pole position i.e., $\\theta=0$ and when $p=0$. In addition, we want to ensure that velocities are minimized (no jerky movements), so we also want a term that penalizes too large $\\dot{p}, \\dot{\\theta}$. Furthermore, since we have no constraints on the control input $u$, we want to penalize too large of a control input. \n",
    "\n",
    "An obvious choice would be the running cost $\\Vert x \\Vert^2 + \\Vert u \\Vert^2$, however, this does not fully capture that the pole can rotate mod $2 pi$ and be at the upright equilibrium. As a result, underneath the running cost proposed, $6 \\pi$ would be considered a \"poor\" choice (though it is OK). Therefore, we want a function that is *cyclical* in nature that represents this behavior. A good candidate function can be shown to be $(\\cos(\\theta)-1)^2$\n",
    "$$\n",
    "\\begin{equation}\n",
    "\\mathcal{J}(x, u) = \\int_{t_0}^{t_f} \\ell(x,u) dt.\n",
    "\\end{equation}\n",
    "$$\n",
    "where \n",
    "$$\n",
    "    \\ell(x, u) = c_1 (\\cos(\\theta) - 1)^2 + c_2 p^2 + c_3 \\Vert \\dot{q} \\Vert^2 + \\Vert u \\Vert_R^2\n",
    "$$\n",
    "and $c_n, R$ are weights that penalize certain terms more than others. \n",
    "We will use $c_1 = 5, c_2 = 1.0, c_3=0.1, R=0.01$.\n",
    "Note that we can also describe the pole rotation of the robot over SE(2) and define derivatives through in the Lie Algebra, but we will leave this as an extra credit final project. \n",
    "\n",
    "It is also often convenient to specify some terminal cost $m(x(t_f))$ though not always necessary. Here, let us choose $m(x) = 0.$ and assume that we have an integration step of $\\Delta t = 0.1$. \n"
   ]
  },
  {
   "cell_type": "code",
   "execution_count": 14,
   "metadata": {},
   "outputs": [],
   "source": [
    "_R = np.diag(np.array([0.01]))\n",
    "_Rinv = np.linalg.inv(_R)\n",
    "\n",
    "def swingup_cost(x, u):\n",
    "    c1 = 5.0\n",
    "    c2 = 1.0\n",
    "    c3 = 0.1\n",
    "    R = 0.01\n",
    "    q, qdot = np.split(x, 2)\n",
    "    # return c1 * (np.cos(q[0]) - 1)**2 + c2 * q[1]**2 + c3 * np.sum(qdot ** 2) + R * np.linalg.norm(u) ** 2\n",
    "    return c1 * (np.cos(q[0]) - 1)**2 + c2 * q[1]**2 + 0.1* qdot@qdot + 0.01*np.sum(u**2)\n",
    "\n",
    "def terminal_cost(x):\n",
    "    return 0.0"
   ]
  },
  {
   "cell_type": "markdown",
   "metadata": {},
   "source": [
    "## Iterative Linear Quadratic Regulator \n",
    "\n",
    "Not all systems have the nice linear quadratic form which facilitates control solutions like LQR. \n",
    "In fact, many have constraints that are nonlinear and objective that are nonconvex. \n",
    "Specifically, the optimal control problem often looks more generally like \n",
    "\\begin{align}\n",
    "    &\\min_\\xi \\mathcal{J}(\\xi) = \\int_{t_0}^{t_f} \\ell(x, u) dt \\\\ \n",
    "    &\\text{subject to } \\dot{x} = f(x, u) \\nonumber\n",
    "\\end{align}\n",
    "Looking at the derivative of the Lagrangian $\\mathcal{L}$ in the direction of $\\zeta = (z, v)$ (we often use $\\delta x, \\delta u$, but it is easier to think of $z,v$ as variables) we can approximately \\emph{linearlize} the nonlinear optimal control problem:\n",
    "\\begin{align}\n",
    "    D \\mathcal{L} \\cdot \\zeta = \\int_{t_0}^{t_f} D \\ell(\\xi) \\cdot \\zeta + \\lambda^\\top \\left( A z + B v - \\dot{z}\\right) dt\n",
    "\\end{align}\n",
    "where $A = \\frac{\\partial f}{\\partial x}\\mid_{x(t), u(t)}, B=\\frac{\\partial f}{\\partial u}\\mid_{x(t), u(t)}$ are the result of linearizing $\\dot{x} = f(x, u)$ about variations $z, v$ yielding \n",
    "\\begin{equation}\n",
    "    D \\left( f(x, u) - \\dot{x} \\right) \\cdot (z, v) = \\frac{\\partial f}{\\partial x} z + \\frac{\\partial f}{\\partial u} v - \\dot{z}\n",
    "\\end{equation}\n",
    "this is similar to taking a Taylor expansion. \n",
    "Since we are approximating the optimal control problem based the first-order derivative, our goal is to find the largest descent direction for $\\zeta$ such that we don't stray too far from $\\zeta$ being a valid approximation. \n",
    "What we do in this case is to add in to the above problem a term that penalizing too large of a step $\\zeta$, but does not make the above linearization nonconvex. \n",
    "The simplest choice is to add a norm $\\Vert \\zeta \\Vert^2$ that is convex (think of this as another LQR problem), making the linearization of $\\mathcal{L}$ \n",
    "\\begin{equation}\n",
    "    D \\mathcal{L} \\cdot \\zeta = \\int_{t_0}^{t_f} D \\ell(\\xi) \\cdot \\zeta + \\lambda^\\top \\left(Az + Bv - \\dot{z} \\right) + \\Vert \\zeta \\Vert^2 dt\n",
    "\\end{equation}\n",
    "where the optimal control problem becomes \n",
    "\\begin{align}\n",
    "    \\min_\\zeta \\int_{t_0}^{t_f} D \\ell(\\xi) \\cdot \\zeta + \\lambda^\\top \\left(Az + Bv - \\dot{z} \\right) + \\Vert \\zeta \\Vert^2 dt\n",
    "\\end{align}\n",
    "which we write over $\\zeta$ instead of $\\xi$ (we are looking at the \\emph{largest} descent direction).\n",
    "From this, we can see that the control Hamiltonian can be formulated as \n",
    "\\begin{equation}\n",
    "    \\mathcal{H} = a^\\top z + b^\\top v + \\frac{1}{2}\\left( z^\\top Q z + v^\\top R v\\right) + \\lambda^\\top\\left(Az + Bv\\right)\n",
    "\\end{equation}\n",
    "where the term $\\frac{1}{2}\\left( z^\\top Q z + v^\\top R v\\right)$ arises from the choice of norm $\\Vert \\zeta \\Vert^2$, and\n",
    "\\begin{equation}\n",
    "    (a(t)^\\top, b(t)^\\top) = D \\ell(\\xi)\n",
    "\\end{equation} \n",
    "are terms that come from the derivative of the running cost $\\ell$. \n",
    "From the Hamiltonian, we can write out the optimality conditions about $\\zeta = (z, v)$\n",
    "\\begin{align}\n",
    "    \\dot{z} &= \\frac{\\partial \\mathcal{H}}{\\partial \\lambda}^\\top = Az + Bu \\\\ \n",
    "    -\\dot{\\lambda} &= \\frac{\\partial \\mathcal{H}}{\\partial z}^\\top = a + Qz + A^\\top \\lambda \\\\ \n",
    "    0 &= \\frac{\\partial \\mathcal{H}}{\\partial v}^\\top = b + Rv + B^\\top p\n",
    "\\end{align}\n",
    "where $v = -R^{-1}\\left(B^\\top \\lambda + b\\right)$. As we did before with the LQR case, we seek to find a solution to $\\lambda$ such that we can express the control decent direction $v$ in closed form as a function of $z$. \n",
    "Since the Hamiltonian above is not only quadratic, but affine (through the $a,b$ terms), a good choice is $\\lambda = P(t)z(t) + r(t)$, where $P(t)$ is a matrix, and $r(t)$ is an affine vector (to account for affine terms). \n",
    "As we did before, let's take the time derivative of $\\lambda$  and expand: \n",
    "\\small{\n",
    "\\begin{align*}\n",
    "    \\lambda &= Pz + r \\\\ \n",
    "    \\dot{\\lambda} &= \\dot{P}z + P \\dot{z} + \\dot{r} \\\\ \n",
    "    -a - Qz - A^\\top \\lambda &= \\dot{P}z + PAz + PBv + \\dot{r} \\\\\n",
    "    -a -Qz - A^\\top Pz - A^\\top r &= \\dot{P}z + PAz + PBv + \\dot{r} \\\\ \n",
    "    -a -Qz -A^\\top Pz -A^\\top r &= \\dot{P}z + PAz + PB\\left(-R^{-1}B^\\top\\lambda -R^{-1}b\\right) + \\dot{r} \\\\ \n",
    "    -a -Qz -A^\\top Pz -A^\\top r &= \\dot{P}z + PAz - PBR^{-1}B^\\top\\lambda - PBR^{-1}b + \\dot{r} \\\\ \n",
    "    -a -Qz -A^\\top Pz -A^\\top r &= \\dot{P}z + PAz - PBR^{-1}B^\\top Pz -PBR^{-1}B^\\top r - PBR^{-1}b + \\dot{r} \\\\ \n",
    "    0 &= \\left(\\dot{P} + PA + A^\\top P - RBR^{-1}B^\\top P + Q\\right)z + \\left(\\dot{r} + \\left(A - BR^{-1}B^\\top P\\right)^\\top r + a - PBR^{-1}b \\right)\n",
    "\\end{align*}\n",
    "}\n",
    "which gives us two differential equations \n",
    "\\begin{align}\n",
    "    0 &= \\dot{P} + PA + A^\\top P - PBR^{-1}B^\\top P + Q \\\\ \n",
    "    0 &= \\dot{r} + \\left(A - BR^{-1}B^\\top P\\right)^\\top r + a - PBR^{-1}b\n",
    "\\end{align}\n",
    "with terminal condition $P(t_f) = \\mathbf{0}, r(t_f) = \\mathbf{0}$,\n",
    "and the resulting descent direction in the control is given by \n",
    "\\begin{equation}\n",
    "    v = -R^{-1}B^\\top Pz - R^{-1}B^\\top r - R^{-1}b\n",
    "\\end{equation}\n",
    "where the state descent direction is taken care of through the two-point boundary value problem as \n",
    "\\begin{equation}\n",
    "\\dot{z} = A(t) z = B(t) v, \\text{ with IC } z(t_0) = 0.\n",
    "\\end{equation}\n",
    "The controller is then updated as \n",
    "$u \\gets u + \\alpha v$ for a single iteration. \n",
    "Looping this back into an algorithm, we get the iterative LQR controller or iLQR!\n"
   ]
  },
  {
   "cell_type": "markdown",
   "metadata": {},
   "source": [
    "## Q2 20 pts: Linearizations and Riccati Equations\n",
    "\n",
    "Fill in the equations below for the linearization and the Riccati differential equations below."
   ]
  },
  {
   "cell_type": "code",
   "execution_count": 15,
   "metadata": {},
   "outputs": [],
   "source": [
    "def lin_dyn_eq(z, v, A, B):\n",
    "    \"\"\"\n",
    "        input: z, v, A, B\n",
    "        outdot: zdot = A@z + B@v\n",
    "    \"\"\"\n",
    "    # add code here\n",
    "    return A@z + B@v\n",
    "\n",
    "def ricatti_P_diff_eq(P, A, B, Q, Rinv):\n",
    "    \"\"\"\n",
    "        input: P, A, B, Q, Rinv\n",
    "        output: \\dot{P} = -(Q + A.T@P + P@A - PBRinvB.TP)\n",
    "    \"\"\"\n",
    "    # add code here\n",
    "    return -(Q + A.T @ P + P @ A - P @ B @ Rinv @ B.T @ P)\n",
    "\n",
    "def ricatti_r_diff_eq(r, P, a, b, A, B, Rinv):\n",
    "    \"\"\"\n",
    "        input: r, P, A, B, Q, Rinv\n",
    "        output: \\dot{r} = -( (A - BRinvB.TP).T @ r + a - PBRinvb )\n",
    "    \"\"\"\n",
    "    # add code here\n",
    "    return -((A - B @ Rinv @ B.T @ P).T @ r + a - P @ B @ Rinv @ b)\n"
   ]
  },
  {
   "cell_type": "markdown",
   "metadata": {},
   "source": [
    "### helper functions for checking answers and for computing derivatives"
   ]
  },
  {
   "cell_type": "code",
   "execution_count": 16,
   "metadata": {},
   "outputs": [],
   "source": [
    "## we will need to compute the derivative of the dynamics and running cost  along the trajectory\n",
    "dfdx = jit(jacfwd(f, argnums=0))\n",
    "dfdu = jit(jacfwd(f, argnums=1))\n",
    "dldx = jit(jacfwd(swingup_cost, argnums=0))\n",
    "dldu = jit(jacfwd(swingup_cost, argnums=1))\n",
    "dmdx = jit(jacfwd(terminal_cost))\n",
    "\n",
    "## and we will need specific Q,R terms in the linearized space for z an v\n",
    "\n",
    "_Qz = np.eye(4)\n",
    "_Rv = np.eye(1)\n",
    "_Rvinv = np.linalg.inv(_Rv)"
   ]
  },
  {
   "cell_type": "markdown",
   "metadata": {},
   "source": [
    "Check your answer below.\n",
    "\n",
    "[[ -1.           0.         -10.73104084   0.        ]\n",
    " [  0.          -1.           0.          -1.        ]\n",
    " [-10.73104084   0.           0.03003329   0.99500417]\n",
    " [  0.          -1.           0.99500417   0.04      ]] [-9.73602835 -0.6         0.93100748  0.92100417]\n"
   ]
  },
  {
   "cell_type": "code",
   "execution_count": 17,
   "metadata": {},
   "outputs": [
    {
     "name": "stdout",
     "output_type": "stream",
     "text": [
      "[[ -1.          -0.         -10.73104084  -0.        ]\n",
      " [ -0.          -1.          -0.          -1.        ]\n",
      " [-10.73104084  -0.           0.03003329   0.99500417]\n",
      " [ -0.          -1.           0.99500417   0.04      ]] [-9.73602835 -0.6         0.93100748  0.92100417]\n"
     ]
    }
   ],
   "source": [
    "z_test = np.ones(4)\n",
    "v_test = np.ones(1)\n",
    "x_test = np.array([0.1,0.3,0.4,0.5])\n",
    "u_test = np.array([0.3])\n",
    "_A_test = dfdx(x_test, u_test)\n",
    "_B_test = dfdu(x_test, u_test)\n",
    "_a_test = dldx(x_test, u_test)\n",
    "_b_test = dldu(x_test, u_test)\n",
    "_P_test = np.diag(np.ones_like(x_test))\n",
    "_r_test = np.ones_like(x_test)\n",
    "print(\n",
    "    ricatti_P_diff_eq(_P_test, _A_test, _B_test, _Qz, _Rvinv),\n",
    "    ricatti_r_diff_eq(_r_test, _P_test, _a_test, _b_test, _A_test, _B_test, _Rvinv)\n",
    ")"
   ]
  },
  {
   "cell_type": "markdown",
   "metadata": {},
   "source": [
    "### more helper functions for simulation\n",
    "to perform integration (both forward and backwards) for iLQR, study them for they are useful tools to know how to code up! "
   ]
  },
  {
   "cell_type": "code",
   "execution_count": 18,
   "metadata": {},
   "outputs": [],
   "source": [
    "## we will also define time and its discretization in the following manner\n",
    "t0 = 0\n",
    "tf = 2\n",
    "dt = 0.1\n",
    "N = int(tf/dt)\n",
    "\n",
    "# functions to define the integration by one step \\Delta t\n",
    "@jit\n",
    "def forward_step(x, u):\n",
    "    \"\"\"\n",
    "        solves x[t+dt] = x[t] + dt * f(x[t], u[t])\n",
    "    \"\"\"\n",
    "    return rk4_step(x, f, dt, u)\n",
    "\n",
    "@jit\n",
    "def forward_z_step(z, v, A, B):\n",
    "    \"\"\"\n",
    "        solves z[t+dt] = x[t] + dt * (A[t]@z[t] + B[t]@v[t])\n",
    "    \"\"\"\n",
    "    return rk4_step(z, lin_dyn_eq, dt, v, A, B)\n",
    "\n",
    "@jit\n",
    "def backward_P_step(P, a, b, A, B, Q, Rinv):\n",
    "    \"\"\"\n",
    "        solves P[t-dt] = P[t] - dt * dotP(P, A, B, Q, Rinv)\n",
    "    \"\"\"\n",
    "    return rk4_step(P, ricatti_P_diff_eq, -dt, A, B, Q, Rinv)\n",
    "\n",
    "@jit\n",
    "def backward_r_step(P, r, a, b, A, B, Q, Rinv):\n",
    "    \"\"\"\n",
    "        solve r[t-dt] = r[t] - dt * dotr(r, P, A, B, Q, Rinv)\n",
    "    \"\"\"\n",
    "    return rk4_step(r, ricatti_r_diff_eq, -dt, P, a, b, A, B, Rinv)\n",
    "\n",
    "def solve_ricatti_eq(Pf, rf, a, b, A, B):\n",
    "    _P    = Pf\n",
    "    _r    = rf # this should be the same as state dimension\n",
    "    P = []\n",
    "    r = []\n",
    "    for t in reversed(range(N)):\n",
    "        _P = backward_P_step(_P, a[t], b[t], A[t], B[t], _Qz, _Rvinv)\n",
    "        _r = backward_r_step(_P, _r, a[t], b[t], A[t], B[t], _Qz, _Rvinv)\n",
    "        # helps with stability\n",
    "        _P = (_P + _P.T) * 0.5\n",
    "        P.append(_P.copy())\n",
    "        r.append(_r.copy())\n",
    "    ## flip the list backwards\n",
    "    return (P[::-1], r[::-1])\n",
    "\n",
    "def forward_sim(x0, U):\n",
    "    \"\"\"\n",
    "        forward sim function:\n",
    "            input: initial condition x0, control list U = [u0, u1, ..., uN-1]\n",
    "            output:\n",
    "                trajectory: X = [x0,x1, ..., xN-1],\n",
    "                terminal state: x[N]\n",
    "                cost linearization: a[t] = dldx[t], b[t] = dldu[t]\n",
    "                dynamics linearization: A[t] = dfdx[t], B[t]=dfdu[t]\n",
    "                note: linearization are along X, U\n",
    "    \"\"\"\n",
    "    X = []\n",
    "    a = []\n",
    "    b = []\n",
    "    A = []\n",
    "    B = []\n",
    "    _x = x0.copy()\n",
    "    for t in range(N):\n",
    "        X.append(_x.copy())\n",
    "        a.append(dldx(_x, U[t]))\n",
    "        b.append(dldu(_x, U[t]))\n",
    "        A.append(dfdx(_x, U[t]))\n",
    "        B.append(dfdu(_x, U[t]))\n",
    "        _x = forward_step(_x, U[t])\n",
    "    xf = _x\n",
    "    return X, xf, a, b, A, B"
   ]
  },
  {
   "cell_type": "markdown",
   "metadata": {},
   "source": [
    "## Q3 20 pts: Calculating the descent direction for x and u (z and v)\n",
    "\n",
    "Below, plug in the equations above to solve for the descent direction. "
   ]
  },
  {
   "cell_type": "code",
   "execution_count": 19,
   "metadata": {},
   "outputs": [],
   "source": [
    "def calc_desc_dir(P, r, b, A, B):\n",
    "    \"\"\"\n",
    "        Computes the descent trajectories z[t], v[t]\n",
    "        Input (all list representing trajectorys):\n",
    "                P[t], r[t], b[t], A[t], B[t]\n",
    "        Output (a list representing trajectories):\n",
    "                z[t], v[t]\n",
    "    \"\"\"\n",
    "    z = []\n",
    "    v = []\n",
    "    _z = np.zeros_like(r[0])\n",
    "    for _P, _r, _b, _A, _B in zip(P, r, b, A, B):\n",
    "\n",
    "        # add code here\n",
    "        _v = -_Rvinv @ _B.T @ _P @ _z - _Rvinv @ _B.T @ _r - _Rvinv @ _b\n",
    "        _z = forward_z_step(_z, _v, _A, _B)\n",
    "\n",
    "        z.append(_z.copy())\n",
    "        v.append(_v.copy())\n",
    "    return z, v\n",
    "\n",
    "def update_control(U, v, alpha=0.1):\n",
    "    \"\"\"\n",
    "        Update control U[t] along the descent direction v[t]\n",
    "        Input: U[t], v[t], (default stepsize alpha=0.1)\n",
    "        Output: updated U[t] along the the direction v[t] with step size alpha\n",
    "    \"\"\"\n",
    "    for t, (ut, vt) in enumerate(zip(U,v)):\n",
    "        U[t] = ut + alpha * vt # add code here\n",
    "    return U\n",
    "\n",
    "def calc_norm_zv(z, v):\n",
    "    _out = 0.0\n",
    "    for i, vt in enumerate(v):\n",
    "        _out = _out + z[i] @ np.dot(_Qz, z[i]) + vt @ np.dot(_Rv, vt)\n",
    "    return _out/len(v)"
   ]
  },
  {
   "cell_type": "markdown",
   "metadata": {},
   "source": [
    "### Initial Conditions"
   ]
  },
  {
   "cell_type": "code",
   "execution_count": 20,
   "metadata": {},
   "outputs": [],
   "source": [
    "U = [np.zeros((1,)) for _ in range(N)]\n",
    "x0 = np.array([3.1, 0.0, 0., 0.])\n",
    "Pf = np.diag(np.zeros_like(x0))\n",
    "rf = np.zeros_like(x0)\n"
   ]
  },
  {
   "cell_type": "markdown",
   "metadata": {},
   "source": [
    "## Q4 10 pts: Putting the pieces together\n",
    "\n",
    "Using the initial conditions and the code above write an algorithm for updating the control solution for the iLQR problem. You know you did it correctly if the pendulum reaches the swing up state (0, +- 2 pi, +- 4 pi, etc..)"
   ]
  },
  {
   "cell_type": "code",
   "execution_count": 21,
   "metadata": {},
   "outputs": [
    {
     "name": "stdout",
     "output_type": "stream",
     "text": [
      "||v|| + ||z|| 0.007113925586982234\n"
     ]
    },
    {
     "data": {
      "image/png": "[encoded data removed]",
      "text/plain": [
       "<Figure size 640x480 with 1 Axes>"
      ]
     },
     "metadata": {},
     "output_type": "display_data"
    }
   ],
   "source": [
    "norm_v = np.inf\n",
    "for kk in range(1_000):\n",
    "    X, xf, a, b, A, B = forward_sim(x0.copy(), U)\n",
    "    # add code here, use P, r, z, r, U variables for the trajectory lists\n",
    "\n",
    "    # solve ricatti equations\n",
    "    P, r = solve_ricatti_eq(Pf, rf, a, b, A, B)\n",
    "    # calculate descent direction\n",
    "    z, v = calc_desc_dir(P, r, b, A, B)\n",
    "    # update controls\n",
    "    U = update_control(U, v)\n",
    "    # print(X)\n",
    "    # print(xf)\n",
    "    # print(P)\n",
    "    # print(r)\n",
    "    # break\n",
    "\n",
    "    norm_v  = calc_norm_zv(z,v)\n",
    "    if kk % 10 == 0:\n",
    "        clear_output(wait=True)\n",
    "        print('||v|| + ||z||',norm_v)\n",
    "        plt.plot(np.stack(X))\n",
    "        plt.xlabel('t')\n",
    "        plt.ylabel('x')\n",
    "        plt.pause(0.001)\n"
   ]
  },
  {
   "cell_type": "markdown",
   "metadata": {},
   "source": [
    "### Animate the solution below"
   ]
  },
  {
   "cell_type": "code",
   "execution_count": 22,
   "metadata": {},
   "outputs": [],
   "source": [
    "import meshcat\n",
    "from meshcat import transformations as tfm\n",
    "from meshcat import geometry as geom"
   ]
  },
  {
   "cell_type": "code",
   "execution_count": 23,
   "metadata": {},
   "outputs": [
    {
     "name": "stdout",
     "output_type": "stream",
     "text": [
      "You can open the visualizer by visiting the following URL:\n",
      "http://127.0.0.1:7005/static/\n"
     ]
    },
    {
     "data": {
      "text/html": [
       "\n",
       "            <div style=\"height: 400px; width: 100%; overflow-x: auto; overflow-y: hidden; resize: both\">\n",
       "            <iframe src=\"http://127.0.0.1:7005/static/\" style=\"width: 100%; height: 100%; border: none\"></iframe>\n",
       "            </div>\n",
       "            "
      ],
      "text/plain": [
       "<IPython.core.display.HTML object>"
      ]
     },
     "execution_count": 23,
     "metadata": {},
     "output_type": "execute_result"
    }
   ],
   "source": [
    "viz = meshcat.Visualizer()\n",
    "cart  = viz[\"cart\"]\n",
    "cart_geom = cart[\"geom\"]\n",
    "cart_geom.set_object(\n",
    "    geom.Box([0.5,0.5,0.2]),\n",
    ")\n",
    "pivot = cart[\"pivot\"]\n",
    "pole = pivot[\"pole\"]\n",
    "pole_geom = pole[\"geom\"]\n",
    "pole_geom.set_transform(tfm.translation_matrix([0,0,0.5]))\n",
    "pole_geom.set_object(\n",
    "    geom.Box([0.1,0.1,1.0])\n",
    ")\n",
    "\n",
    "viz.jupyter_cell()"
   ]
  },
  {
   "cell_type": "code",
   "execution_count": 24,
   "metadata": {},
   "outputs": [],
   "source": [
    "for t in range(N):\n",
    "    _x = X[t]\n",
    "    q, qdot = np.split(_x, 2)\n",
    "    cart.set_transform(\n",
    "        tfm.translation_matrix([0,q[1],0])\n",
    "    )\n",
    "    pivot.set_transform(\n",
    "        tfm.rotation_matrix(q[0],[1,0,0])\n",
    "    )\n",
    "    time.sleep(dt)"
   ]
  },
  {
   "cell_type": "markdown",
   "metadata": {},
   "source": [
    "## Extra Credit 10 pts: LQR stabilizing controller \n",
    "write an LQR stabilizing controller for once the pendulum is in the upright position following the open-loop control `U[t]`, the system can stabilize using the LQR feedback controller `u = Klqr @ x` . Visualize the results below."
   ]
  },
  {
   "cell_type": "code",
   "execution_count": null,
   "metadata": {},
   "outputs": [],
   "source": []
  }
 ],
 "metadata": {
  "kernelspec": {
   "display_name": "base",
   "language": "python",
   "name": "python3"
  },
  "language_info": {
   "codemirror_mode": {
    "name": "ipython",
    "version": 3
   },
   "file_extension": ".py",
   "mimetype": "text/x-python",
   "name": "python",
   "nbconvert_exporter": "python",
   "pygments_lexer": "ipython3",
   "version": "3.11.4"
  },
  "orig_nbformat": 4,
  "vscode": {
   "interpreter": {
    "hash": "798b538306534186ead633776371254f522515bdb811fa2fd0b251c0d7733175"
   }
  }
 },
 "nbformat": 4,
 "nbformat_minor": 2
}
