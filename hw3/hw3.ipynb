{
 "cells": [
  {
   "cell_type": "markdown",
   "metadata": {},
   "source": [
    "# HW 3 Forward/Inverse Kinematics\n",
    "\n",
    "For this assignment, we will be working with the 3R(evolute) robotic system (see below)\n",
    "<img src=\"./3R-robot.png\" width=\"420\">\n",
    "\n",
    "Note that the angles are measured *relative* to the previous link. This assignment will have you write down the forward/inverse kinematics of the 3R robot using the geometric approach and the Lie group approach. You will use both approaches to create an inverse kinematics solver.\n",
    "\n",
    "### NOTE: YOU SHOULD KEEP NOTE OF THE CHANGE OF X-Y PLANE ON THE GRAPH TO THE Y-Z PLANE WITH ROTATIONS ABOUT THE X AXIS TO COINCIDE WITH MESHCAT VISUALIZATION"
   ]
  },
  {
   "cell_type": "code",
   "execution_count": 1,
   "metadata": {},
   "outputs": [
    {
     "name": "stdout",
     "output_type": "stream",
     "text": [
      "Import packages works! Great work following directions :D !\n"
     ]
    }
   ],
   "source": [
    "# Import packages \n",
    "try: \n",
    "    from jax import config\n",
    "    config.update(\"jax_enable_x64\", True)\n",
    "    import meshcat\n",
    "    import meshcat.geometry as geom\n",
    "    import meshcat.transformations as tf\n",
    "    import numpy as np\n",
    "    import time\n",
    "    import jax.numpy as np\n",
    "    import jax\n",
    "    from jax import jacfwd\n",
    "    from jaxlie import SE2, SE3\n",
    "    import matplotlib.pyplot as plt\n",
    "    \n",
    "    print('Import packages works! Great work following directions :D !')\n",
    "except Exception as e:\n",
    "    print('Something went wrong. The following error tells you what happened. Go through README.md again and see what went wrong')\n",
    "    print(e)\n",
    "\n",
    "## Helper functions \n",
    "def skew3(twist):\n",
    "    # note the convention is ang vel then linear vel\n",
    "    # xi = [w,v]\n",
    "    w = twist[:3]\n",
    "    v = twist[3:]\n",
    "    return np.array([[0, -w[2], w[1], v[0]],\n",
    "                     [w[2], 0, -w[0], v[1]],\n",
    "                     [-w[1], w[0], 0, v[2]],\n",
    "                     [0., 0., 0., 0.]])\n",
    "def skew2(twist):\n",
    "    # note the convention is ang vel then linear vel\n",
    "    # xi = [w,v]\n",
    "    w = twist[0]\n",
    "    v = twist[1:]\n",
    "    return np.array([[0, -w, v[0]],\n",
    "                     [w, 0, v[1]],\n",
    "                     [0., 0., 0.]])\n",
    "\n",
    "## Constants\n",
    "_L1 = 1.2\n",
    "_L2 = 1.0\n",
    "_L3 = 0.5"
   ]
  },
  {
   "cell_type": "markdown",
   "metadata": {},
   "source": [
    "## Robot Renderer!\n",
    "Here is a function that renders the robot given joint angles using meshcat! Feel free to use whatever geometry that illustrates the robot's joints and end-effector position (e.g., a sphere) and edit as you see fit."
   ]
  },
  {
   "cell_type": "code",
   "execution_count": 2,
   "metadata": {},
   "outputs": [
    {
     "name": "stdout",
     "output_type": "stream",
     "text": [
      "You can open the visualizer by visiting the following URL:\n",
      "http://127.0.0.1:7008/static/\n"
     ]
    },
    {
     "data": {
      "text/html": [
       "\n",
       "            <div style=\"height: 400px; width: 100%; overflow-x: auto; overflow-y: hidden; resize: both\">\n",
       "            <iframe src=\"http://127.0.0.1:7008/static/\" style=\"width: 100%; height: 100%; border: none\"></iframe>\n",
       "            </div>\n",
       "            "
      ],
      "text/plain": [
       "<IPython.core.display.HTML object>"
      ]
     },
     "execution_count": 2,
     "metadata": {},
     "output_type": "execute_result"
    }
   ],
   "source": [
    "# Create a jupyter cell that renders the visalizer by calling the function below\n",
    "# Create a new visualizer\n",
    "vis = meshcat.Visualizer()\n",
    "vis.delete()\n",
    "vis.jupyter_cell()"
   ]
  },
  {
   "cell_type": "markdown",
   "metadata": {},
   "source": [
    "Below is a function that takes in the visualizer object and returns a list of joint rotation frames (use as a reference). \n",
    "The `render` function that takes in the robot joint list and a list of rotation $\\theta$. Reminder that the above diagram is along the y-z plane. You will work as if in the x-y plane. "
   ]
  },
  {
   "cell_type": "code",
   "execution_count": 3,
   "metadata": {},
   "outputs": [
    {
     "name": "stderr",
     "output_type": "stream",
     "text": [
      "No GPU/TPU found, falling back to CPU. (Set TF_CPP_MIN_LOG_LEVEL=0 and rerun for more info.)\n"
     ]
    }
   ],
   "source": [
    "def create_robot(vis):\n",
    "    base = vis['base']\n",
    "    jnt1 = base['jnt1']\n",
    "    jnt1.set_object(geom.Sphere(0.1))\n",
    "    T_jnt12 = jnt1['jnt1_loc']\n",
    "    T_jnt12.set_transform(tf.translation_matrix(np.array([0., _L1, 0.])))\n",
    "\n",
    "    jnt2 = T_jnt12['jnt2']\n",
    "    jnt2.set_object(geom.Sphere(0.1))\n",
    "    T_jnt23 = jnt2['jnt3_loc']\n",
    "    T_jnt23.set_transform(tf.translation_matrix(np.array([0., _L2, 0.])))\n",
    "\n",
    "    jnt3 = T_jnt23['jnt3']\n",
    "    jnt3.set_object(geom.Sphere(0.1))\n",
    "    T_jnt3E = jnt3['ee_loc']\n",
    "    T_jnt3E.set_transform(tf.translation_matrix(np.array([0., _L3, 0.])))\n",
    "    ee = T_jnt3E['ee']\n",
    "    ee.set_object(geom.Sphere(0.1))\n",
    "\n",
    "    return [jnt1, jnt2, jnt3]\n",
    "\n",
    "robot = create_robot(vis)\n",
    "\n",
    "def render(robot, th):\n",
    "    for jnt, _th in zip(robot, th):\n",
    "        jnt.set_transform(tf.rotation_matrix(_th, [1.,0.,0.]))\n",
    "\n",
    "render(robot, [0.2,0.3,0.4])\n",
    "\n"
   ]
  },
  {
   "cell_type": "markdown",
   "metadata": {},
   "source": [
    "## Q1 Forward Kinematics \n",
    "Write out the forward kinematics $p = f(\\theta)$, where $p=[x,y,\\psi]^\\top$ and $\\theta \\in \\mathbb{R}^3$"
   ]
  },
  {
   "cell_type": "code",
   "execution_count": 4,
   "metadata": {},
   "outputs": [],
   "source": [
    "def fk_analytical(th):\n",
    "    # input: th is an array of 3 vaues th = [th1 th2 th3]\n",
    "    # output: x,y,psi as an array\n",
    "    x = _L1 * np.cos(th[0]) + _L2 * np.cos(th[0] + th[1]) + _L3 * np.cos(th[0] + th[1] + th[2])\n",
    "    y = _L1 * np.sin(th[0]) + _L2 * np.sin(th[0] + th[1]) + _L3 * np.sin(th[0] + th[1] + th[2])\n",
    "    psi = th[0] + th[1] + th[2]\n",
    "    return np.array([x, y, psi])"
   ]
  },
  {
   "cell_type": "markdown",
   "metadata": {},
   "source": [
    "### Evaluate your answer \n",
    "For $\\theta = [\\pi/2,-\\pi/3,\\pi/4]^\\top$, you should get $p=[0.99543493, 2.18296291, 1.30899694]^\\top$. Check your answer below."
   ]
  },
  {
   "cell_type": "code",
   "execution_count": 5,
   "metadata": {},
   "outputs": [
    {
     "data": {
      "text/plain": [
       "Array([0.99543493, 2.18296291, 1.30899694], dtype=float64)"
      ]
     },
     "execution_count": 5,
     "metadata": {},
     "output_type": "execute_result"
    }
   ],
   "source": [
    "th = np.array([np.pi/2,-np.pi/3,np.pi/4])\n",
    "fk_analytical(th)"
   ]
  },
  {
   "cell_type": "markdown",
   "metadata": {},
   "source": [
    "### render your answer\n",
    "Use the rendering function to visualize your robot. Confirm the results make visual sense."
   ]
  },
  {
   "cell_type": "code",
   "execution_count": 6,
   "metadata": {},
   "outputs": [
    {
     "data": {
      "text/html": [
       "\n",
       "            <div style=\"height: 400px; width: 100%; overflow-x: auto; overflow-y: hidden; resize: both\">\n",
       "            <iframe src=\"http://127.0.0.1:7008/static/\" style=\"width: 100%; height: 100%; border: none\"></iframe>\n",
       "            </div>\n",
       "            "
      ],
      "text/plain": [
       "<IPython.core.display.HTML object>"
      ]
     },
     "execution_count": 6,
     "metadata": {},
     "output_type": "execute_result"
    }
   ],
   "source": [
    "render(robot, th)\n",
    "vis.jupyter_cell()"
   ]
  },
  {
   "cell_type": "markdown",
   "metadata": {},
   "source": [
    "## Q2 Inverse Kinematics \n",
    "Using jax's build in Jacobian function `jacfwd`, we will create the function `jac_fk_analytical` which takes as input $\\theta$ and outputs the Jacobian matrix."
   ]
  },
  {
   "cell_type": "code",
   "execution_count": 7,
   "metadata": {},
   "outputs": [],
   "source": [
    "# here jacfwd is a function from jax that takes in a **function** and returns a **function** that evalutes the derivative at the first argument\n",
    "jac_fk_analytical = jacfwd(fk_analytical)"
   ]
  },
  {
   "cell_type": "markdown",
   "metadata": {},
   "source": [
    "### Evaluate your answer \n",
    "For the same input for $\\theta$ as above, and $\\dot{\\theta} = [1,1,1]^\\top$ you should get the following $J(\\theta) \\dot{\\theta} = v = [-3.64888874, 2.12027938, 3.]^\\top$\n"
   ]
  },
  {
   "cell_type": "code",
   "execution_count": 8,
   "metadata": {},
   "outputs": [
    {
     "data": {
      "text/plain": [
       "Array([-3.64888874,  2.12027938,  3.        ], dtype=float64)"
      ]
     },
     "execution_count": 8,
     "metadata": {},
     "output_type": "execute_result"
    }
   ],
   "source": [
    "th = np.array([np.pi/2,-np.pi/3,np.pi/4])\n",
    "thdot = np.array([1.,1.,1.])\n",
    "jac_fk_analytical(th)@thdot"
   ]
  },
  {
   "cell_type": "markdown",
   "metadata": {},
   "source": [
    "## Q3 Inverse Kinematics Solver \n",
    "Using Newton's method, create a function that takes a Newton's step towards the target position $p_d = [1.5,1.5, 0.]^\\top$. "
   ]
  },
  {
   "cell_type": "markdown",
   "metadata": {},
   "source": [
    "Start with creating the residual function `res` that takes as input $p_d$ and $\\theta$ and returns $p_d - f(\\theta)$ where $f(\\theta)$ is the forward kinematics. That is create the function $r(p_d, \\theta) = p_d - f(\\theta)$"
   ]
  },
  {
   "cell_type": "code",
   "execution_count": 9,
   "metadata": {},
   "outputs": [],
   "source": [
    "def res(pd, th):\n",
    "    # input is desired pose as x,y,psi, and robot joint positions\n",
    "    # output return is a vector representing pd - f(\\theta)\n",
    "    return pd - fk_analytical(th)"
   ]
  },
  {
   "cell_type": "markdown",
   "metadata": {},
   "source": [
    "Using the residual function, write a function `ik_newton_step` that takes in $p_d$ and $\\theta_k$ -- an estimate of $\\theta$ -- and returns $\\theta_{k+1}$ -- an update based on the iteration $\\theta_{k+1} = \\theta_k + J(\\theta)^\\dagger r(p_d, \\theta)$"
   ]
  },
  {
   "cell_type": "code",
   "execution_count": 10,
   "metadata": {},
   "outputs": [],
   "source": [
    "def ik_newton_step(pd, th):\n",
    "    # input is desired pose as x,y,psi, and robot joint positions at iteration k\n",
    "    # output return is a vector representing \\theta_{k+1}\n",
    "    return th + np.linalg.pinv(jac_fk_analytical(th)) @ res(pd, th)"
   ]
  },
  {
   "cell_type": "markdown",
   "metadata": {},
   "source": [
    "## Q4 Animate Solver Iterations\n",
    "\n",
    "Write a function that iterates through the Newton's step to solve for the inverse kinematic solution where the desired end-effector pose is $p_d = [1.5, 1.5, 0.]^\\top$ with initial guess $\\theta_0 = [\\pi/2, -\\pi/3, \\pi/4]^\\top$. Iterate a total of 10 times with a pause of $0.5 s$ using the `time.sleep` function.\n",
    "\n",
    "Create a reference frame for the target location $p_d$ below. "
   ]
  },
  {
   "cell_type": "code",
   "execution_count": 11,
   "metadata": {},
   "outputs": [
    {
     "data": {
      "text/html": [
       "\n",
       "            <div style=\"height: 400px; width: 100%; overflow-x: auto; overflow-y: hidden; resize: both\">\n",
       "            <iframe src=\"http://127.0.0.1:7008/static/\" style=\"width: 100%; height: 100%; border: none\"></iframe>\n",
       "            </div>\n",
       "            "
      ],
      "text/plain": [
       "<IPython.core.display.HTML object>"
      ]
     },
     "execution_count": 11,
     "metadata": {},
     "output_type": "execute_result"
    }
   ],
   "source": [
    "render(robot, th)\n",
    "target_loc = vis['p_d']\n",
    "target_loc.set_transform(tf.translation_matrix(np.array([0., 1.5, 1.5])))\n",
    "target_loc.set_object(geom.triad())\n",
    "vis.jupyter_cell()"
   ]
  },
  {
   "cell_type": "markdown",
   "metadata": {},
   "source": [
    "### Write the animation code below"
   ]
  },
  {
   "cell_type": "code",
   "execution_count": 12,
   "metadata": {},
   "outputs": [
    {
     "name": "stdout",
     "output_type": "stream",
     "text": [
      "Solution : \n",
      "[ 1.53216773 -1.22653653 -0.30563121] [1.50000000e+00 1.50000000e+00 5.55111512e-17] [ 0.00000000e+00  0.00000000e+00 -5.55111512e-17]\n"
     ]
    }
   ],
   "source": [
    "pd = np.array([1.5,1.5,0.])\n",
    "th = np.array([np.pi/2,-np.pi/3,np.pi/4])\n",
    "for _ in range(10):\n",
    "    ##############\n",
    "    # FILL IN CODE HERE WITH NEWTON STEP\n",
    "    ###############\n",
    "    th = ik_newton_step(pd, th)\n",
    "    render(robot, th)\n",
    "    time.sleep(0.5)\n",
    "\n",
    "print('Solution : ')\n",
    "print(th, fk_analytical(th), res(pd, th))"
   ]
  },
  {
   "cell_type": "markdown",
   "metadata": {},
   "source": [
    "## Q4 Forward Kinematics via Lie Groups\n",
    "Write the forward kinematics using SE(2) groups with jaxlie `SE2` package. Assume xy planar rotations are in the yz plane for simplicity with visualization. Compare results with the analytical expression to confirm."
   ]
  },
  {
   "cell_type": "code",
   "execution_count": 13,
   "metadata": {},
   "outputs": [],
   "source": [
    "def fk_lie(th):\n",
    "    # input is theta\n",
    "    # output is SE2 transform describing the transform from frame A to G: T_AG\n",
    "    # use the SE2.from_xy_theta(x,y,th) function to create an SE2 transform\n",
    "    gAB = SE2.from_xy_theta(0, 0, th[0])\n",
    "    gBC = SE2.from_xy_theta(_L1, 0, 0)\n",
    "    gCD = SE2.from_xy_theta(0, 0, th[1])\n",
    "    gDE = SE2.from_xy_theta(_L2, 0, 0)\n",
    "    gEF = SE2.from_xy_theta(0, 0, th[2])\n",
    "    gFG = SE2.from_xy_theta(_L3, 0, 0)\n",
    "    T_AG = gAB @ gBC @ gCD @ gDE @ gEF @ gFG\n",
    "    return T_AG"
   ]
  },
  {
   "cell_type": "code",
   "execution_count": 14,
   "metadata": {},
   "outputs": [
    {
     "name": "stdout",
     "output_type": "stream",
     "text": [
      "SE(2) [0.99543493 2.18296291] 1.3089969389957472 \n",
      "From Geometry [0.99543493 2.18296291 1.30899694]\n"
     ]
    }
   ],
   "source": [
    "# check if results are correct here\n",
    "th = np.array([np.pi/2,-np.pi/3,np.pi/4])\n",
    "print(\n",
    "    'SE(2)', fk_lie(th).translation(), fk_lie(th).rotation().as_radians(), '\\n'\n",
    "    'From Geometry', fk_analytical(th)\n",
    ")"
   ]
  },
  {
   "cell_type": "markdown",
   "metadata": {},
   "source": [
    "## Q 5 Inverse Kinematics via Lie Groups"
   ]
  },
  {
   "cell_type": "markdown",
   "metadata": {},
   "source": [
    "First, write down the expression for the body-velocity. This first requires that we evaluate the adjoint maps for each joint from the joint location to the end-effector frame. Since each rotation occurs about the rotational axis, use unit vectors to pull out the resulting Jacobian. You can write the expression out as \n",
    "$$\n",
    "    \\begin{align}\n",
    "        \\hat{\\xi} &= T_{AG}^{-1} \\left( \n",
    "            T_{AB} \\hat{\\omega}_1 T_{BG} \\Delta \\theta_1 + T_{AD} \\hat{\\omega}_2 T_{DG} \\Delta \\theta_2 + T_{AF} \\hat{\\omega}_3 T_{FG} \\Delta \\theta_3\n",
    "        \\right) \\\\ \n",
    "        &= \\textbf{Ad}_{T_{GB}} \\omega_1 \\Delta \\theta_1 + \\textbf{Ad}_{T_{GD}} \\omega_2 \\Delta \\theta_2 + \\textbf{Ad}_{T_{GF}} \\omega_2 \\Delta \\theta_2 \\\\ \n",
    "        &= \\begin{bmatrix}\n",
    "            \\textbf{Ad}_{T_{GB}} \\omega_1  &  \\textbf{Ad}_{T_{GD}} \\omega_2 & \\textbf{Ad}_{T_{GF}} \\omega_2\n",
    "            \\end{bmatrix} \n",
    "            \\begin{bmatrix}\n",
    "                \\Delta \\theta_1 \\\\ \\Delta \\theta_2 \\\\ \\Delta \\theta_3\n",
    "            \\end{bmatrix} \\\\ \n",
    "        &= J(\\theta) \\Delta \\theta\n",
    "    \\end{align}\n",
    "$$\n",
    "where $T_{AG}$ is the transform from frame A to G(end-effector) and $\\omega_i$ are the unit vectors of the joint degrees of freedom. "
   ]
  },
  {
   "cell_type": "code",
   "execution_count": 15,
   "metadata": {},
   "outputs": [],
   "source": [
    "def jac_lie(th):\n",
    "    # input is the joint angles of the robot\n",
    "    # output is the Jacobian matrix as described above\n",
    "    gAB = SE2.from_xy_theta(0, 0, th[0])\n",
    "    gBC = SE2.from_xy_theta(_L1, 0, 0)\n",
    "    gCD = SE2.from_xy_theta(0, 0, th[1])\n",
    "    gDE = SE2.from_xy_theta(_L2, 0, 0)\n",
    "    gEF = SE2.from_xy_theta(0, 0, th[2])\n",
    "    gFG = SE2.from_xy_theta(_L3, 0, 0)\n",
    "    T_GB = gBC @ gCD @ gDE @ gEF @ gFG\n",
    "    T_GD = gDE @ gEF @ gFG\n",
    "    T_GE = gEF @ gFG\n",
    "    return np.vstack(((T_GB.inverse().adjoint() @ np.array([0, 0, 1])), (T_GD.inverse().adjoint() @ np.array([0, 0, 1])), (T_GE.inverse().adjoint() @ np.array([0, 0, 1])))).T\n"
   ]
  },
  {
   "cell_type": "markdown",
   "metadata": {},
   "source": [
    "### Evaluate your answer \n",
    "For the same input for $\\theta$ as above, and $\\dot{\\theta} = [1,1,1]^\\top$ you should get the following $J(\\theta) \\dot{\\theta} = \\xi = [1.10363071, 4.07332455, 3.        ]^\\top$"
   ]
  },
  {
   "cell_type": "code",
   "execution_count": 16,
   "metadata": {},
   "outputs": [
    {
     "data": {
      "text/plain": [
       "Array([1.10363071, 4.07332455, 3.        ], dtype=float64)"
      ]
     },
     "execution_count": 16,
     "metadata": {},
     "output_type": "execute_result"
    }
   ],
   "source": [
    "th = np.array([np.pi/2,-np.pi/3,np.pi/4])\n",
    "thdot = np.array([1.,1.,1.])\n",
    "jac_lie(th) @ thdot"
   ]
  },
  {
   "cell_type": "markdown",
   "metadata": {},
   "source": [
    "## Q 6 Inverse Kinematics Solver Lie Group\n",
    "Let us now write down the residual function on $SE(2)$ that takes in a desired transform $T_d$ and returns $\\log(T_d^{-1}T_{AG}(\\theta))$"
   ]
  },
  {
   "cell_type": "code",
   "execution_count": 17,
   "metadata": {},
   "outputs": [],
   "source": [
    "def res(Td, th):\n",
    "    # input is a SE2 transform and the joint position\n",
    "    # output is a 3dim vector representing the relative twist between two SE2 elements\n",
    "    # hint: use fk_lie function that you wrote before and use the .log() function of the result interior matrix multiplication\n",
    "    return (Td.inverse() @ fk_lie(th)).log()"
   ]
  },
  {
   "cell_type": "markdown",
   "metadata": {},
   "source": [
    "Evaluate your answer. For the desired location specified above, you should get as a result is $r(T_d, \\theta) = [0.04536114, 1.25082403, 1.41371669]^\\top$"
   ]
  },
  {
   "cell_type": "code",
   "execution_count": 18,
   "metadata": {},
   "outputs": [
    {
     "data": {
      "text/plain": [
       "Array([0.04536114, 1.25082403, 1.41371669], dtype=float64)"
      ]
     },
     "execution_count": 18,
     "metadata": {},
     "output_type": "execute_result"
    }
   ],
   "source": [
    "pd = np.array([1.5,1.5,0.])\n",
    "Td = SE2.from_xy_theta(pd[0], pd[1], pd[2])\n",
    "th = np.array([np.pi/2,-np.pi/4,np.pi/5])\n",
    "\n",
    "res(Td, th)"
   ]
  },
  {
   "cell_type": "markdown",
   "metadata": {},
   "source": [
    "Using the residual function, write a function `ik_lie_newton_step` that takes in $T_d$ and $\\theta_k$ -- an estimate of $\\theta$ -- and returns $\\theta_{k+1}$ -- an update based on the iteration $\\theta_{k+1} = \\theta_k - J(\\theta)^\\dagger r(p_d, \\theta)$\n",
    "\n",
    "NOTE THAT THE UPDATE EQUATION HAS A MINUS, RATHER THAN A PLUS. \n",
    "This is due to the Jacobian being defined over the tangent space rather than with the Euclidean distance and the formulation varying slightly. The meaning still stays the same. "
   ]
  },
  {
   "cell_type": "code",
   "execution_count": 19,
   "metadata": {},
   "outputs": [],
   "source": [
    "def ik_lie_newton_step(Td, th):\n",
    "    # input is target transform in SE2 and joint angles at iteration k\n",
    "    # output is a Newton step result for IK \\theta_{k+1}\n",
    "    return th - np.linalg.pinv(jac_lie(th)) @ res(Td, th)"
   ]
  },
  {
   "cell_type": "markdown",
   "metadata": {},
   "source": [
    "## Q7 Animate Solver Iterations\n",
    "\n",
    "Write a function that iterates through the Newton's step to solve for the inverse kinematic solution where the desired end-effector pose is $T_d(p_d=[1.5, 1.5], \\phi_d=0.)$ with initial guess $\\theta_0 = [\\pi/2, -\\pi/3, \\pi/4]^\\top$. Iterate a total of 10 times with a pause of $0.5 s$ using the `time.sleep` function.\n",
    "\n",
    "Create a reference frame for the target location $T_d$ below. "
   ]
  },
  {
   "cell_type": "code",
   "execution_count": 20,
   "metadata": {},
   "outputs": [
    {
     "data": {
      "text/html": [
       "\n",
       "            <div style=\"height: 400px; width: 100%; overflow-x: auto; overflow-y: hidden; resize: both\">\n",
       "            <iframe src=\"http://127.0.0.1:7008/static/\" style=\"width: 100%; height: 100%; border: none\"></iframe>\n",
       "            </div>\n",
       "            "
      ],
      "text/plain": [
       "<IPython.core.display.HTML object>"
      ]
     },
     "execution_count": 20,
     "metadata": {},
     "output_type": "execute_result"
    }
   ],
   "source": [
    "render(robot, th)\n",
    "target_loc = vis['T_d']\n",
    "target_loc.set_transform(tf.translation_matrix(np.array([0., 1.5, 1.5])))\n",
    "target_loc.set_object(geom.triad())\n",
    "vis.jupyter_cell()"
   ]
  },
  {
   "cell_type": "markdown",
   "metadata": {},
   "source": [
    "### Write the animation code below"
   ]
  },
  {
   "cell_type": "code",
   "execution_count": 23,
   "metadata": {},
   "outputs": [
    {
     "name": "stdout",
     "output_type": "stream",
     "text": [
      "Solution : \n",
      "[ 1.53216773 -1.22653653 -0.30563121] SE2(unit_complex=[1. 0.], xy=[1.5 1.5]) [0.0000000e+00 0.0000000e+00 1.1871249e-18]\n"
     ]
    }
   ],
   "source": [
    "pd = np.array([1.5,1.5,0.])\n",
    "Td = SE2.from_xy_theta(pd[0], pd[1], pd[2])\n",
    "th = np.array([np.pi/2,-np.pi/4,np.pi/5])\n",
    "\n",
    "for _ in range(10):\n",
    "    ##########\n",
    "    # Add you newton step code here\n",
    "    ##########\n",
    "    th = ik_lie_newton_step(Td, th)\n",
    "    render(robot, th)\n",
    "    time.sleep(0.5)\n",
    "\n",
    "print('Solution : ')\n",
    "print(th, fk_lie(th), res(Td, th))"
   ]
  }
 ],
 "metadata": {
  "kernelspec": {
   "display_name": "robofun_env",
   "language": "python",
   "name": "python3"
  },
  "language_info": {
   "codemirror_mode": {
    "name": "ipython",
    "version": 3
   },
   "file_extension": ".py",
   "mimetype": "text/x-python",
   "name": "python",
   "nbconvert_exporter": "python",
   "pygments_lexer": "ipython3",
   "version": "3.11.4"
  },
  "orig_nbformat": 4
 },
 "nbformat": 4,
 "nbformat_minor": 2
}
