{
 "cells": [
  {
   "cell_type": "markdown",
   "metadata": {},
   "source": [
    "# Contact Dynamics \n",
    "\n",
    "In this homework assignment, we will introduce contact dynamics! We will explore two different systems:\n",
    "\n",
    "1. elastic impact using the double pendulum which you derived the dynamics to last week contacting a wall\n",
    "2. ineleastic impact with a square rigid body contacting the floor\n",
    "\n",
    "Visualization tools have already been provided to you for debugging. "
   ]
  },
  {
   "cell_type": "code",
   "execution_count": 1,
   "metadata": {},
   "outputs": [
    {
     "name": "stderr",
     "output_type": "stream",
     "text": [
      "No GPU/TPU found, falling back to CPU. (Set TF_CPP_MIN_LOG_LEVEL=0 and rerun for more info.)\n"
     ]
    },
    {
     "name": "stdout",
     "output_type": "stream",
     "text": [
      "Import packages works! Great work following directions :D !\n"
     ]
    }
   ],
   "source": [
    "# Import packages\n",
    "try:\n",
    "    from jax import config\n",
    "    config.update(\"jax_enable_x64\", True)\n",
    "    import meshcat\n",
    "    import meshcat.geometry as geom\n",
    "    import meshcat.transformations as tfm\n",
    "    import numpy as onp\n",
    "    import time\n",
    "    import jax.numpy as np\n",
    "    import jax\n",
    "    from jax import jacfwd, hessian\n",
    "    from jaxlie import SE2, SE3\n",
    "    import matplotlib.pyplot as plt\n",
    "    from viewer import DoublePendViewer, BlockRigidBodyViewer\n",
    "\n",
    "    print('Import packages works! Great work following directions :D !')\n",
    "except Exception as e:\n",
    "    print('Something went wrong. The following error tells you what happened. Go through README.md again and see what went wrong')\n",
    "    print(e)\n",
    "\n",
    "\n",
    "# Constants for double pendulum\n",
    "_l1 = 1.0\n",
    "_l2 = 1.0\n",
    "_m1 = 1.0\n",
    "_m2 = 1.0\n",
    "_g = 9.81\n",
    "\n",
    "# constants for the 2D square\n",
    "_m = 1.0\n",
    "_a = 0.5\n",
    "_I = (_a**4)/3.0 # moment of inertia for square\n",
    "_M = onp.diag([_m, _m, _I])\n",
    "_M_inv = np.linalg.inv(_M)\n",
    "\n",
    "# Helper functions for integration\n",
    "def rk4_step(f, x, dt):\n",
    "    \"\"\"\n",
    "        Input:\n",
    "            xdot = f(x) - function to be integrated, passed as f\n",
    "            x - initial condition to the function\n",
    "            dt - time step\n",
    "        Output:\n",
    "            x[t+dt]\n",
    "    \"\"\"\n",
    "    # one step of runge-kutta integration\n",
    "    k1 = f(x)\n",
    "    k2 = f(x + dt*k1/2)\n",
    "    k3 = f(x + dt*k2/2)\n",
    "    k4 = f(x + dt*k3)\n",
    "    xdot = x + 1/6*(k1+2*k2+2*k3+k4)*dt\n",
    "    return xdot"
   ]
  },
  {
   "cell_type": "markdown",
   "metadata": {},
   "source": [
    "## Q1. Elastic Impact with the Double Pendulum \n",
    "\n",
    "We consider the double-pendulum from the previous homework assignment as our desired model. Fill in the code below and animate the contact! Below is a diagram of the double pendulum with a wall at the vertical y-axis (when x=0). \n",
    "\n",
    "<img src=\"./Double_Pendulum_With_Wall.png\" width=\"420\">\n"
   ]
  },
  {
   "cell_type": "markdown",
   "metadata": {},
   "source": [
    "### Q1.a Fill in derived equations of motion from Lagrangian\n",
    "\n",
    "Feel free to use previous homework assignments to fill in the code below. "
   ]
  },
  {
   "cell_type": "code",
   "execution_count": 2,
   "metadata": {},
   "outputs": [],
   "source": [
    "def p1(q):\n",
    "    x1 = _l1 * np.sin(q[0])\n",
    "    y1 = -_l1 * np.cos(q[0])\n",
    "    return np.asarray([x1, y1])\n",
    "\n",
    "def p2(q):\n",
    "    x1 = _l1 * np.sin(q[0])\n",
    "    y1 = -_l1 * np.cos(q[0])\n",
    "    x2 =  x1 + _l2 * np.sin(q[0] + q[1])\n",
    "    y2 =  y1 + -_l2 * np.cos(q[0] + q[1])\n",
    "    return np.asarray([x2,y2])\n",
    "\n",
    "jac_p1 = jacfwd(p1)\n",
    "jac_p2 = jacfwd(p2)\n",
    "\n",
    "def KE_derived(q, qdot):\n",
    "    v1 = jac_p1(q)@qdot\n",
    "    v2 = jac_p2(q)@qdot\n",
    "    m1 = np.array([[_m1, 0], [0, _m1]])\n",
    "    m2 = np.array([[_m2, 0], [0, _m2]])\n",
    "\n",
    "    return 1/2 * v1.T @ m1 @ v1 + 1/2 * v2.T @ m1 @ v2\n",
    "\n",
    "def PE_derived(q):\n",
    "    _, y1 = p1(q)\n",
    "    _, y2 = p2(q)\n",
    "    return _m1 * _g * y1 + _m2 * _g * y2\n",
    "\n",
    "def L_derived(q, qdot):\n",
    "    return KE_derived(q, qdot) - PE_derived(q)\n",
    "\n",
    "M_derived = jacfwd(jacfwd(L_derived, argnums=1), argnums=1)\n",
    "C_derived = jacfwd(jacfwd(L_derived, argnums=1), argnums=0)\n",
    "G_derived = jacfwd(L_derived)\n",
    "\n",
    "def f_pendulum(x):\n",
    "    q,qdot = np.split(x, 2)\n",
    "    qddot = -np.linalg.inv(M_derived(q, qdot)) @ (C_derived(q, qdot)@ qdot - G_derived(q, qdot))\n",
    "    xdot = np.array([qdot,qddot]).reshape((4,))\n",
    "    return xdot\n",
    "    return xdot"
   ]
  },
  {
   "cell_type": "markdown",
   "metadata": {},
   "source": [
    "### Q1. b Contact condition\n",
    "Create a function for the normal contact condition $\\phi(q)$ for a vertical wall placed at $x=0$ in the world frame. Only consider contact with the center of mass at the second link. Also construct the contact normal Jacobian using `jacfwd`."
   ]
  },
  {
   "cell_type": "code",
   "execution_count": 3,
   "metadata": {},
   "outputs": [],
   "source": [
    "def phi(q):\n",
    "    \"\"\"\n",
    "        Input: q\n",
    "        Output: phi(q) distance to the contact wall\n",
    "    \"\"\"\n",
    "    # FILL IN RESPONSE HERE\n",
    "    return p2(q)[0]\n",
    "\n",
    "contact_jac = jacfwd(phi)"
   ]
  },
  {
   "cell_type": "markdown",
   "metadata": {},
   "source": [
    "Check your answer below. \n",
    "\n",
    "0.09983341664682815 [1.99500417 1.        ]"
   ]
  },
  {
   "cell_type": "code",
   "execution_count": 4,
   "metadata": {},
   "outputs": [
    {
     "name": "stdout",
     "output_type": "stream",
     "text": [
      "0.09983341664682815 [1.99500417 1.        ]\n"
     ]
    }
   ],
   "source": [
    "q_test = np.array([0.1,-0.1])\n",
    "print(\n",
    "    phi(q_test),\n",
    "    contact_jac(q_test)\n",
    ")"
   ]
  },
  {
   "cell_type": "markdown",
   "metadata": {},
   "source": [
    "### Q1. c Elastic Impact Resolution \n",
    "In this question, you will construct the impact rule for what occurs after an impact is detected. \n",
    "Recall that the conditions for an *elastic* contact require moment to be conserved and that the transfer of moment be along the normal direction. We can summarize these conditions as follows\n",
    "\n",
    "$$\n",
    "\\begin{align}\n",
    "\\frac{\\partial L}{\\partial \\dot{q}} \\Bigg\\vert_{\\tau^-}^{\\tau+} &= J(q_\\tau)^\\top\\lambda \\\\ \n",
    "\\left[ \\frac{\\partial L}{\\partial \\dot{q}} \\dot{q} - L(q, \\dot{q})\\right]_{\\tau^-}^{\\tau+} &= 0\n",
    "\\end{align}\n",
    "$$\n",
    "\n",
    "Where $J(q)$ is the contact Jacobian. Assuming a Lagrangian of the form $L(q,\\dot{q}) = \\frac{1}{2} \\dot{q}^\\top M(q) \\dot{q} - V(q)$, we can rewrite the above condition as the following impact update rule. \n",
    "\n",
    "$$\n",
    "\\dot{q}_\\tau^+ = \\dot{q}_\\tau^- + M^{-1} J^\\top \\lambda\n",
    "$$\n",
    "where the contact force is given by \n",
    "\n",
    "$$\n",
    "\\lambda = -2 \\left( J M^{-1} J^\\top \\right)^{-1} J \\dot{q}_\\tau^-\n",
    "$$\n",
    "\n",
    "Assuming a coefficient of restitution of $1$. Write the following function using the update rule above. Recall that for this example, the contact only occurs at the last mass and is a scalar in the direction of the normal direction $\\frac{\\partial \\phi}{\\partial q}$, thus the inverse is a scalar inverse. "
   ]
  },
  {
   "cell_type": "code",
   "execution_count": 5,
   "metadata": {},
   "outputs": [],
   "source": [
    "def post_impact_update(q, qdot):\n",
    "    \"\"\"\n",
    "        Input: q, qdot (minus)\n",
    "        Output: qdot (plus post impact)\n",
    "    \"\"\"\n",
    "    ### FILL IN EQUATIONS HERE\n",
    "    lambda_val = -2 * 1/(contact_jac(q) @ np.linalg.inv(M_derived(q, qdot)) @ contact_jac(q).T) * contact_jac(q) @ qdot\n",
    "\n",
    "    return qdot + np.linalg.inv(M_derived(q, qdot)) @ contact_jac(q).T * lambda_val"
   ]
  },
  {
   "cell_type": "markdown",
   "metadata": {},
   "source": [
    "Check your answer below.\n",
    "\n",
    "[ 1.1        -0.28900916]"
   ]
  },
  {
   "cell_type": "code",
   "execution_count": 6,
   "metadata": {},
   "outputs": [
    {
     "name": "stdout",
     "output_type": "stream",
     "text": [
      "[ 1.1        -0.28900916]\n"
     ]
    }
   ],
   "source": [
    "q_test = np.array([0.1,-0.1])\n",
    "qdot_test = np.array([1.1,-4.1])\n",
    "print(\n",
    "    post_impact_update(q_test, qdot_test)\n",
    ")"
   ]
  },
  {
   "cell_type": "markdown",
   "metadata": {},
   "source": [
    "### Animate the solution with meshcat"
   ]
  },
  {
   "cell_type": "code",
   "execution_count": 7,
   "metadata": {},
   "outputs": [
    {
     "name": "stdout",
     "output_type": "stream",
     "text": [
      "You can open the visualizer by visiting the following URL:\n",
      "http://127.0.0.1:7002/static/\n"
     ]
    },
    {
     "data": {
      "text/html": [
       "\n",
       "            <div style=\"height: 400px; width: 100%; overflow-x: auto; overflow-y: hidden; resize: both\">\n",
       "            <iframe src=\"http://127.0.0.1:7002/static/\" style=\"width: 100%; height: 100%; border: none\"></iframe>\n",
       "            </div>\n",
       "            "
      ],
      "text/plain": [
       "<IPython.core.display.HTML object>"
      ]
     },
     "execution_count": 7,
     "metadata": {},
     "output_type": "execute_result"
    }
   ],
   "source": [
    "viewer = DoublePendViewer()\n",
    "viewer.jupyter_cell()"
   ]
  },
  {
   "cell_type": "code",
   "execution_count": 8,
   "metadata": {},
   "outputs": [],
   "source": [
    "q = [np.pi/2, 0.]\n",
    "qdot = [0., 0.]\n",
    "x0 = np.array(q+qdot)\n",
    "dt = 0.01\n",
    "\n",
    "# joing to jit the functions here\n",
    "f_jit = jax.jit(f_pendulum)\n",
    "post_impact_update_jit = jax.jit(post_impact_update)\n",
    "\n",
    "for t in range(1000):\n",
    "    x0 = rk4_step(f_jit, x0, dt)\n",
    "    _q, _qdot = np.split(x0,2)\n",
    "    # for the elastic case, the update equations apply to qdot\n",
    "    # so they can be applied externally\n",
    "    if phi(_q) <= 0.:\n",
    "        _qdot = post_impact_update_jit(_q,_qdot)\n",
    "        x0 = np.hstack([_q,_qdot])\n",
    "    time.sleep(dt)\n",
    "    viewer.render(_q)\n"
   ]
  },
  {
   "cell_type": "markdown",
   "metadata": {},
   "source": [
    "## Q2. inelastic contact with a 2D rigid body (a square)\n",
    "\n",
    "In this example, we will consider the contact dynamics of a rigid body (a square) impacting the ground floor. Assume contact only occurs on the four corners of the square with side length $a$ (given above as a constant). To start, we will create the normal and tangent contact location functions for each possible contact. Here, the configuration of the box is $x, y, \\theta$\n",
    "\n",
    "<img src=\"./2D_Square_Contact_Dynamics.png\" width=\"420\">"
   ]
  },
  {
   "cell_type": "markdown",
   "metadata": {},
   "source": [
    "### Q2.a Contact Jacobians\n",
    "\n",
    "Here we will construct the normal and tangent contact Jacobians! We will model each contact at the corners of the square and check for contact at each iteration when stepping the dynamics. Fill in the functions below. "
   ]
  },
  {
   "cell_type": "code",
   "execution_count": 9,
   "metadata": {},
   "outputs": [],
   "source": [
    "k_d = 10.\n",
    "k_n = 800.0\n",
    "k_t = 600.\n",
    "c_f = 10.\n",
    "\n",
    "def phi_n(q):\n",
    "    \"\"\"\n",
    "        Input: q\n",
    "        Output: a list of all phi_n for all edges of the square with respect to the configuration of the square.\n",
    "    \"\"\"\n",
    "    _x, _y, _th = q\n",
    "    # FILL IN CODE HERE\n",
    "    _dl = _a/np.sqrt(2.)\n",
    "    _phi1 = _y - _dl * np.sin(np.pi/4 + _th)\n",
    "    _phi2 = _y - _dl * np.sin(7 * np.pi/4 + _th)\n",
    "    _phi3 = _y - _dl * np.sin(5 * np.pi/4 + _th)\n",
    "    _phi4 = _y - _dl * np.sin(3 * np.pi/4 + _th)\n",
    "    return [_phi1, _phi2, _phi3, _phi4]\n",
    "\n",
    "def phi_t(q):\n",
    "    \"\"\"\n",
    "        Input: q\n",
    "        Output: a list of all phi_t contact location for all edges of the square with respect to the configuration of the square.\n",
    "    \"\"\"\n",
    "    _x, _y, _th = q\n",
    "    # FILL IN CODE HERE\n",
    "    _dl = _a/np.sqrt(2.)\n",
    "    _phi1 = _x - _dl * np.cos(np.pi/4 + _th)\n",
    "    _phi2 = _x - _dl * np.cos(7 * np.pi/4 + _th)\n",
    "    _phi3 = _x - _dl * np.cos(5 * np.pi/4 + _th)\n",
    "    _phi4 = _x - _dl * np.cos(3 * np.pi/4 + _th)\n",
    "    return [_phi1, _phi2, _phi3, _phi4]\n",
    "\n",
    "# use the jacfwd function to get the contact jacobians\n",
    "# in this case, the jacfwd function is applied to each element in the list above\n",
    "J_n = jacfwd(phi_n)\n",
    "J_t = jacfwd(phi_t)\n",
    "\n",
    "# below is the contact jacobian for the ith contact point\n",
    "# this function isolates the ith point from J_n and J_t\n",
    "J_c = lambda i,q: np.vstack([J_n(q)[i], J_t(q)[i]])\n"
   ]
  },
  {
   "cell_type": "markdown",
   "metadata": {},
   "source": [
    "Check your answer below. \n",
    "\n",
    "phi_n [Array(0.01640079, dtype=float64), Array(0.19757967, dtype=float64), Array(0.66359921, dtype=float64), Array(0.48242033, dtype=float64)]\n",
    "\n",
    " phi_t [Array(0.24242033, dtype=float64), Array(-0.22359921, dtype=float64), Array(-0.04242033, dtype=float64), Array(0.42359921, dtype=float64)] \n",
    " J_n1 0.24272609986179147 \n",
    " J_t1 0.1970797630332925 \n",
    " J_n2 0.10292023696670753 \n",
    " J_t2 0.14272609986179147 \n",
    " J_n3 0.15727390013820855 \n",
    " J_t3 0.002920236966707516 \n",
    " J_n4 0.2970797630332925 \n",
    " J_t4 0.05727390013820856 "
   ]
  },
  {
   "cell_type": "code",
   "execution_count": 10,
   "metadata": {},
   "outputs": [
    {
     "name": "stdout",
     "output_type": "stream",
     "text": [
      "phi_n [Array(0.01640079, dtype=float64), Array(0.19757967, dtype=float64), Array(0.66359921, dtype=float64), Array(0.48242033, dtype=float64)] \n",
      " phi_t [Array(0.24242033, dtype=float64), Array(-0.22359921, dtype=float64), Array(-0.04242033, dtype=float64), Array(0.42359921, dtype=float64)] \n",
      " J_n1 0.24272609986179147 \n",
      " J_t1 0.1970797630332925 \n",
      " J_n2 0.10292023696670752 \n",
      " J_t2 0.14272609986179147 \n",
      " J_n3 0.15727390013820855 \n",
      " J_t3 0.0029202369667075327 \n",
      " J_n4 0.2970797630332925 \n",
      " J_t4 0.05727390013820854 \n",
      "\n"
     ]
    }
   ],
   "source": [
    "q_test = np.array([0.1, 0.34, 1.2])\n",
    "qdot_test = np.array([0.1,0.2,0.3])\n",
    "print(\n",
    "    'phi_n' , phi_n(q_test), '\\n',\n",
    "    'phi_t' , phi_t(q_test),'\\n',\n",
    "    'J_n1' , J_n(q_test)[0]@qdot_test,'\\n',\n",
    "    'J_t1' , J_t(q_test)[0]@qdot_test,'\\n',\n",
    "    'J_n2' , J_n(q_test)[1]@qdot_test,'\\n',\n",
    "    'J_t2' , J_t(q_test)[1]@qdot_test,'\\n',\n",
    "    'J_n3' , J_n(q_test)[2]@qdot_test,'\\n',\n",
    "    'J_t3' , J_t(q_test)[2]@qdot_test,'\\n',\n",
    "    'J_n4' , J_n(q_test)[3]@qdot_test,'\\n',\n",
    "    'J_t4' , J_t(q_test)[3]@qdot_test,'\\n',\n",
    ")"
   ]
  },
  {
   "cell_type": "markdown",
   "metadata": {},
   "source": [
    "### Q2.b Contact model\n",
    "\n",
    "Here we will use a soft contact model to resolve the interaction with the square impacting the floor. Since we will not be using a strict elastic model, the contact forces will be **baked** into the dynamics. Use the notes to construct the contact model. Hint, you will use the `np.maximum` function and the `np.sign` or `np.linalg.norm` functions to calculate the contact forces."
   ]
  },
  {
   "cell_type": "code",
   "execution_count": 11,
   "metadata": {},
   "outputs": [],
   "source": [
    "def contact_model(_phi_n, v_n, v_t):\n",
    "    \"\"\"\n",
    "        input:\n",
    "            phi_n - normal penetration,\n",
    "            v_n - normal velocity,\n",
    "            v_t - tangent velocity\n",
    "        output:\n",
    "            lam - contact force np.array([lam_n, lam_t])\n",
    "    \"\"\"\n",
    "    # FILL IN CODE HERE, note that lam_n and lam_t are scalars\n",
    "    # lam_n = np.maximum(0, (-k_n * _phi_n - k_d * v_n))\n",
    "    # lam_t = np.sign(v_t) * np.maximum(-k_t * lam_n, -c_f * abs(v_t))\n",
    "    # return np.array([lam_n, lam_t])"
   ]
  },
  {
   "cell_type": "markdown",
   "metadata": {},
   "source": [
    "Check your answer below. \n",
    "\n",
    "[1272.    5.]"
   ]
  },
  {
   "cell_type": "code",
   "execution_count": 12,
   "metadata": {},
   "outputs": [
    {
     "name": "stdout",
     "output_type": "stream",
     "text": [
      "[1272.    5.]\n"
     ]
    }
   ],
   "source": [
    "_phi_n_test = -1.6\n",
    "v_n_test = np.array(0.8)\n",
    "v_t_test = np.array(-0.5)\n",
    "print(\n",
    "    contact_model(_phi_n_test, v_n_test, v_t_test)\n",
    ")"
   ]
  },
  {
   "cell_type": "markdown",
   "metadata": {},
   "source": [
    "### Q2.c 2D rigid body dynamics for a square \n",
    "\n",
    "Use anyway to construct the dynamics of the rigid body. Include an if-statement for the contact conditions to be added into the equations of motion. \n",
    "\n",
    "NOTE: The simulation will be slow due to the many contact conditions. To speed things up we will use `jit` to compile singular contact functions as needed (you can't compile if-statements)."
   ]
  },
  {
   "cell_type": "code",
   "execution_count": 13,
   "metadata": {},
   "outputs": [],
   "source": [
    "J_t = jax.jit(J_t)\n",
    "J_n = jax.jit(J_n)\n",
    "phi_n = jax.jit(phi_n)\n",
    "phi_t = jax.jit(phi_t)\n",
    "contact_model = jax.jit(contact_model)\n",
    "\n",
    "def KE(q, qdot):\n",
    "    v_x, v_y, v_th = qdot\n",
    "    return (1/2) * _m * pow((np.sqrt(pow(v_x, 2) + pow(v_y, 2))), 2) + (1/2) * _I * (pow(v_th, 2))\n",
    "\n",
    "def PE(q):\n",
    "    x, y, th = q\n",
    "    return _m * _g * y\n",
    "\n",
    "def L(q, qdot):\n",
    "    return KE(q, qdot) - PE(q)\n",
    "\n",
    "C = jax.jit(jacfwd(jacfwd(L, argnums=1), argnums=0))\n",
    "G = jax.jit(jacfwd(L, argnums=0))\n",
    "\n",
    "def f_square(x):\n",
    "    \"\"\"\n",
    "        Input:\n",
    "            state = x = [q, qdot] -- the state of the system\n",
    "        Output:\n",
    "            xdot = [qdot, qddot]\n",
    "    \"\"\"\n",
    "    q,qdot = np.split(x, 2)\n",
    "\n",
    "    # FILL IN CODE HERE TO COMPUTE FREE DYNAMICS\n",
    "    qddot = np.array([0, -_g, 0])\n",
    "\n",
    "    # CHECK FOR CONTACTS HERE\n",
    "    _phi_n_list = phi_n(q)\n",
    "    # F_x collects all the contact forces in the generalized coordinates\n",
    "    # i.e., sum J_c_i^\\top lam_i\n",
    "    F_x = 0.0\n",
    "    for i, _phi_n in enumerate(_phi_n_list):\n",
    "        if _phi_n < 0.0:\n",
    "            # FILL IN CODE HERE TO COMPUTE CONTACT DYNAMICS\n",
    "\n",
    "            # add in the contact Jacobian for one active contact at a time\n",
    "            F_x = F_x + J_c(i, q).T @ contact_model(_phi_n, J_n(q)[i]@qdot, J_t(q)[i]@qdot)\n",
    "\n",
    "    if np.any(F_x != 0.0):\n",
    "        qddot = _M_inv @ (-C(q, qdot) @ qdot + G(q, qdot) + F_x)\n",
    "\n",
    "    xdot = np.hstack([qdot, qddot])\n",
    "    return xdot"
   ]
  },
  {
   "cell_type": "code",
   "execution_count": 1,
   "metadata": {},
   "outputs": [
    {
     "ename": "NameError",
     "evalue": "name 'BlockRigidBodyViewer' is not defined",
     "output_type": "error",
     "traceback": [
      "\u001b[0;31m---------------------------------------------------------------------------\u001b[0m",
      "\u001b[0;31mNameError\u001b[0m                                 Traceback (most recent call last)",
      "\u001b[1;32m/home/josh/Documents/git/ENAS-773-code/hw5/hw5.ipynb Cell 28\u001b[0m line \u001b[0;36m1\n\u001b[0;32m----> <a href='vscode-notebook-cell://ssh-remote%2B7b22686f73744e616d65223a22486f6d654465736b746f70227d/home/josh/Documents/git/ENAS-773-code/hw5/hw5.ipynb#X36sdnNjb2RlLXJlbW90ZQ%3D%3D?line=0'>1</a>\u001b[0m viewer \u001b[39m=\u001b[39m BlockRigidBodyViewer()\n\u001b[1;32m      <a href='vscode-notebook-cell://ssh-remote%2B7b22686f73744e616d65223a22486f6d654465736b746f70227d/home/josh/Documents/git/ENAS-773-code/hw5/hw5.ipynb#X36sdnNjb2RlLXJlbW90ZQ%3D%3D?line=1'>2</a>\u001b[0m viewer\u001b[39m.\u001b[39mjupyter_cell()\n",
      "\u001b[0;31mNameError\u001b[0m: name 'BlockRigidBodyViewer' is not defined"
     ]
    }
   ],
   "source": [
    "viewer = BlockRigidBodyViewer()\n",
    "viewer.jupyter_cell()"
   ]
  },
  {
   "cell_type": "markdown",
   "metadata": {},
   "source": [
    "### Animate the square"
   ]
  },
  {
   "cell_type": "code",
   "execution_count": 15,
   "metadata": {},
   "outputs": [],
   "source": [
    "tf = 4\n",
    "dt = 0.01\n",
    "N = int(tf/dt)\n",
    "q = [0., 2.0, 2.2]\n",
    "qdot = [4., 0., 0.]\n",
    "x0 = np.array(q + qdot)\n",
    "for k in range(N):\n",
    "    x0 = rk4_step(f_square, x0, dt)\n",
    "    q,qdot = np.split(x0, 2)\n",
    "    viewer.render(q)\n",
    "    time.sleep(dt)"
   ]
  }
 ],
 "metadata": {
  "kernelspec": {
   "display_name": "robofun_env",
   "language": "python",
   "name": "python3"
  },
  "language_info": {
   "codemirror_mode": {
    "name": "ipython",
    "version": 3
   },
   "file_extension": ".py",
   "mimetype": "text/x-python",
   "name": "python",
   "nbconvert_exporter": "python",
   "pygments_lexer": "ipython3",
   "version": "3.11.4"
  },
  "orig_nbformat": 4
 },
 "nbformat": 4,
 "nbformat_minor": 2
}
